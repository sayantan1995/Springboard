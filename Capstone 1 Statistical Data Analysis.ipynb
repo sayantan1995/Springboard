{
 "cells": [
  {
   "cell_type": "markdown",
   "metadata": {},
   "source": [
    "# Statistical Data Analysis"
   ]
  },
  {
   "cell_type": "code",
   "execution_count": 1,
   "metadata": {},
   "outputs": [],
   "source": [
    "import pandas as pd\n",
    "import numpy as np\n",
    "from datetime import datetime\n",
    "import matplotlib.pyplot as plt\n",
    "import json\n",
    "from pandas.io.json import json_normalize\n",
    "from scipy.stats import t, ttest_ind"
   ]
  },
  {
   "cell_type": "markdown",
   "metadata": {},
   "source": [
    "Prior to performing the statistical analysis, Let us first take a look at the box office data from the CSV file stored in the pandas DataFrame boxoffice_df. Using the built-in functions, we can explore the first five rows of the DataFrame as well as the type of data in each column."
   ]
  },
  {
   "cell_type": "code",
   "execution_count": 2,
   "metadata": {},
   "outputs": [
    {
     "data": {
      "text/html": [
       "<div>\n",
       "<style scoped>\n",
       "    .dataframe tbody tr th:only-of-type {\n",
       "        vertical-align: middle;\n",
       "    }\n",
       "\n",
       "    .dataframe tbody tr th {\n",
       "        vertical-align: top;\n",
       "    }\n",
       "\n",
       "    .dataframe thead th {\n",
       "        text-align: right;\n",
       "    }\n",
       "</style>\n",
       "<table border=\"1\" class=\"dataframe\">\n",
       "  <thead>\n",
       "    <tr style=\"text-align: right;\">\n",
       "      <th></th>\n",
       "      <th>imdbID</th>\n",
       "      <th>Title</th>\n",
       "      <th>Domestic Gross</th>\n",
       "      <th>Opening Weekend</th>\n",
       "      <th>Domestic Multiplier</th>\n",
       "      <th>Rotten Tomatoes Score</th>\n",
       "      <th>Metascore</th>\n",
       "      <th>imdbRating</th>\n",
       "      <th>imdbVotes</th>\n",
       "      <th>Year</th>\n",
       "      <th>Month</th>\n",
       "      <th>budget</th>\n",
       "      <th>popularity</th>\n",
       "      <th>vote_average</th>\n",
       "      <th>vote_count</th>\n",
       "    </tr>\n",
       "  </thead>\n",
       "  <tbody>\n",
       "    <tr>\n",
       "      <th>0</th>\n",
       "      <td>tt0114709</td>\n",
       "      <td>Toy Story</td>\n",
       "      <td>191796233.0</td>\n",
       "      <td>29140617.0</td>\n",
       "      <td>6.581749</td>\n",
       "      <td>100.0</td>\n",
       "      <td>95.0</td>\n",
       "      <td>8.3</td>\n",
       "      <td>820774.0</td>\n",
       "      <td>1995</td>\n",
       "      <td>10.0</td>\n",
       "      <td>30000000.0</td>\n",
       "      <td>21.946943</td>\n",
       "      <td>7.7</td>\n",
       "      <td>5415.0</td>\n",
       "    </tr>\n",
       "    <tr>\n",
       "      <th>1</th>\n",
       "      <td>tt0113497</td>\n",
       "      <td>Jumanji</td>\n",
       "      <td>100475249.0</td>\n",
       "      <td>11084370.0</td>\n",
       "      <td>9.064588</td>\n",
       "      <td>54.0</td>\n",
       "      <td>39.0</td>\n",
       "      <td>7.0</td>\n",
       "      <td>276338.0</td>\n",
       "      <td>1995</td>\n",
       "      <td>12.0</td>\n",
       "      <td>65000000.0</td>\n",
       "      <td>17.015539</td>\n",
       "      <td>6.9</td>\n",
       "      <td>2413.0</td>\n",
       "    </tr>\n",
       "    <tr>\n",
       "      <th>2</th>\n",
       "      <td>tt0113228</td>\n",
       "      <td>Grumpier Old Men</td>\n",
       "      <td>71518503.0</td>\n",
       "      <td>7797185.0</td>\n",
       "      <td>9.172349</td>\n",
       "      <td>17.0</td>\n",
       "      <td>46.0</td>\n",
       "      <td>6.7</td>\n",
       "      <td>22673.0</td>\n",
       "      <td>1995</td>\n",
       "      <td>12.0</td>\n",
       "      <td>NaN</td>\n",
       "      <td>11.712900</td>\n",
       "      <td>6.5</td>\n",
       "      <td>92.0</td>\n",
       "    </tr>\n",
       "    <tr>\n",
       "      <th>3</th>\n",
       "      <td>tt0114885</td>\n",
       "      <td>Waiting to Exhale</td>\n",
       "      <td>67052156.0</td>\n",
       "      <td>14126927.0</td>\n",
       "      <td>4.746408</td>\n",
       "      <td>56.0</td>\n",
       "      <td>NaN</td>\n",
       "      <td>5.9</td>\n",
       "      <td>8898.0</td>\n",
       "      <td>1995</td>\n",
       "      <td>12.0</td>\n",
       "      <td>16000000.0</td>\n",
       "      <td>3.859495</td>\n",
       "      <td>6.1</td>\n",
       "      <td>34.0</td>\n",
       "    </tr>\n",
       "    <tr>\n",
       "      <th>4</th>\n",
       "      <td>tt0113041</td>\n",
       "      <td>Father of the Bride Part II</td>\n",
       "      <td>76594107.0</td>\n",
       "      <td>11134978.0</td>\n",
       "      <td>6.878694</td>\n",
       "      <td>48.0</td>\n",
       "      <td>49.0</td>\n",
       "      <td>6.0</td>\n",
       "      <td>31909.0</td>\n",
       "      <td>1995</td>\n",
       "      <td>2.0</td>\n",
       "      <td>NaN</td>\n",
       "      <td>8.387519</td>\n",
       "      <td>5.7</td>\n",
       "      <td>173.0</td>\n",
       "    </tr>\n",
       "  </tbody>\n",
       "</table>\n",
       "</div>"
      ],
      "text/plain": [
       "      imdbID                        Title  Domestic Gross  Opening Weekend  \\\n",
       "0  tt0114709                    Toy Story     191796233.0       29140617.0   \n",
       "1  tt0113497                      Jumanji     100475249.0       11084370.0   \n",
       "2  tt0113228             Grumpier Old Men      71518503.0        7797185.0   \n",
       "3  tt0114885            Waiting to Exhale      67052156.0       14126927.0   \n",
       "4  tt0113041  Father of the Bride Part II      76594107.0       11134978.0   \n",
       "\n",
       "   Domestic Multiplier  Rotten Tomatoes Score  Metascore  imdbRating  \\\n",
       "0             6.581749                  100.0       95.0         8.3   \n",
       "1             9.064588                   54.0       39.0         7.0   \n",
       "2             9.172349                   17.0       46.0         6.7   \n",
       "3             4.746408                   56.0        NaN         5.9   \n",
       "4             6.878694                   48.0       49.0         6.0   \n",
       "\n",
       "   imdbVotes  Year  Month      budget  popularity  vote_average  vote_count  \n",
       "0   820774.0  1995   10.0  30000000.0   21.946943           7.7      5415.0  \n",
       "1   276338.0  1995   12.0  65000000.0   17.015539           6.9      2413.0  \n",
       "2    22673.0  1995   12.0         NaN   11.712900           6.5        92.0  \n",
       "3     8898.0  1995   12.0  16000000.0    3.859495           6.1        34.0  \n",
       "4    31909.0  1995    2.0         NaN    8.387519           5.7       173.0  "
      ]
     },
     "execution_count": 2,
     "metadata": {},
     "output_type": "execute_result"
    }
   ],
   "source": [
    "boxoffice_df = pd.read_csv('boxoffice.csv',index_col=0)\n",
    "boxoffice_df.head()"
   ]
  },
  {
   "cell_type": "code",
   "execution_count": 3,
   "metadata": {},
   "outputs": [
    {
     "name": "stdout",
     "output_type": "stream",
     "text": [
      "<class 'pandas.core.frame.DataFrame'>\n",
      "Int64Index: 12047 entries, 0 to 45373\n",
      "Data columns (total 15 columns):\n",
      " #   Column                 Non-Null Count  Dtype  \n",
      "---  ------                 --------------  -----  \n",
      " 0   imdbID                 10793 non-null  object \n",
      " 1   Title                  12047 non-null  object \n",
      " 2   Domestic Gross         12047 non-null  float64\n",
      " 3   Opening Weekend        11022 non-null  float64\n",
      " 4   Domestic Multiplier    11022 non-null  float64\n",
      " 5   Rotten Tomatoes Score  11248 non-null  float64\n",
      " 6   Metascore              8974 non-null   float64\n",
      " 7   imdbRating             12046 non-null  float64\n",
      " 8   imdbVotes              12045 non-null  float64\n",
      " 9   Year                   12047 non-null  int64  \n",
      " 10  Month                  12034 non-null  float64\n",
      " 11  budget                 4280 non-null   float64\n",
      " 12  popularity             12046 non-null  float64\n",
      " 13  vote_average           11884 non-null  float64\n",
      " 14  vote_count             11884 non-null  float64\n",
      "dtypes: float64(12), int64(1), object(2)\n",
      "memory usage: 1.5+ MB\n"
     ]
    }
   ],
   "source": [
    "boxoffice_df.info()"
   ]
  },
  {
   "cell_type": "markdown",
   "metadata": {},
   "source": [
    "The describe method will provide valuable statistical insight into the numerical columns of the dataset."
   ]
  },
  {
   "cell_type": "code",
   "execution_count": 4,
   "metadata": {},
   "outputs": [
    {
     "data": {
      "text/html": [
       "<div>\n",
       "<style scoped>\n",
       "    .dataframe tbody tr th:only-of-type {\n",
       "        vertical-align: middle;\n",
       "    }\n",
       "\n",
       "    .dataframe tbody tr th {\n",
       "        vertical-align: top;\n",
       "    }\n",
       "\n",
       "    .dataframe thead th {\n",
       "        text-align: right;\n",
       "    }\n",
       "</style>\n",
       "<table border=\"1\" class=\"dataframe\">\n",
       "  <thead>\n",
       "    <tr style=\"text-align: right;\">\n",
       "      <th></th>\n",
       "      <th>Domestic Gross</th>\n",
       "      <th>Opening Weekend</th>\n",
       "      <th>Domestic Multiplier</th>\n",
       "      <th>Rotten Tomatoes Score</th>\n",
       "      <th>Metascore</th>\n",
       "      <th>imdbRating</th>\n",
       "      <th>imdbVotes</th>\n",
       "      <th>Year</th>\n",
       "      <th>Month</th>\n",
       "      <th>budget</th>\n",
       "      <th>popularity</th>\n",
       "      <th>vote_average</th>\n",
       "      <th>vote_count</th>\n",
       "    </tr>\n",
       "  </thead>\n",
       "  <tbody>\n",
       "    <tr>\n",
       "      <th>count</th>\n",
       "      <td>1.204700e+04</td>\n",
       "      <td>1.102200e+04</td>\n",
       "      <td>11022.000000</td>\n",
       "      <td>11248.000000</td>\n",
       "      <td>8974.000000</td>\n",
       "      <td>12046.000000</td>\n",
       "      <td>1.204500e+04</td>\n",
       "      <td>12047.000000</td>\n",
       "      <td>12034.000000</td>\n",
       "      <td>4.280000e+03</td>\n",
       "      <td>12046.000000</td>\n",
       "      <td>11884.000000</td>\n",
       "      <td>11884.000000</td>\n",
       "    </tr>\n",
       "    <tr>\n",
       "      <th>mean</th>\n",
       "      <td>2.155059e+07</td>\n",
       "      <td>5.629878e+06</td>\n",
       "      <td>22.756284</td>\n",
       "      <td>59.125445</td>\n",
       "      <td>57.346891</td>\n",
       "      <td>6.451337</td>\n",
       "      <td>5.058787e+04</td>\n",
       "      <td>2000.622479</td>\n",
       "      <td>6.608526</td>\n",
       "      <td>2.827971e+07</td>\n",
       "      <td>4.873856</td>\n",
       "      <td>5.834239</td>\n",
       "      <td>187.550067</td>\n",
       "    </tr>\n",
       "    <tr>\n",
       "      <th>std</th>\n",
       "      <td>4.719193e+07</td>\n",
       "      <td>1.376996e+07</td>\n",
       "      <td>118.109832</td>\n",
       "      <td>27.648677</td>\n",
       "      <td>17.593263</td>\n",
       "      <td>0.984722</td>\n",
       "      <td>1.224700e+05</td>\n",
       "      <td>11.992828</td>\n",
       "      <td>3.543215</td>\n",
       "      <td>3.570818e+07</td>\n",
       "      <td>6.350835</td>\n",
       "      <td>1.628050</td>\n",
       "      <td>630.690179</td>\n",
       "    </tr>\n",
       "    <tr>\n",
       "      <th>min</th>\n",
       "      <td>3.000000e+01</td>\n",
       "      <td>2.000000e+01</td>\n",
       "      <td>0.480129</td>\n",
       "      <td>0.000000</td>\n",
       "      <td>1.000000</td>\n",
       "      <td>1.500000</td>\n",
       "      <td>1.700000e+01</td>\n",
       "      <td>1921.000000</td>\n",
       "      <td>1.000000</td>\n",
       "      <td>1.000000e+00</td>\n",
       "      <td>0.000000</td>\n",
       "      <td>0.000000</td>\n",
       "      <td>0.000000</td>\n",
       "    </tr>\n",
       "    <tr>\n",
       "      <th>25%</th>\n",
       "      <td>1.394235e+05</td>\n",
       "      <td>1.714725e+04</td>\n",
       "      <td>2.548041</td>\n",
       "      <td>37.000000</td>\n",
       "      <td>45.000000</td>\n",
       "      <td>5.900000</td>\n",
       "      <td>2.523000e+03</td>\n",
       "      <td>1993.500000</td>\n",
       "      <td>3.000000</td>\n",
       "      <td>5.000000e+06</td>\n",
       "      <td>0.874663</td>\n",
       "      <td>5.300000</td>\n",
       "      <td>6.000000</td>\n",
       "    </tr>\n",
       "    <tr>\n",
       "      <th>50%</th>\n",
       "      <td>2.479538e+06</td>\n",
       "      <td>1.940740e+05</td>\n",
       "      <td>3.960321</td>\n",
       "      <td>64.000000</td>\n",
       "      <td>59.000000</td>\n",
       "      <td>6.500000</td>\n",
       "      <td>9.456000e+03</td>\n",
       "      <td>2003.000000</td>\n",
       "      <td>7.000000</td>\n",
       "      <td>1.600000e+07</td>\n",
       "      <td>2.936555</td>\n",
       "      <td>6.100000</td>\n",
       "      <td>19.000000</td>\n",
       "    </tr>\n",
       "    <tr>\n",
       "      <th>75%</th>\n",
       "      <td>2.180542e+07</td>\n",
       "      <td>5.520745e+06</td>\n",
       "      <td>11.084361</td>\n",
       "      <td>83.000000</td>\n",
       "      <td>71.000000</td>\n",
       "      <td>7.200000</td>\n",
       "      <td>4.182100e+04</td>\n",
       "      <td>2010.000000</td>\n",
       "      <td>10.000000</td>\n",
       "      <td>3.700000e+07</td>\n",
       "      <td>7.614143</td>\n",
       "      <td>6.800000</td>\n",
       "      <td>94.000000</td>\n",
       "    </tr>\n",
       "    <tr>\n",
       "      <th>max</th>\n",
       "      <td>9.366622e+08</td>\n",
       "      <td>2.479667e+08</td>\n",
       "      <td>5757.944732</td>\n",
       "      <td>100.000000</td>\n",
       "      <td>100.000000</td>\n",
       "      <td>9.300000</td>\n",
       "      <td>2.154564e+06</td>\n",
       "      <td>2017.000000</td>\n",
       "      <td>12.000000</td>\n",
       "      <td>3.800000e+08</td>\n",
       "      <td>187.860492</td>\n",
       "      <td>10.000000</td>\n",
       "      <td>12114.000000</td>\n",
       "    </tr>\n",
       "  </tbody>\n",
       "</table>\n",
       "</div>"
      ],
      "text/plain": [
       "       Domestic Gross  Opening Weekend  Domestic Multiplier  \\\n",
       "count    1.204700e+04     1.102200e+04         11022.000000   \n",
       "mean     2.155059e+07     5.629878e+06            22.756284   \n",
       "std      4.719193e+07     1.376996e+07           118.109832   \n",
       "min      3.000000e+01     2.000000e+01             0.480129   \n",
       "25%      1.394235e+05     1.714725e+04             2.548041   \n",
       "50%      2.479538e+06     1.940740e+05             3.960321   \n",
       "75%      2.180542e+07     5.520745e+06            11.084361   \n",
       "max      9.366622e+08     2.479667e+08          5757.944732   \n",
       "\n",
       "       Rotten Tomatoes Score    Metascore    imdbRating     imdbVotes  \\\n",
       "count           11248.000000  8974.000000  12046.000000  1.204500e+04   \n",
       "mean               59.125445    57.346891      6.451337  5.058787e+04   \n",
       "std                27.648677    17.593263      0.984722  1.224700e+05   \n",
       "min                 0.000000     1.000000      1.500000  1.700000e+01   \n",
       "25%                37.000000    45.000000      5.900000  2.523000e+03   \n",
       "50%                64.000000    59.000000      6.500000  9.456000e+03   \n",
       "75%                83.000000    71.000000      7.200000  4.182100e+04   \n",
       "max               100.000000   100.000000      9.300000  2.154564e+06   \n",
       "\n",
       "               Year         Month        budget    popularity  vote_average  \\\n",
       "count  12047.000000  12034.000000  4.280000e+03  12046.000000  11884.000000   \n",
       "mean    2000.622479      6.608526  2.827971e+07      4.873856      5.834239   \n",
       "std       11.992828      3.543215  3.570818e+07      6.350835      1.628050   \n",
       "min     1921.000000      1.000000  1.000000e+00      0.000000      0.000000   \n",
       "25%     1993.500000      3.000000  5.000000e+06      0.874663      5.300000   \n",
       "50%     2003.000000      7.000000  1.600000e+07      2.936555      6.100000   \n",
       "75%     2010.000000     10.000000  3.700000e+07      7.614143      6.800000   \n",
       "max     2017.000000     12.000000  3.800000e+08    187.860492     10.000000   \n",
       "\n",
       "         vote_count  \n",
       "count  11884.000000  \n",
       "mean     187.550067  \n",
       "std      630.690179  \n",
       "min        0.000000  \n",
       "25%        6.000000  \n",
       "50%       19.000000  \n",
       "75%       94.000000  \n",
       "max    12114.000000  "
      ]
     },
     "execution_count": 4,
     "metadata": {},
     "output_type": "execute_result"
    }
   ],
   "source": [
    "boxoffice_df.describe()"
   ]
  },
  {
   "cell_type": "markdown",
   "metadata": {},
   "source": [
    "The graph below is the histogram for the domestic box office gross for all the films in the dataset."
   ]
  },
  {
   "cell_type": "code",
   "execution_count": 5,
   "metadata": {},
   "outputs": [
    {
     "data": {
      "image/png": "[encoded data removed]",
      "text/plain": [
       "<Figure size 720x720 with 1 Axes>"
      ]
     },
     "metadata": {
      "needs_background": "light"
     },
     "output_type": "display_data"
    }
   ],
   "source": [
    "_ = plt.figure(figsize=(10,10))\n",
    "_ = plt.hist(boxoffice_df['Domestic Gross']/1000000)\n",
    "_ = plt.title('Domestic Gross Historgram')\n",
    "_ = plt.xlabel('Domestic Gross (Million)')\n",
    "_ = plt.ylabel('Number of Films')\n",
    "_ = plt.ylim(0,12500)\n",
    "plt.show()"
   ]
  },
  {
   "cell_type": "code",
   "execution_count": 6,
   "metadata": {},
   "outputs": [
    {
     "name": "stdout",
     "output_type": "stream",
     "text": [
      "The Domestic Gross Mean:  21550590.411471736\n",
      "The Domestic Gross STD:  47191928.34335942\n"
     ]
    }
   ],
   "source": [
    "gross_mean = boxoffice_df['Domestic Gross'].mean()\n",
    "gross_std = boxoffice_df['Domestic Gross'].std()\n",
    "print('The Domestic Gross Mean: ',gross_mean)\n",
    "print('The Domestic Gross STD: ',gross_std)"
   ]
  },
  {
   "cell_type": "markdown",
   "metadata": {},
   "source": [
    "As can be observed from the histogram, a majority of the films in the dataset have a domestic gross under 100 million. While the mean domestic gross is 21.5 million, the standard deviation in domestic gross is far larger at 47.2 million."
   ]
  },
  {
   "cell_type": "code",
   "execution_count": 7,
   "metadata": {},
   "outputs": [
    {
     "data": {
      "text/plain": [
       "20843314.40459191"
      ]
     },
     "execution_count": 7,
     "metadata": {},
     "output_type": "execute_result"
    }
   ],
   "source": [
    "n = len(boxoffice_df['Domestic Gross'])\n",
    "critical_value = t(n-1).ppf(0.95)\n",
    "gross_mean - critical_value/np.sqrt(n) * gross_std"
   ]
  },
  {
   "cell_type": "markdown",
   "metadata": {},
   "source": [
    "To test whether domestic gross and critical reception are indeed independent, the dataset is split into two subsets. The good reception dataset contains films that have garnered a Rotten Tomato score of 80 percent or higher. The bad reception dataset contains films with a Rotten Tomatoes score of 40 or less."
   ]
  },
  {
   "cell_type": "code",
   "execution_count": 8,
   "metadata": {},
   "outputs": [
    {
     "data": {
      "text/plain": [
       "Ttest_indResult(statistic=1.3780678450897141, pvalue=0.168228603182457)"
      ]
     },
     "execution_count": 8,
     "metadata": {},
     "output_type": "execute_result"
    }
   ],
   "source": [
    "good_reception = boxoffice_df[boxoffice_df['Rotten Tomatoes Score'] >= 80]\n",
    "bad_reception = boxoffice_df[boxoffice_df['Rotten Tomatoes Score'] <= 40]\n",
    "ttest_ind(good_reception['Domestic Gross'], bad_reception['Domestic Gross'])"
   ]
  },
  {
   "cell_type": "code",
   "execution_count": 9,
   "metadata": {},
   "outputs": [
    {
     "data": {
      "text/plain": [
       "Ttest_indResult(statistic=1.406879222081442, pvalue=0.15951933367412133)"
      ]
     },
     "execution_count": 9,
     "metadata": {},
     "output_type": "execute_result"
    }
   ],
   "source": [
    "ttest_ind(good_reception['Domestic Gross'], bad_reception['Domestic Gross'], equal_var= False)"
   ]
  },
  {
   "cell_type": "code",
   "execution_count": 10,
   "metadata": {},
   "outputs": [
    {
     "name": "stdout",
     "output_type": "stream",
     "text": [
      "<class 'pandas.core.frame.DataFrame'>\n",
      "Int64Index: 3466 entries, 0 to 45263\n",
      "Data columns (total 15 columns):\n",
      " #   Column                 Non-Null Count  Dtype  \n",
      "---  ------                 --------------  -----  \n",
      " 0   imdbID                 3139 non-null   object \n",
      " 1   Title                  3466 non-null   object \n",
      " 2   Domestic Gross         3466 non-null   float64\n",
      " 3   Opening Weekend        3035 non-null   float64\n",
      " 4   Domestic Multiplier    3035 non-null   float64\n",
      " 5   Rotten Tomatoes Score  3466 non-null   float64\n",
      " 6   Metascore              2842 non-null   float64\n",
      " 7   imdbRating             3466 non-null   float64\n",
      " 8   imdbVotes              3465 non-null   float64\n",
      " 9   Year                   3466 non-null   int64  \n",
      " 10  Month                  3463 non-null   float64\n",
      " 11  budget                 1176 non-null   float64\n",
      " 12  popularity             3465 non-null   float64\n",
      " 13  vote_average           3409 non-null   float64\n",
      " 14  vote_count             3409 non-null   float64\n",
      "dtypes: float64(12), int64(1), object(2)\n",
      "memory usage: 433.2+ KB\n"
     ]
    }
   ],
   "source": [
    "good_reception.info()"
   ]
  },
  {
   "cell_type": "code",
   "execution_count": 11,
   "metadata": {},
   "outputs": [
    {
     "name": "stdout",
     "output_type": "stream",
     "text": [
      "<class 'pandas.core.frame.DataFrame'>\n",
      "Int64Index: 3201 entries, 2 to 45373\n",
      "Data columns (total 15 columns):\n",
      " #   Column                 Non-Null Count  Dtype  \n",
      "---  ------                 --------------  -----  \n",
      " 0   imdbID                 2825 non-null   object \n",
      " 1   Title                  3201 non-null   object \n",
      " 2   Domestic Gross         3201 non-null   float64\n",
      " 3   Opening Weekend        3075 non-null   float64\n",
      " 4   Domestic Multiplier    3075 non-null   float64\n",
      " 5   Rotten Tomatoes Score  3201 non-null   float64\n",
      " 6   Metascore              2364 non-null   float64\n",
      " 7   imdbRating             3201 non-null   float64\n",
      " 8   imdbVotes              3201 non-null   float64\n",
      " 9   Year                   3201 non-null   int64  \n",
      " 10  Month                  3198 non-null   float64\n",
      " 11  budget                 1289 non-null   float64\n",
      " 12  popularity             3201 non-null   float64\n",
      " 13  vote_average           3174 non-null   float64\n",
      " 14  vote_count             3174 non-null   float64\n",
      "dtypes: float64(12), int64(1), object(2)\n",
      "memory usage: 400.1+ KB\n"
     ]
    }
   ],
   "source": [
    "bad_reception.info()"
   ]
  },
  {
   "cell_type": "code",
   "execution_count": 12,
   "metadata": {},
   "outputs": [
    {
     "data": {
      "text/html": [
       "<div>\n",
       "<style scoped>\n",
       "    .dataframe tbody tr th:only-of-type {\n",
       "        vertical-align: middle;\n",
       "    }\n",
       "\n",
       "    .dataframe tbody tr th {\n",
       "        vertical-align: top;\n",
       "    }\n",
       "\n",
       "    .dataframe thead th {\n",
       "        text-align: right;\n",
       "    }\n",
       "</style>\n",
       "<table border=\"1\" class=\"dataframe\">\n",
       "  <thead>\n",
       "    <tr style=\"text-align: right;\">\n",
       "      <th></th>\n",
       "      <th>Domestic Gross</th>\n",
       "      <th>Opening Weekend</th>\n",
       "      <th>Domestic Multiplier</th>\n",
       "      <th>Rotten Tomatoes Score</th>\n",
       "      <th>Metascore</th>\n",
       "      <th>imdbRating</th>\n",
       "      <th>imdbVotes</th>\n",
       "      <th>Year</th>\n",
       "      <th>Month</th>\n",
       "      <th>budget</th>\n",
       "      <th>popularity</th>\n",
       "      <th>vote_average</th>\n",
       "      <th>vote_count</th>\n",
       "    </tr>\n",
       "  </thead>\n",
       "  <tbody>\n",
       "    <tr>\n",
       "      <th>count</th>\n",
       "      <td>3.466000e+03</td>\n",
       "      <td>3.035000e+03</td>\n",
       "      <td>3035.000000</td>\n",
       "      <td>3466.000000</td>\n",
       "      <td>2842.000000</td>\n",
       "      <td>3466.000000</td>\n",
       "      <td>3.465000e+03</td>\n",
       "      <td>3466.000000</td>\n",
       "      <td>3463.000000</td>\n",
       "      <td>1.176000e+03</td>\n",
       "      <td>3465.000000</td>\n",
       "      <td>3409.000000</td>\n",
       "      <td>3409.000000</td>\n",
       "    </tr>\n",
       "    <tr>\n",
       "      <th>mean</th>\n",
       "      <td>2.316840e+07</td>\n",
       "      <td>4.279396e+06</td>\n",
       "      <td>45.944776</td>\n",
       "      <td>89.490190</td>\n",
       "      <td>75.116467</td>\n",
       "      <td>7.273226</td>\n",
       "      <td>7.734689e+04</td>\n",
       "      <td>1999.545297</td>\n",
       "      <td>6.707479</td>\n",
       "      <td>2.222310e+07</td>\n",
       "      <td>5.185152</td>\n",
       "      <td>6.133940</td>\n",
       "      <td>270.513934</td>\n",
       "    </tr>\n",
       "    <tr>\n",
       "      <th>std</th>\n",
       "      <td>5.943677e+07</td>\n",
       "      <td>1.605748e+07</td>\n",
       "      <td>137.967082</td>\n",
       "      <td>5.937582</td>\n",
       "      <td>8.923202</td>\n",
       "      <td>0.562153</td>\n",
       "      <td>1.804204e+05</td>\n",
       "      <td>14.983448</td>\n",
       "      <td>3.581545</td>\n",
       "      <td>3.518259e+07</td>\n",
       "      <td>7.978518</td>\n",
       "      <td>1.668364</td>\n",
       "      <td>838.616270</td>\n",
       "    </tr>\n",
       "    <tr>\n",
       "      <th>min</th>\n",
       "      <td>5.820000e+02</td>\n",
       "      <td>3.000000e+01</td>\n",
       "      <td>0.480129</td>\n",
       "      <td>80.000000</td>\n",
       "      <td>31.000000</td>\n",
       "      <td>4.600000</td>\n",
       "      <td>3.800000e+01</td>\n",
       "      <td>1921.000000</td>\n",
       "      <td>1.000000</td>\n",
       "      <td>1.000000e+00</td>\n",
       "      <td>0.000000</td>\n",
       "      <td>0.000000</td>\n",
       "      <td>0.000000</td>\n",
       "    </tr>\n",
       "    <tr>\n",
       "      <th>25%</th>\n",
       "      <td>1.121642e+05</td>\n",
       "      <td>1.081050e+04</td>\n",
       "      <td>4.424689</td>\n",
       "      <td>85.000000</td>\n",
       "      <td>69.000000</td>\n",
       "      <td>6.900000</td>\n",
       "      <td>2.634000e+03</td>\n",
       "      <td>1992.000000</td>\n",
       "      <td>3.500000</td>\n",
       "      <td>3.000000e+06</td>\n",
       "      <td>0.861473</td>\n",
       "      <td>5.600000</td>\n",
       "      <td>6.000000</td>\n",
       "    </tr>\n",
       "    <tr>\n",
       "      <th>50%</th>\n",
       "      <td>1.197272e+06</td>\n",
       "      <td>4.116500e+04</td>\n",
       "      <td>10.968051</td>\n",
       "      <td>89.000000</td>\n",
       "      <td>75.000000</td>\n",
       "      <td>7.300000</td>\n",
       "      <td>1.100400e+04</td>\n",
       "      <td>2004.000000</td>\n",
       "      <td>7.000000</td>\n",
       "      <td>1.000000e+07</td>\n",
       "      <td>2.908434</td>\n",
       "      <td>6.500000</td>\n",
       "      <td>22.000000</td>\n",
       "    </tr>\n",
       "    <tr>\n",
       "      <th>75%</th>\n",
       "      <td>1.675281e+07</td>\n",
       "      <td>3.655845e+05</td>\n",
       "      <td>34.298741</td>\n",
       "      <td>94.000000</td>\n",
       "      <td>81.000000</td>\n",
       "      <td>7.700000</td>\n",
       "      <td>5.655000e+04</td>\n",
       "      <td>2011.000000</td>\n",
       "      <td>10.000000</td>\n",
       "      <td>2.600000e+07</td>\n",
       "      <td>7.772505</td>\n",
       "      <td>7.100000</td>\n",
       "      <td>122.000000</td>\n",
       "    </tr>\n",
       "    <tr>\n",
       "      <th>max</th>\n",
       "      <td>9.366622e+08</td>\n",
       "      <td>2.479667e+08</td>\n",
       "      <td>4468.300000</td>\n",
       "      <td>100.000000</td>\n",
       "      <td>100.000000</td>\n",
       "      <td>9.300000</td>\n",
       "      <td>2.154564e+06</td>\n",
       "      <td>2017.000000</td>\n",
       "      <td>12.000000</td>\n",
       "      <td>3.800000e+08</td>\n",
       "      <td>187.860492</td>\n",
       "      <td>10.000000</td>\n",
       "      <td>11444.000000</td>\n",
       "    </tr>\n",
       "  </tbody>\n",
       "</table>\n",
       "</div>"
      ],
      "text/plain": [
       "       Domestic Gross  Opening Weekend  Domestic Multiplier  \\\n",
       "count    3.466000e+03     3.035000e+03          3035.000000   \n",
       "mean     2.316840e+07     4.279396e+06            45.944776   \n",
       "std      5.943677e+07     1.605748e+07           137.967082   \n",
       "min      5.820000e+02     3.000000e+01             0.480129   \n",
       "25%      1.121642e+05     1.081050e+04             4.424689   \n",
       "50%      1.197272e+06     4.116500e+04            10.968051   \n",
       "75%      1.675281e+07     3.655845e+05            34.298741   \n",
       "max      9.366622e+08     2.479667e+08          4468.300000   \n",
       "\n",
       "       Rotten Tomatoes Score    Metascore   imdbRating     imdbVotes  \\\n",
       "count            3466.000000  2842.000000  3466.000000  3.465000e+03   \n",
       "mean               89.490190    75.116467     7.273226  7.734689e+04   \n",
       "std                 5.937582     8.923202     0.562153  1.804204e+05   \n",
       "min                80.000000    31.000000     4.600000  3.800000e+01   \n",
       "25%                85.000000    69.000000     6.900000  2.634000e+03   \n",
       "50%                89.000000    75.000000     7.300000  1.100400e+04   \n",
       "75%                94.000000    81.000000     7.700000  5.655000e+04   \n",
       "max               100.000000   100.000000     9.300000  2.154564e+06   \n",
       "\n",
       "              Year        Month        budget   popularity  vote_average  \\\n",
       "count  3466.000000  3463.000000  1.176000e+03  3465.000000   3409.000000   \n",
       "mean   1999.545297     6.707479  2.222310e+07     5.185152      6.133940   \n",
       "std      14.983448     3.581545  3.518259e+07     7.978518      1.668364   \n",
       "min    1921.000000     1.000000  1.000000e+00     0.000000      0.000000   \n",
       "25%    1992.000000     3.500000  3.000000e+06     0.861473      5.600000   \n",
       "50%    2004.000000     7.000000  1.000000e+07     2.908434      6.500000   \n",
       "75%    2011.000000    10.000000  2.600000e+07     7.772505      7.100000   \n",
       "max    2017.000000    12.000000  3.800000e+08   187.860492     10.000000   \n",
       "\n",
       "         vote_count  \n",
       "count   3409.000000  \n",
       "mean     270.513934  \n",
       "std      838.616270  \n",
       "min        0.000000  \n",
       "25%        6.000000  \n",
       "50%       22.000000  \n",
       "75%      122.000000  \n",
       "max    11444.000000  "
      ]
     },
     "execution_count": 12,
     "metadata": {},
     "output_type": "execute_result"
    }
   ],
   "source": [
    "good_reception.describe()"
   ]
  },
  {
   "cell_type": "code",
   "execution_count": 13,
   "metadata": {},
   "outputs": [
    {
     "data": {
      "text/html": [
       "<div>\n",
       "<style scoped>\n",
       "    .dataframe tbody tr th:only-of-type {\n",
       "        vertical-align: middle;\n",
       "    }\n",
       "\n",
       "    .dataframe tbody tr th {\n",
       "        vertical-align: top;\n",
       "    }\n",
       "\n",
       "    .dataframe thead th {\n",
       "        text-align: right;\n",
       "    }\n",
       "</style>\n",
       "<table border=\"1\" class=\"dataframe\">\n",
       "  <thead>\n",
       "    <tr style=\"text-align: right;\">\n",
       "      <th></th>\n",
       "      <th>Domestic Gross</th>\n",
       "      <th>Opening Weekend</th>\n",
       "      <th>Domestic Multiplier</th>\n",
       "      <th>Rotten Tomatoes Score</th>\n",
       "      <th>Metascore</th>\n",
       "      <th>imdbRating</th>\n",
       "      <th>imdbVotes</th>\n",
       "      <th>Year</th>\n",
       "      <th>Month</th>\n",
       "      <th>budget</th>\n",
       "      <th>popularity</th>\n",
       "      <th>vote_average</th>\n",
       "      <th>vote_count</th>\n",
       "    </tr>\n",
       "  </thead>\n",
       "  <tbody>\n",
       "    <tr>\n",
       "      <th>count</th>\n",
       "      <td>3.201000e+03</td>\n",
       "      <td>3.075000e+03</td>\n",
       "      <td>3075.000000</td>\n",
       "      <td>3201.000000</td>\n",
       "      <td>2364.000000</td>\n",
       "      <td>3201.000000</td>\n",
       "      <td>3201.000000</td>\n",
       "      <td>3201.000000</td>\n",
       "      <td>3198.000000</td>\n",
       "      <td>1.289000e+03</td>\n",
       "      <td>3201.000000</td>\n",
       "      <td>3174.000000</td>\n",
       "      <td>3174.000000</td>\n",
       "    </tr>\n",
       "    <tr>\n",
       "      <th>mean</th>\n",
       "      <td>2.152327e+07</td>\n",
       "      <td>7.074535e+06</td>\n",
       "      <td>9.218121</td>\n",
       "      <td>22.641674</td>\n",
       "      <td>36.135364</td>\n",
       "      <td>5.568229</td>\n",
       "      <td>32829.632615</td>\n",
       "      <td>2001.290847</td>\n",
       "      <td>6.433709</td>\n",
       "      <td>3.184953e+07</td>\n",
       "      <td>5.024167</td>\n",
       "      <td>5.560996</td>\n",
       "      <td>141.731884</td>\n",
       "    </tr>\n",
       "    <tr>\n",
       "      <th>std</th>\n",
       "      <td>3.338150e+07</td>\n",
       "      <td>1.103892e+07</td>\n",
       "      <td>121.059249</td>\n",
       "      <td>11.393255</td>\n",
       "      <td>10.499958</td>\n",
       "      <td>0.871037</td>\n",
       "      <td>52832.423887</td>\n",
       "      <td>9.585442</td>\n",
       "      <td>3.520237</td>\n",
       "      <td>3.544222e+07</td>\n",
       "      <td>6.082289</td>\n",
       "      <td>1.485820</td>\n",
       "      <td>484.931274</td>\n",
       "    </tr>\n",
       "    <tr>\n",
       "      <th>min</th>\n",
       "      <td>9.500000e+01</td>\n",
       "      <td>8.800000e+01</td>\n",
       "      <td>0.999984</td>\n",
       "      <td>0.000000</td>\n",
       "      <td>1.000000</td>\n",
       "      <td>1.500000</td>\n",
       "      <td>19.000000</td>\n",
       "      <td>1953.000000</td>\n",
       "      <td>1.000000</td>\n",
       "      <td>1.000000e+00</td>\n",
       "      <td>0.000000</td>\n",
       "      <td>0.000000</td>\n",
       "      <td>0.000000</td>\n",
       "    </tr>\n",
       "    <tr>\n",
       "      <th>25%</th>\n",
       "      <td>5.163490e+05</td>\n",
       "      <td>1.270960e+05</td>\n",
       "      <td>2.161899</td>\n",
       "      <td>14.000000</td>\n",
       "      <td>30.000000</td>\n",
       "      <td>5.100000</td>\n",
       "      <td>3752.000000</td>\n",
       "      <td>1994.000000</td>\n",
       "      <td>3.000000</td>\n",
       "      <td>8.500000e+06</td>\n",
       "      <td>1.136027</td>\n",
       "      <td>5.000000</td>\n",
       "      <td>7.000000</td>\n",
       "    </tr>\n",
       "    <tr>\n",
       "      <th>50%</th>\n",
       "      <td>9.623329e+06</td>\n",
       "      <td>3.427840e+06</td>\n",
       "      <td>2.715404</td>\n",
       "      <td>23.000000</td>\n",
       "      <td>37.000000</td>\n",
       "      <td>5.700000</td>\n",
       "      <td>11738.000000</td>\n",
       "      <td>2003.000000</td>\n",
       "      <td>7.000000</td>\n",
       "      <td>2.000000e+07</td>\n",
       "      <td>3.713996</td>\n",
       "      <td>5.700000</td>\n",
       "      <td>23.000000</td>\n",
       "    </tr>\n",
       "    <tr>\n",
       "      <th>75%</th>\n",
       "      <td>2.856500e+07</td>\n",
       "      <td>9.351290e+06</td>\n",
       "      <td>3.715458</td>\n",
       "      <td>33.000000</td>\n",
       "      <td>44.000000</td>\n",
       "      <td>6.200000</td>\n",
       "      <td>37915.000000</td>\n",
       "      <td>2009.000000</td>\n",
       "      <td>9.000000</td>\n",
       "      <td>4.000000e+07</td>\n",
       "      <td>7.756334</td>\n",
       "      <td>6.400000</td>\n",
       "      <td>91.000000</td>\n",
       "    </tr>\n",
       "    <tr>\n",
       "      <th>max</th>\n",
       "      <td>4.021119e+08</td>\n",
       "      <td>1.428391e+08</td>\n",
       "      <td>5757.944732</td>\n",
       "      <td>40.000000</td>\n",
       "      <td>68.000000</td>\n",
       "      <td>8.300000</td>\n",
       "      <td>455175.000000</td>\n",
       "      <td>2017.000000</td>\n",
       "      <td>12.000000</td>\n",
       "      <td>2.580000e+08</td>\n",
       "      <td>185.070892</td>\n",
       "      <td>10.000000</td>\n",
       "      <td>12114.000000</td>\n",
       "    </tr>\n",
       "  </tbody>\n",
       "</table>\n",
       "</div>"
      ],
      "text/plain": [
       "       Domestic Gross  Opening Weekend  Domestic Multiplier  \\\n",
       "count    3.201000e+03     3.075000e+03          3075.000000   \n",
       "mean     2.152327e+07     7.074535e+06             9.218121   \n",
       "std      3.338150e+07     1.103892e+07           121.059249   \n",
       "min      9.500000e+01     8.800000e+01             0.999984   \n",
       "25%      5.163490e+05     1.270960e+05             2.161899   \n",
       "50%      9.623329e+06     3.427840e+06             2.715404   \n",
       "75%      2.856500e+07     9.351290e+06             3.715458   \n",
       "max      4.021119e+08     1.428391e+08          5757.944732   \n",
       "\n",
       "       Rotten Tomatoes Score    Metascore   imdbRating      imdbVotes  \\\n",
       "count            3201.000000  2364.000000  3201.000000    3201.000000   \n",
       "mean               22.641674    36.135364     5.568229   32829.632615   \n",
       "std                11.393255    10.499958     0.871037   52832.423887   \n",
       "min                 0.000000     1.000000     1.500000      19.000000   \n",
       "25%                14.000000    30.000000     5.100000    3752.000000   \n",
       "50%                23.000000    37.000000     5.700000   11738.000000   \n",
       "75%                33.000000    44.000000     6.200000   37915.000000   \n",
       "max                40.000000    68.000000     8.300000  455175.000000   \n",
       "\n",
       "              Year        Month        budget   popularity  vote_average  \\\n",
       "count  3201.000000  3198.000000  1.289000e+03  3201.000000   3174.000000   \n",
       "mean   2001.290847     6.433709  3.184953e+07     5.024167      5.560996   \n",
       "std       9.585442     3.520237  3.544222e+07     6.082289      1.485820   \n",
       "min    1953.000000     1.000000  1.000000e+00     0.000000      0.000000   \n",
       "25%    1994.000000     3.000000  8.500000e+06     1.136027      5.000000   \n",
       "50%    2003.000000     7.000000  2.000000e+07     3.713996      5.700000   \n",
       "75%    2009.000000     9.000000  4.000000e+07     7.756334      6.400000   \n",
       "max    2017.000000    12.000000  2.580000e+08   185.070892     10.000000   \n",
       "\n",
       "         vote_count  \n",
       "count   3174.000000  \n",
       "mean     141.731884  \n",
       "std      484.931274  \n",
       "min        0.000000  \n",
       "25%        7.000000  \n",
       "50%       23.000000  \n",
       "75%       91.000000  \n",
       "max    12114.000000  "
      ]
     },
     "execution_count": 13,
     "metadata": {},
     "output_type": "execute_result"
    }
   ],
   "source": [
    "bad_reception.describe()"
   ]
  },
  {
   "cell_type": "markdown",
   "metadata": {},
   "source": [
    "The graph below compares the domestic gross of films with positive critical reception and those with negative critical reception."
   ]
  },
  {
   "cell_type": "code",
   "execution_count": 14,
   "metadata": {},
   "outputs": [
    {
     "data": {
      "image/png": "[encoded data removed]",
      "text/plain": [
       "<Figure size 720x360 with 1 Axes>"
      ]
     },
     "metadata": {
      "needs_background": "light"
     },
     "output_type": "display_data"
    }
   ],
   "source": [
    "_ = plt.figure(figsize=(10,5))\n",
    "_ = plt.scatter(good_reception['Opening Weekend']/1000000, good_reception['Domestic Gross']/1000000, label='Good Reception')\n",
    "_ = plt.scatter(bad_reception['Opening Weekend']/1000000, bad_reception['Domestic Gross']/1000000, label='Bad Reception')\n",
    "_ = plt.xlabel('Opening Weekend Gross (Millions)')\n",
    "_ = plt.ylabel('Total Domestic Gross (Millions)')\n",
    "_ = plt.title('Box Office Performance of Films with Good and Bad Reception')\n",
    "_ = plt.legend()"
   ]
  },
  {
   "cell_type": "markdown",
   "metadata": {},
   "source": [
    "As can be observed, there does exist some separation between the films with positive and negative reception. This difference visually is not striking, using inferential and frequentist statistical techniques involving 10,000 replicates let us statistically analyze the difference in these two subsets. "
   ]
  },
  {
   "cell_type": "code",
   "execution_count": 15,
   "metadata": {},
   "outputs": [
    {
     "data": {
      "text/plain": [
       "array([20724001.08044326, 22401433.42465552])"
      ]
     },
     "execution_count": 15,
     "metadata": {},
     "output_type": "execute_result"
    }
   ],
   "source": [
    "np.random.seed(47)\n",
    "N_rep = 10000\n",
    "mean_replicates = np.empty(N_rep)\n",
    "for i in range(N_rep):\n",
    "    mean_replicates[i] = np.mean(np.random.choice(boxoffice_df['Domestic Gross'],n))\n",
    "gross_confidence_interval = np.percentile(mean_replicates,[2.5,97.5])\n",
    "gross_confidence_interval"
   ]
  },
  {
   "cell_type": "code",
   "execution_count": 16,
   "metadata": {},
   "outputs": [
    {
     "data": {
      "text/plain": [
       "array([19132344.57011372, 33429680.43865272])"
      ]
     },
     "execution_count": 16,
     "metadata": {},
     "output_type": "execute_result"
    }
   ],
   "source": [
    "np.random.seed(47)\n",
    "diff_std_replicates = np.empty(N_rep)\n",
    "for i in range(N_rep):\n",
    "    good_sample = np.random.choice(good_reception['Domestic Gross'], len(good_reception['Domestic Gross']))\n",
    "    bad_sample = np.random.choice(bad_reception['Domestic Gross'], len(bad_reception['Domestic Gross']))\n",
    "    diff_std_replicates[i] = np.std(good_sample) - np.std(bad_sample)\n",
    "confidence_interval = np.percentile(diff_std_replicates,[2.5,97.5])\n",
    "confidence_interval"
   ]
  },
  {
   "cell_type": "code",
   "execution_count": 17,
   "metadata": {},
   "outputs": [
    {
     "data": {
      "image/png": "[encoded data removed]",
      "text/plain": [
       "<Figure size 720x360 with 1 Axes>"
      ]
     },
     "metadata": {
      "needs_background": "light"
     },
     "output_type": "display_data"
    }
   ],
   "source": [
    "_ = plt.figure(figsize=(10,5))\n",
    "_ = plt.hist(diff_std_replicates,bins=25)\n",
    "_ = plt.title('Difference of Postive and Negative Rated Films from Critics ')\n",
    "_ = plt.xlabel('Differene in Standard Deviation')\n",
    "_ = plt.ylabel('Number of Films')\n",
    "_ = plt.ticklabel_format(useOffset=False, style='plain')\n",
    "_ = plt.axvline(np.mean(diff_std_replicates),color='r')\n",
    "_ = plt.axvline(confidence_interval[0],color='r',linestyle='--')\n",
    "_ = plt.axvline(confidence_interval[1],color='r',linestyle='--')"
   ]
  },
  {
   "cell_type": "code",
   "execution_count": 18,
   "metadata": {},
   "outputs": [
    {
     "data": {
      "text/plain": [
       "1645128.6118958443"
      ]
     },
     "execution_count": 18,
     "metadata": {},
     "output_type": "execute_result"
    }
   ],
   "source": [
    "mean_diff = np.mean(good_reception['Domestic Gross']) - np.mean(bad_reception['Domestic Gross'])\n",
    "mean_diff"
   ]
  },
  {
   "cell_type": "code",
   "execution_count": 19,
   "metadata": {},
   "outputs": [],
   "source": [
    "np.random.seed(47)\n",
    "bad_shifted = bad_reception['Domestic Gross'] - np.mean(bad_reception['Domestic Gross']) + np.mean(good_reception['Domestic Gross'])"
   ]
  },
  {
   "cell_type": "code",
   "execution_count": 20,
   "metadata": {},
   "outputs": [],
   "source": [
    "def permutation(d1,d2):\n",
    "    d3 = np.concatenate((d1,d2))\n",
    "    data = np.random.permutation(d3)\n",
    "    perm_sample1 = data[:len(d1)]\n",
    "    perm_sample2 = data[len(d1):]\n",
    "    return perm_sample1,perm_sample2"
   ]
  },
  {
   "cell_type": "code",
   "execution_count": 21,
   "metadata": {},
   "outputs": [],
   "source": [
    "permutation_mean_replicates = np.empty(N_rep)\n",
    "for i in range(N_rep):\n",
    "    perm_good, perm_bad = permutation(good_reception['Domestic Gross'],bad_shifted)\n",
    "    permutation_mean_replicates[i] = np.mean(perm_good) - np.mean(perm_bad)"
   ]
  },
  {
   "cell_type": "code",
   "execution_count": 22,
   "metadata": {},
   "outputs": [
    {
     "data": {
      "text/plain": [
       "0.0819"
      ]
     },
     "execution_count": 22,
     "metadata": {},
     "output_type": "execute_result"
    }
   ],
   "source": [
    "p_value = np.sum(permutation_mean_replicates >= mean_diff)/len(permutation_mean_replicates)\n",
    "p_value"
   ]
  },
  {
   "cell_type": "code",
   "execution_count": 23,
   "metadata": {},
   "outputs": [
    {
     "data": {
      "image/png": "[encoded data removed]",
      "text/plain": [
       "<Figure size 720x360 with 1 Axes>"
      ]
     },
     "metadata": {
      "needs_background": "light"
     },
     "output_type": "display_data"
    }
   ],
   "source": [
    "_ = plt.figure(figsize=(10,5))\n",
    "_ = plt.ylabel('Number of Films')\n",
    "_ = plt.hist(mean_diff, bins=25)\n",
    "_ = plt.hist(permutation_mean_replicates,bins=25,color='blue')\n",
    "_ = plt.ylabel('Number of Films')\n",
    "_ = plt.axvline(np.mean(permutation_mean_replicates), color='green')\n",
    "_ = plt.axvline(np.mean(mean_diff),color='red',linestyle='--')"
   ]
  },
  {
   "cell_type": "markdown",
   "metadata": {},
   "source": [
    "Our final p-value is 0.0819 and is therefore above the 0.05 threshold needed to reject our null hypothesis. Statistically, we cannot claim that critical reception does have any significant impact on the domestic box office gross of any given film. However, this is not the only null hypothesis I want to test. The domestic multiplier of a film is calculated by dividing the final domestic gross by opening weekend gross. This is identified as the legs of a film, while they can vary vastly depending on the type of film number of theatres opened in. The graph below is a histogram of the domestic multiplier of all films in the dataset.  "
   ]
  },
  {
   "cell_type": "code",
   "execution_count": 24,
   "metadata": {
    "scrolled": true
   },
   "outputs": [
    {
     "name": "stderr",
     "output_type": "stream",
     "text": [
      "/Users/sayantanchattopadhyay/opt/anaconda3/lib/python3.7/site-packages/numpy/lib/histograms.py:839: RuntimeWarning: invalid value encountered in greater_equal\n",
      "  keep = (tmp_a >= first_edge)\n",
      "/Users/sayantanchattopadhyay/opt/anaconda3/lib/python3.7/site-packages/numpy/lib/histograms.py:840: RuntimeWarning: invalid value encountered in less_equal\n",
      "  keep &= (tmp_a <= last_edge)\n"
     ]
    },
    {
     "data": {
      "image/png": "[encoded data removed]",
      "text/plain": [
       "<Figure size 720x720 with 1 Axes>"
      ]
     },
     "metadata": {
      "needs_background": "light"
     },
     "output_type": "display_data"
    }
   ],
   "source": [
    "_ = plt.figure(figsize=(10,10))\n",
    "_ = plt.hist(boxoffice_df['Domestic Multiplier'],bins=1000)\n",
    "_ = plt.title('Domestic Multiplier Histogram')\n",
    "_ = plt.xlabel('Domestic Multiplier')\n",
    "_ = plt.ylabel('Number of Films')\n",
    "_ = plt.ylim(0,8000)\n",
    "_ = plt.xlim(0,150)"
   ]
  },
  {
   "cell_type": "markdown",
   "metadata": {},
   "source": [
    "Similar to the histogram earlier, a majority of the data is near the origin, however, the bars in the graph towards the ends of the graph are more prevalent compared to the earlier histogram were they were practically invisible. "
   ]
  },
  {
   "cell_type": "code",
   "execution_count": 25,
   "metadata": {},
   "outputs": [
    {
     "name": "stdout",
     "output_type": "stream",
     "text": [
      "<class 'pandas.core.frame.DataFrame'>\n",
      "Int64Index: 11022 entries, 0 to 45373\n",
      "Data columns (total 15 columns):\n",
      " #   Column                 Non-Null Count  Dtype  \n",
      "---  ------                 --------------  -----  \n",
      " 0   imdbID                 9935 non-null   object \n",
      " 1   Title                  11022 non-null  object \n",
      " 2   Domestic Gross         11022 non-null  float64\n",
      " 3   Opening Weekend        11022 non-null  float64\n",
      " 4   Domestic Multiplier    11022 non-null  float64\n",
      " 5   Rotten Tomatoes Score  10390 non-null  float64\n",
      " 6   Metascore              8427 non-null   float64\n",
      " 7   imdbRating             11021 non-null  float64\n",
      " 8   imdbVotes              11020 non-null  float64\n",
      " 9   Year                   11022 non-null  int64  \n",
      " 10  Month                  11009 non-null  float64\n",
      " 11  budget                 3987 non-null   float64\n",
      " 12  popularity             11021 non-null  float64\n",
      " 13  vote_average           10874 non-null  float64\n",
      " 14  vote_count             10874 non-null  float64\n",
      "dtypes: float64(12), int64(1), object(2)\n",
      "memory usage: 1.3+ MB\n"
     ]
    }
   ],
   "source": [
    "multiplier_df = boxoffice_df[boxoffice_df['Domestic Multiplier'].notnull()]\n",
    "multiplier = multiplier_df['Domestic Multiplier']\n",
    "multiplier_df.info()"
   ]
  },
  {
   "cell_type": "code",
   "execution_count": 26,
   "metadata": {},
   "outputs": [
    {
     "name": "stdout",
     "output_type": "stream",
     "text": [
      "Multiplier Mean:  22.756283565105736\n",
      "Multiplier STD:  118.10983175753526\n"
     ]
    }
   ],
   "source": [
    "multiplier_mean = multiplier.mean()\n",
    "multiplier_std = multiplier.std()\n",
    "print('Multiplier Mean: ',multiplier_mean)\n",
    "print('Multiplier STD: ',multiplier_std)"
   ]
  },
  {
   "cell_type": "markdown",
   "metadata": {},
   "source": [
    "The observed standard deviation compared to the mean is even larger for multipliers than for domestic gross. "
   ]
  },
  {
   "cell_type": "code",
   "execution_count": 27,
   "metadata": {},
   "outputs": [
    {
     "data": {
      "text/plain": [
       "20811153.23111374"
      ]
     },
     "execution_count": 27,
     "metadata": {},
     "output_type": "execute_result"
    }
   ],
   "source": [
    "n = len(multiplier)\n",
    "critical_value = t(n-1).ppf(0.95)\n",
    "gross_mean - critical_value/np.sqrt(n) * gross_std"
   ]
  },
  {
   "cell_type": "markdown",
   "metadata": {},
   "source": [
    "Similar to earlier, the data is once again split between good and bad reception datasets. This process needs to be repeated, the multipliers dataframe has fewer films as there were roughly 1,000 films in the original dataframe without opening weekend data. "
   ]
  },
  {
   "cell_type": "code",
   "execution_count": 28,
   "metadata": {},
   "outputs": [
    {
     "data": {
      "text/plain": [
       "Ttest_indResult(statistic=11.06395602806466, pvalue=3.4710327856231197e-28)"
      ]
     },
     "execution_count": 28,
     "metadata": {},
     "output_type": "execute_result"
    }
   ],
   "source": [
    "good_reception = multiplier_df[multiplier_df['Rotten Tomatoes Score'] >= 80]\n",
    "bad_reception = multiplier_df[multiplier_df['Rotten Tomatoes Score'] <= 40]\n",
    "ttest_ind(good_reception['Domestic Multiplier'], bad_reception['Domestic Multiplier'])"
   ]
  },
  {
   "cell_type": "code",
   "execution_count": 29,
   "metadata": {},
   "outputs": [
    {
     "data": {
      "text/plain": [
       "Ttest_indResult(statistic=11.054542699708865, pvalue=3.895022650453142e-28)"
      ]
     },
     "execution_count": 29,
     "metadata": {},
     "output_type": "execute_result"
    }
   ],
   "source": [
    "ttest_ind(good_reception['Domestic Multiplier'], bad_reception['Domestic Multiplier'], equal_var= False)"
   ]
  },
  {
   "cell_type": "code",
   "execution_count": 30,
   "metadata": {},
   "outputs": [
    {
     "name": "stdout",
     "output_type": "stream",
     "text": [
      "<class 'pandas.core.frame.DataFrame'>\n",
      "Int64Index: 3035 entries, 0 to 45263\n",
      "Data columns (total 15 columns):\n",
      " #   Column                 Non-Null Count  Dtype  \n",
      "---  ------                 --------------  -----  \n",
      " 0   imdbID                 2771 non-null   object \n",
      " 1   Title                  3035 non-null   object \n",
      " 2   Domestic Gross         3035 non-null   float64\n",
      " 3   Opening Weekend        3035 non-null   float64\n",
      " 4   Domestic Multiplier    3035 non-null   float64\n",
      " 5   Rotten Tomatoes Score  3035 non-null   float64\n",
      " 6   Metascore              2550 non-null   float64\n",
      " 7   imdbRating             3035 non-null   float64\n",
      " 8   imdbVotes              3034 non-null   float64\n",
      " 9   Year                   3035 non-null   int64  \n",
      " 10  Month                  3032 non-null   float64\n",
      " 11  budget                 1014 non-null   float64\n",
      " 12  popularity             3034 non-null   float64\n",
      " 13  vote_average           2985 non-null   float64\n",
      " 14  vote_count             2985 non-null   float64\n",
      "dtypes: float64(12), int64(1), object(2)\n",
      "memory usage: 379.4+ KB\n"
     ]
    }
   ],
   "source": [
    "good_reception.info()"
   ]
  },
  {
   "cell_type": "code",
   "execution_count": 31,
   "metadata": {},
   "outputs": [
    {
     "name": "stdout",
     "output_type": "stream",
     "text": [
      "<class 'pandas.core.frame.DataFrame'>\n",
      "Int64Index: 3075 entries, 2 to 45373\n",
      "Data columns (total 15 columns):\n",
      " #   Column                 Non-Null Count  Dtype  \n",
      "---  ------                 --------------  -----  \n",
      " 0   imdbID                 2725 non-null   object \n",
      " 1   Title                  3075 non-null   object \n",
      " 2   Domestic Gross         3075 non-null   float64\n",
      " 3   Opening Weekend        3075 non-null   float64\n",
      " 4   Domestic Multiplier    3075 non-null   float64\n",
      " 5   Rotten Tomatoes Score  3075 non-null   float64\n",
      " 6   Metascore              2295 non-null   float64\n",
      " 7   imdbRating             3075 non-null   float64\n",
      " 8   imdbVotes              3075 non-null   float64\n",
      " 9   Year                   3075 non-null   int64  \n",
      " 10  Month                  3072 non-null   float64\n",
      " 11  budget                 1251 non-null   float64\n",
      " 12  popularity             3075 non-null   float64\n",
      " 13  vote_average           3048 non-null   float64\n",
      " 14  vote_count             3048 non-null   float64\n",
      "dtypes: float64(12), int64(1), object(2)\n",
      "memory usage: 384.4+ KB\n"
     ]
    }
   ],
   "source": [
    "bad_reception.info()"
   ]
  },
  {
   "cell_type": "code",
   "execution_count": 32,
   "metadata": {},
   "outputs": [
    {
     "data": {
      "text/html": [
       "<div>\n",
       "<style scoped>\n",
       "    .dataframe tbody tr th:only-of-type {\n",
       "        vertical-align: middle;\n",
       "    }\n",
       "\n",
       "    .dataframe tbody tr th {\n",
       "        vertical-align: top;\n",
       "    }\n",
       "\n",
       "    .dataframe thead th {\n",
       "        text-align: right;\n",
       "    }\n",
       "</style>\n",
       "<table border=\"1\" class=\"dataframe\">\n",
       "  <thead>\n",
       "    <tr style=\"text-align: right;\">\n",
       "      <th></th>\n",
       "      <th>Domestic Gross</th>\n",
       "      <th>Opening Weekend</th>\n",
       "      <th>Domestic Multiplier</th>\n",
       "      <th>Rotten Tomatoes Score</th>\n",
       "      <th>Metascore</th>\n",
       "      <th>imdbRating</th>\n",
       "      <th>imdbVotes</th>\n",
       "      <th>Year</th>\n",
       "      <th>Month</th>\n",
       "      <th>budget</th>\n",
       "      <th>popularity</th>\n",
       "      <th>vote_average</th>\n",
       "      <th>vote_count</th>\n",
       "    </tr>\n",
       "  </thead>\n",
       "  <tbody>\n",
       "    <tr>\n",
       "      <th>count</th>\n",
       "      <td>3.035000e+03</td>\n",
       "      <td>3.035000e+03</td>\n",
       "      <td>3035.000000</td>\n",
       "      <td>3035.000000</td>\n",
       "      <td>2550.000000</td>\n",
       "      <td>3035.000000</td>\n",
       "      <td>3.034000e+03</td>\n",
       "      <td>3035.000000</td>\n",
       "      <td>3032.000000</td>\n",
       "      <td>1.014000e+03</td>\n",
       "      <td>3034.000000</td>\n",
       "      <td>2985.000000</td>\n",
       "      <td>2985.000000</td>\n",
       "    </tr>\n",
       "    <tr>\n",
       "      <th>mean</th>\n",
       "      <td>2.434493e+07</td>\n",
       "      <td>4.279396e+06</td>\n",
       "      <td>45.944776</td>\n",
       "      <td>89.312356</td>\n",
       "      <td>75.040392</td>\n",
       "      <td>7.264679</td>\n",
       "      <td>8.156273e+04</td>\n",
       "      <td>2001.486326</td>\n",
       "      <td>6.676781</td>\n",
       "      <td>2.476200e+07</td>\n",
       "      <td>5.149522</td>\n",
       "      <td>6.060436</td>\n",
       "      <td>270.777554</td>\n",
       "    </tr>\n",
       "    <tr>\n",
       "      <th>std</th>\n",
       "      <td>6.254080e+07</td>\n",
       "      <td>1.605748e+07</td>\n",
       "      <td>137.967082</td>\n",
       "      <td>5.879808</td>\n",
       "      <td>8.654314</td>\n",
       "      <td>0.561983</td>\n",
       "      <td>1.879534e+05</td>\n",
       "      <td>13.519806</td>\n",
       "      <td>3.580955</td>\n",
       "      <td>3.707931e+07</td>\n",
       "      <td>8.280704</td>\n",
       "      <td>1.714082</td>\n",
       "      <td>871.423632</td>\n",
       "    </tr>\n",
       "    <tr>\n",
       "      <th>min</th>\n",
       "      <td>5.820000e+02</td>\n",
       "      <td>3.000000e+01</td>\n",
       "      <td>0.480129</td>\n",
       "      <td>80.000000</td>\n",
       "      <td>31.000000</td>\n",
       "      <td>4.600000</td>\n",
       "      <td>3.800000e+01</td>\n",
       "      <td>1921.000000</td>\n",
       "      <td>1.000000</td>\n",
       "      <td>1.000000e+00</td>\n",
       "      <td>0.000000</td>\n",
       "      <td>0.000000</td>\n",
       "      <td>0.000000</td>\n",
       "    </tr>\n",
       "    <tr>\n",
       "      <th>25%</th>\n",
       "      <td>1.068885e+05</td>\n",
       "      <td>1.081050e+04</td>\n",
       "      <td>4.424689</td>\n",
       "      <td>84.000000</td>\n",
       "      <td>69.000000</td>\n",
       "      <td>6.900000</td>\n",
       "      <td>2.645750e+03</td>\n",
       "      <td>1995.000000</td>\n",
       "      <td>3.000000</td>\n",
       "      <td>4.000000e+06</td>\n",
       "      <td>0.810043</td>\n",
       "      <td>5.500000</td>\n",
       "      <td>5.000000</td>\n",
       "    </tr>\n",
       "    <tr>\n",
       "      <th>50%</th>\n",
       "      <td>1.082124e+06</td>\n",
       "      <td>4.116500e+04</td>\n",
       "      <td>10.968051</td>\n",
       "      <td>89.000000</td>\n",
       "      <td>75.000000</td>\n",
       "      <td>7.300000</td>\n",
       "      <td>1.146050e+04</td>\n",
       "      <td>2005.000000</td>\n",
       "      <td>7.000000</td>\n",
       "      <td>1.275000e+07</td>\n",
       "      <td>2.800800</td>\n",
       "      <td>6.500000</td>\n",
       "      <td>20.000000</td>\n",
       "    </tr>\n",
       "    <tr>\n",
       "      <th>75%</th>\n",
       "      <td>1.642862e+07</td>\n",
       "      <td>3.655845e+05</td>\n",
       "      <td>34.298741</td>\n",
       "      <td>94.000000</td>\n",
       "      <td>81.000000</td>\n",
       "      <td>7.600000</td>\n",
       "      <td>5.950350e+04</td>\n",
       "      <td>2012.000000</td>\n",
       "      <td>10.000000</td>\n",
       "      <td>3.000000e+07</td>\n",
       "      <td>7.661880</td>\n",
       "      <td>7.100000</td>\n",
       "      <td>109.000000</td>\n",
       "    </tr>\n",
       "    <tr>\n",
       "      <th>max</th>\n",
       "      <td>9.366622e+08</td>\n",
       "      <td>2.479667e+08</td>\n",
       "      <td>4468.300000</td>\n",
       "      <td>100.000000</td>\n",
       "      <td>100.000000</td>\n",
       "      <td>9.300000</td>\n",
       "      <td>2.154564e+06</td>\n",
       "      <td>2017.000000</td>\n",
       "      <td>12.000000</td>\n",
       "      <td>3.800000e+08</td>\n",
       "      <td>187.860492</td>\n",
       "      <td>10.000000</td>\n",
       "      <td>11444.000000</td>\n",
       "    </tr>\n",
       "  </tbody>\n",
       "</table>\n",
       "</div>"
      ],
      "text/plain": [
       "       Domestic Gross  Opening Weekend  Domestic Multiplier  \\\n",
       "count    3.035000e+03     3.035000e+03          3035.000000   \n",
       "mean     2.434493e+07     4.279396e+06            45.944776   \n",
       "std      6.254080e+07     1.605748e+07           137.967082   \n",
       "min      5.820000e+02     3.000000e+01             0.480129   \n",
       "25%      1.068885e+05     1.081050e+04             4.424689   \n",
       "50%      1.082124e+06     4.116500e+04            10.968051   \n",
       "75%      1.642862e+07     3.655845e+05            34.298741   \n",
       "max      9.366622e+08     2.479667e+08          4468.300000   \n",
       "\n",
       "       Rotten Tomatoes Score    Metascore   imdbRating     imdbVotes  \\\n",
       "count            3035.000000  2550.000000  3035.000000  3.034000e+03   \n",
       "mean               89.312356    75.040392     7.264679  8.156273e+04   \n",
       "std                 5.879808     8.654314     0.561983  1.879534e+05   \n",
       "min                80.000000    31.000000     4.600000  3.800000e+01   \n",
       "25%                84.000000    69.000000     6.900000  2.645750e+03   \n",
       "50%                89.000000    75.000000     7.300000  1.146050e+04   \n",
       "75%                94.000000    81.000000     7.600000  5.950350e+04   \n",
       "max               100.000000   100.000000     9.300000  2.154564e+06   \n",
       "\n",
       "              Year        Month        budget   popularity  vote_average  \\\n",
       "count  3035.000000  3032.000000  1.014000e+03  3034.000000   2985.000000   \n",
       "mean   2001.486326     6.676781  2.476200e+07     5.149522      6.060436   \n",
       "std      13.519806     3.580955  3.707931e+07     8.280704      1.714082   \n",
       "min    1921.000000     1.000000  1.000000e+00     0.000000      0.000000   \n",
       "25%    1995.000000     3.000000  4.000000e+06     0.810043      5.500000   \n",
       "50%    2005.000000     7.000000  1.275000e+07     2.800800      6.500000   \n",
       "75%    2012.000000    10.000000  3.000000e+07     7.661880      7.100000   \n",
       "max    2017.000000    12.000000  3.800000e+08   187.860492     10.000000   \n",
       "\n",
       "         vote_count  \n",
       "count   2985.000000  \n",
       "mean     270.777554  \n",
       "std      871.423632  \n",
       "min        0.000000  \n",
       "25%        5.000000  \n",
       "50%       20.000000  \n",
       "75%      109.000000  \n",
       "max    11444.000000  "
      ]
     },
     "execution_count": 32,
     "metadata": {},
     "output_type": "execute_result"
    }
   ],
   "source": [
    "good_reception.describe()"
   ]
  },
  {
   "cell_type": "code",
   "execution_count": 33,
   "metadata": {},
   "outputs": [
    {
     "data": {
      "text/html": [
       "<div>\n",
       "<style scoped>\n",
       "    .dataframe tbody tr th:only-of-type {\n",
       "        vertical-align: middle;\n",
       "    }\n",
       "\n",
       "    .dataframe tbody tr th {\n",
       "        vertical-align: top;\n",
       "    }\n",
       "\n",
       "    .dataframe thead th {\n",
       "        text-align: right;\n",
       "    }\n",
       "</style>\n",
       "<table border=\"1\" class=\"dataframe\">\n",
       "  <thead>\n",
       "    <tr style=\"text-align: right;\">\n",
       "      <th></th>\n",
       "      <th>Domestic Gross</th>\n",
       "      <th>Opening Weekend</th>\n",
       "      <th>Domestic Multiplier</th>\n",
       "      <th>Rotten Tomatoes Score</th>\n",
       "      <th>Metascore</th>\n",
       "      <th>imdbRating</th>\n",
       "      <th>imdbVotes</th>\n",
       "      <th>Year</th>\n",
       "      <th>Month</th>\n",
       "      <th>budget</th>\n",
       "      <th>popularity</th>\n",
       "      <th>vote_average</th>\n",
       "      <th>vote_count</th>\n",
       "    </tr>\n",
       "  </thead>\n",
       "  <tbody>\n",
       "    <tr>\n",
       "      <th>count</th>\n",
       "      <td>3.075000e+03</td>\n",
       "      <td>3.075000e+03</td>\n",
       "      <td>3075.000000</td>\n",
       "      <td>3075.000000</td>\n",
       "      <td>2295.000000</td>\n",
       "      <td>3075.000000</td>\n",
       "      <td>3075.000000</td>\n",
       "      <td>3075.000000</td>\n",
       "      <td>3072.000000</td>\n",
       "      <td>1.251000e+03</td>\n",
       "      <td>3075.000000</td>\n",
       "      <td>3048.000000</td>\n",
       "      <td>3048.000000</td>\n",
       "    </tr>\n",
       "    <tr>\n",
       "      <th>mean</th>\n",
       "      <td>2.207046e+07</td>\n",
       "      <td>7.074535e+06</td>\n",
       "      <td>9.218121</td>\n",
       "      <td>22.512846</td>\n",
       "      <td>36.070153</td>\n",
       "      <td>5.566179</td>\n",
       "      <td>33835.135610</td>\n",
       "      <td>2001.655285</td>\n",
       "      <td>6.398112</td>\n",
       "      <td>3.247224e+07</td>\n",
       "      <td>5.097393</td>\n",
       "      <td>5.560958</td>\n",
       "      <td>141.532152</td>\n",
       "    </tr>\n",
       "    <tr>\n",
       "      <th>std</th>\n",
       "      <td>3.382518e+07</td>\n",
       "      <td>1.103892e+07</td>\n",
       "      <td>121.059249</td>\n",
       "      <td>11.345411</td>\n",
       "      <td>10.405043</td>\n",
       "      <td>0.869681</td>\n",
       "      <td>53605.679182</td>\n",
       "      <td>9.189019</td>\n",
       "      <td>3.527079</td>\n",
       "      <td>3.568737e+07</td>\n",
       "      <td>6.156350</td>\n",
       "      <td>1.478399</td>\n",
       "      <td>472.500488</td>\n",
       "    </tr>\n",
       "    <tr>\n",
       "      <th>min</th>\n",
       "      <td>9.500000e+01</td>\n",
       "      <td>8.800000e+01</td>\n",
       "      <td>0.999984</td>\n",
       "      <td>0.000000</td>\n",
       "      <td>1.000000</td>\n",
       "      <td>1.500000</td>\n",
       "      <td>19.000000</td>\n",
       "      <td>1973.000000</td>\n",
       "      <td>1.000000</td>\n",
       "      <td>1.000000e+00</td>\n",
       "      <td>0.000000</td>\n",
       "      <td>0.000000</td>\n",
       "      <td>0.000000</td>\n",
       "    </tr>\n",
       "    <tr>\n",
       "      <th>25%</th>\n",
       "      <td>5.641230e+05</td>\n",
       "      <td>1.270960e+05</td>\n",
       "      <td>2.161899</td>\n",
       "      <td>14.000000</td>\n",
       "      <td>30.000000</td>\n",
       "      <td>5.100000</td>\n",
       "      <td>3996.000000</td>\n",
       "      <td>1995.000000</td>\n",
       "      <td>3.000000</td>\n",
       "      <td>9.000000e+06</td>\n",
       "      <td>1.179372</td>\n",
       "      <td>5.000000</td>\n",
       "      <td>7.000000</td>\n",
       "    </tr>\n",
       "    <tr>\n",
       "      <th>50%</th>\n",
       "      <td>1.011501e+07</td>\n",
       "      <td>3.427840e+06</td>\n",
       "      <td>2.715404</td>\n",
       "      <td>23.000000</td>\n",
       "      <td>37.000000</td>\n",
       "      <td>5.700000</td>\n",
       "      <td>12237.000000</td>\n",
       "      <td>2003.000000</td>\n",
       "      <td>7.000000</td>\n",
       "      <td>2.100000e+07</td>\n",
       "      <td>3.790875</td>\n",
       "      <td>5.700000</td>\n",
       "      <td>24.000000</td>\n",
       "    </tr>\n",
       "    <tr>\n",
       "      <th>75%</th>\n",
       "      <td>2.981942e+07</td>\n",
       "      <td>9.351290e+06</td>\n",
       "      <td>3.715458</td>\n",
       "      <td>33.000000</td>\n",
       "      <td>44.000000</td>\n",
       "      <td>6.200000</td>\n",
       "      <td>39828.000000</td>\n",
       "      <td>2009.000000</td>\n",
       "      <td>9.000000</td>\n",
       "      <td>4.200000e+07</td>\n",
       "      <td>7.811223</td>\n",
       "      <td>6.400000</td>\n",
       "      <td>95.000000</td>\n",
       "    </tr>\n",
       "    <tr>\n",
       "      <th>max</th>\n",
       "      <td>4.021119e+08</td>\n",
       "      <td>1.428391e+08</td>\n",
       "      <td>5757.944732</td>\n",
       "      <td>40.000000</td>\n",
       "      <td>68.000000</td>\n",
       "      <td>8.300000</td>\n",
       "      <td>455175.000000</td>\n",
       "      <td>2017.000000</td>\n",
       "      <td>12.000000</td>\n",
       "      <td>2.580000e+08</td>\n",
       "      <td>185.070892</td>\n",
       "      <td>10.000000</td>\n",
       "      <td>12114.000000</td>\n",
       "    </tr>\n",
       "  </tbody>\n",
       "</table>\n",
       "</div>"
      ],
      "text/plain": [
       "       Domestic Gross  Opening Weekend  Domestic Multiplier  \\\n",
       "count    3.075000e+03     3.075000e+03          3075.000000   \n",
       "mean     2.207046e+07     7.074535e+06             9.218121   \n",
       "std      3.382518e+07     1.103892e+07           121.059249   \n",
       "min      9.500000e+01     8.800000e+01             0.999984   \n",
       "25%      5.641230e+05     1.270960e+05             2.161899   \n",
       "50%      1.011501e+07     3.427840e+06             2.715404   \n",
       "75%      2.981942e+07     9.351290e+06             3.715458   \n",
       "max      4.021119e+08     1.428391e+08          5757.944732   \n",
       "\n",
       "       Rotten Tomatoes Score    Metascore   imdbRating      imdbVotes  \\\n",
       "count            3075.000000  2295.000000  3075.000000    3075.000000   \n",
       "mean               22.512846    36.070153     5.566179   33835.135610   \n",
       "std                11.345411    10.405043     0.869681   53605.679182   \n",
       "min                 0.000000     1.000000     1.500000      19.000000   \n",
       "25%                14.000000    30.000000     5.100000    3996.000000   \n",
       "50%                23.000000    37.000000     5.700000   12237.000000   \n",
       "75%                33.000000    44.000000     6.200000   39828.000000   \n",
       "max                40.000000    68.000000     8.300000  455175.000000   \n",
       "\n",
       "              Year        Month        budget   popularity  vote_average  \\\n",
       "count  3075.000000  3072.000000  1.251000e+03  3075.000000   3048.000000   \n",
       "mean   2001.655285     6.398112  3.247224e+07     5.097393      5.560958   \n",
       "std       9.189019     3.527079  3.568737e+07     6.156350      1.478399   \n",
       "min    1973.000000     1.000000  1.000000e+00     0.000000      0.000000   \n",
       "25%    1995.000000     3.000000  9.000000e+06     1.179372      5.000000   \n",
       "50%    2003.000000     7.000000  2.100000e+07     3.790875      5.700000   \n",
       "75%    2009.000000     9.000000  4.200000e+07     7.811223      6.400000   \n",
       "max    2017.000000    12.000000  2.580000e+08   185.070892     10.000000   \n",
       "\n",
       "         vote_count  \n",
       "count   3048.000000  \n",
       "mean     141.532152  \n",
       "std      472.500488  \n",
       "min        0.000000  \n",
       "25%        7.000000  \n",
       "50%       24.000000  \n",
       "75%       95.000000  \n",
       "max    12114.000000  "
      ]
     },
     "execution_count": 33,
     "metadata": {},
     "output_type": "execute_result"
    }
   ],
   "source": [
    "bad_reception.describe()"
   ]
  },
  {
   "cell_type": "code",
   "execution_count": 34,
   "metadata": {},
   "outputs": [
    {
     "data": {
      "image/png": "[encoded data removed]",
      "text/plain": [
       "<Figure size 720x720 with 1 Axes>"
      ]
     },
     "metadata": {
      "needs_background": "light"
     },
     "output_type": "display_data"
    }
   ],
   "source": [
    "_ = plt.figure(figsize=(10,10))\n",
    "_ = plt.scatter(good_reception['Domestic Gross']/1000000, good_reception['Domestic Multiplier'], label='Good Reception')\n",
    "_ = plt.scatter(bad_reception['Domestic Gross']/1000000, bad_reception['Domestic Multiplier'], label='Bad Reception')\n",
    "_ = plt.xlabel('Opening Weekend Gross (Millions)')\n",
    "_ = plt.ylabel('Domestic Multiplier')\n",
    "_ = plt.ylim(0,500)\n",
    "_ = plt.title('Domestic Multiplier of Films with Good and Bad Reception')\n",
    "_ = plt.legend()"
   ]
  },
  {
   "cell_type": "markdown",
   "metadata": {},
   "source": [
    "The graph above displays a greater divide amongst films with good reception compared to those with bad critical reception. The inferential and frequentist statistical techniques are reapplied once more to test whether critical reception and domestic multipliers are independent of each other. "
   ]
  },
  {
   "cell_type": "code",
   "execution_count": 35,
   "metadata": {},
   "outputs": [
    {
     "data": {
      "text/plain": [
       "array([20.73640892, 25.12030666])"
      ]
     },
     "execution_count": 35,
     "metadata": {},
     "output_type": "execute_result"
    }
   ],
   "source": [
    "np.random.seed(47)\n",
    "N_rep = 10000\n",
    "mean_replicates = np.empty(N_rep)\n",
    "for i in range(N_rep):\n",
    "    mean_replicates[i] = np.mean(np.random.choice(multiplier,len(multiplier)))\n",
    "multiplier_confidence_interval = np.percentile(mean_replicates,[2.5,97.5])\n",
    "multiplier_confidence_interval"
   ]
  },
  {
   "cell_type": "code",
   "execution_count": 36,
   "metadata": {},
   "outputs": [
    {
     "data": {
      "text/plain": [
       "array([-75.92466973, 120.42076445])"
      ]
     },
     "execution_count": 36,
     "metadata": {},
     "output_type": "execute_result"
    }
   ],
   "source": [
    "np.random.seed(47)\n",
    "diff_std_replicates = np.empty(N_rep)\n",
    "for i in range(N_rep):\n",
    "    good_sample = np.random.choice(good_reception['Domestic Multiplier'], len(good_reception['Domestic Multiplier']))\n",
    "    bad_sample = np.random.choice(bad_reception['Domestic Multiplier'], len(bad_reception['Domestic Multiplier']))\n",
    "    diff_std_replicates[i] = np.std(good_sample) - np.std(bad_sample)\n",
    "confidence_interval = np.percentile(diff_std_replicates,[2.5,97.5])\n",
    "confidence_interval"
   ]
  },
  {
   "cell_type": "code",
   "execution_count": 37,
   "metadata": {},
   "outputs": [
    {
     "data": {
      "image/png": "[encoded data removed]",
      "text/plain": [
       "<Figure size 720x360 with 1 Axes>"
      ]
     },
     "metadata": {
      "needs_background": "light"
     },
     "output_type": "display_data"
    }
   ],
   "source": [
    "_ = plt.figure(figsize=(10,5))\n",
    "_ = plt.title('Difference of Postive and Negative Rated Films from Critics ')\n",
    "_ = plt.xlabel('Differene in Standard Deviation')\n",
    "_ = plt.ylabel('Number of Films')\n",
    "_ = plt.hist(diff_std_replicates,bins=25)\n",
    "_ = plt.ticklabel_format(useOffset=False, style='plain')\n",
    "_ = plt.axvline(np.mean(diff_std_replicates),color='r')\n",
    "_ = plt.axvline(confidence_interval[0],color='r',linestyle='--')\n",
    "_ = plt.axvline(confidence_interval[1],color='r',linestyle='--')"
   ]
  },
  {
   "cell_type": "code",
   "execution_count": 38,
   "metadata": {},
   "outputs": [
    {
     "data": {
      "text/plain": [
       "36.726654376012405"
      ]
     },
     "execution_count": 38,
     "metadata": {},
     "output_type": "execute_result"
    }
   ],
   "source": [
    "mean_diff = np.mean(good_reception['Domestic Multiplier']) - np.mean(bad_reception['Domestic Multiplier'])\n",
    "mean_diff"
   ]
  },
  {
   "cell_type": "code",
   "execution_count": 39,
   "metadata": {},
   "outputs": [],
   "source": [
    "np.random.seed(47)\n",
    "bad_shifted = bad_reception['Domestic Multiplier'] - np.mean(bad_reception['Domestic Multiplier']) + np.mean(good_reception['Domestic Multiplier'])"
   ]
  },
  {
   "cell_type": "code",
   "execution_count": 40,
   "metadata": {},
   "outputs": [],
   "source": [
    "permutation_mean_replicates = np.empty(N_rep)\n",
    "for i in range(N_rep):\n",
    "    perm_good, perm_bad = permutation(good_reception['Domestic Multiplier'],bad_shifted)\n",
    "    permutation_mean_replicates[i] = np.mean(perm_good) - np.mean(perm_bad)"
   ]
  },
  {
   "cell_type": "code",
   "execution_count": 41,
   "metadata": {},
   "outputs": [
    {
     "data": {
      "text/plain": [
       "0.0"
      ]
     },
     "execution_count": 41,
     "metadata": {},
     "output_type": "execute_result"
    }
   ],
   "source": [
    "p_value = np.sum(permutation_mean_replicates >= mean_diff)/len(permutation_mean_replicates)\n",
    "p_value"
   ]
  },
  {
   "cell_type": "code",
   "execution_count": 42,
   "metadata": {},
   "outputs": [
    {
     "data": {
      "image/png": "[encoded data removed]",
      "text/plain": [
       "<Figure size 720x360 with 1 Axes>"
      ]
     },
     "metadata": {
      "needs_background": "light"
     },
     "output_type": "display_data"
    }
   ],
   "source": [
    "_ = plt.figure(figsize=(10,5))\n",
    "_ = plt.hist(mean_diff, bins=25)\n",
    "_ = plt.hist(permutation_mean_replicates,bins=25,color='blue')\n",
    "_ = plt.ylabel('Number of Films')\n",
    "_ = plt.axvline(np.mean(permutation_mean_replicates), color='green')\n",
    "_ = plt.axvline(np.mean(mean_diff),color='red',linestyle='--')"
   ]
  },
  {
   "cell_type": "markdown",
   "metadata": {},
   "source": [
    "With a final p-value of 0.0 under the 0.05 threshold and therefore statistically significant. The null hypothesis can be rejected, unlike domestic gross, the box office multiplier is dependent on critical reception. After looking at the critical response, the next metric that I wanted to further examine was audience ratings for films and their impact on the box office performance. Similar to the steps taken earlier I will repeat the null hypothesis for both domestic gross and multiplier compared to the IMDB ratings. The dataset will be divided with a score of 7.5 and above being classified as positive reception and scores of 5.5 and under as negative reception."
   ]
  },
  {
   "cell_type": "code",
   "execution_count": 43,
   "metadata": {},
   "outputs": [
    {
     "data": {
      "text/plain": [
       "Ttest_indResult(statistic=10.53086741859825, pvalue=1.6454432563032533e-25)"
      ]
     },
     "execution_count": 43,
     "metadata": {},
     "output_type": "execute_result"
    }
   ],
   "source": [
    "good_reception = boxoffice_df[boxoffice_df['imdbRating'] > 7.5]\n",
    "bad_reception = boxoffice_df[boxoffice_df['imdbRating'] < 5.5]\n",
    "ttest_ind(good_reception['Domestic Gross'], bad_reception['Domestic Gross'])"
   ]
  },
  {
   "cell_type": "code",
   "execution_count": 44,
   "metadata": {},
   "outputs": [
    {
     "data": {
      "text/plain": [
       "Ttest_indResult(statistic=9.647709014383754, pvalue=1.816727978608195e-21)"
      ]
     },
     "execution_count": 44,
     "metadata": {},
     "output_type": "execute_result"
    }
   ],
   "source": [
    "ttest_ind(good_reception['Domestic Gross'], bad_reception['Domestic Gross'], equal_var= False)"
   ]
  },
  {
   "cell_type": "code",
   "execution_count": 45,
   "metadata": {},
   "outputs": [
    {
     "name": "stdout",
     "output_type": "stream",
     "text": [
      "<class 'pandas.core.frame.DataFrame'>\n",
      "Int64Index: 1401 entries, 0 to 45165\n",
      "Data columns (total 15 columns):\n",
      " #   Column                 Non-Null Count  Dtype  \n",
      "---  ------                 --------------  -----  \n",
      " 0   imdbID                 1274 non-null   object \n",
      " 1   Title                  1401 non-null   object \n",
      " 2   Domestic Gross         1401 non-null   float64\n",
      " 3   Opening Weekend        1222 non-null   float64\n",
      " 4   Domestic Multiplier    1222 non-null   float64\n",
      " 5   Rotten Tomatoes Score  1352 non-null   float64\n",
      " 6   Metascore              1106 non-null   float64\n",
      " 7   imdbRating             1401 non-null   float64\n",
      " 8   imdbVotes              1400 non-null   float64\n",
      " 9   Year                   1401 non-null   int64  \n",
      " 10  Month                  1399 non-null   float64\n",
      " 11  budget                 564 non-null    float64\n",
      " 12  popularity             1400 non-null   float64\n",
      " 13  vote_average           1377 non-null   float64\n",
      " 14  vote_count             1377 non-null   float64\n",
      "dtypes: float64(12), int64(1), object(2)\n",
      "memory usage: 175.1+ KB\n"
     ]
    }
   ],
   "source": [
    "good_reception.info()"
   ]
  },
  {
   "cell_type": "code",
   "execution_count": 46,
   "metadata": {},
   "outputs": [
    {
     "name": "stdout",
     "output_type": "stream",
     "text": [
      "<class 'pandas.core.frame.DataFrame'>\n",
      "Int64Index: 1748 entries, 63 to 45366\n",
      "Data columns (total 15 columns):\n",
      " #   Column                 Non-Null Count  Dtype  \n",
      "---  ------                 --------------  -----  \n",
      " 0   imdbID                 1546 non-null   object \n",
      " 1   Title                  1748 non-null   object \n",
      " 2   Domestic Gross         1748 non-null   float64\n",
      " 3   Opening Weekend        1634 non-null   float64\n",
      " 4   Domestic Multiplier    1634 non-null   float64\n",
      " 5   Rotten Tomatoes Score  1482 non-null   float64\n",
      " 6   Metascore              1078 non-null   float64\n",
      " 7   imdbRating             1748 non-null   float64\n",
      " 8   imdbVotes              1748 non-null   float64\n",
      " 9   Year                   1748 non-null   int64  \n",
      " 10  Month                  1746 non-null   float64\n",
      " 11  budget                 604 non-null    float64\n",
      " 12  popularity             1748 non-null   float64\n",
      " 13  vote_average           1725 non-null   float64\n",
      " 14  vote_count             1725 non-null   float64\n",
      "dtypes: float64(12), int64(1), object(2)\n",
      "memory usage: 218.5+ KB\n"
     ]
    }
   ],
   "source": [
    "bad_reception.info()"
   ]
  },
  {
   "cell_type": "code",
   "execution_count": 47,
   "metadata": {},
   "outputs": [
    {
     "data": {
      "text/html": [
       "<div>\n",
       "<style scoped>\n",
       "    .dataframe tbody tr th:only-of-type {\n",
       "        vertical-align: middle;\n",
       "    }\n",
       "\n",
       "    .dataframe tbody tr th {\n",
       "        vertical-align: top;\n",
       "    }\n",
       "\n",
       "    .dataframe thead th {\n",
       "        text-align: right;\n",
       "    }\n",
       "</style>\n",
       "<table border=\"1\" class=\"dataframe\">\n",
       "  <thead>\n",
       "    <tr style=\"text-align: right;\">\n",
       "      <th></th>\n",
       "      <th>Domestic Gross</th>\n",
       "      <th>Opening Weekend</th>\n",
       "      <th>Domestic Multiplier</th>\n",
       "      <th>Rotten Tomatoes Score</th>\n",
       "      <th>Metascore</th>\n",
       "      <th>imdbRating</th>\n",
       "      <th>imdbVotes</th>\n",
       "      <th>Year</th>\n",
       "      <th>Month</th>\n",
       "      <th>budget</th>\n",
       "      <th>popularity</th>\n",
       "      <th>vote_average</th>\n",
       "      <th>vote_count</th>\n",
       "    </tr>\n",
       "  </thead>\n",
       "  <tbody>\n",
       "    <tr>\n",
       "      <th>count</th>\n",
       "      <td>1.401000e+03</td>\n",
       "      <td>1.222000e+03</td>\n",
       "      <td>1222.000000</td>\n",
       "      <td>1352.000000</td>\n",
       "      <td>1106.000000</td>\n",
       "      <td>1401.000000</td>\n",
       "      <td>1.400000e+03</td>\n",
       "      <td>1401.000000</td>\n",
       "      <td>1399.000000</td>\n",
       "      <td>5.640000e+02</td>\n",
       "      <td>1400.000000</td>\n",
       "      <td>1377.000000</td>\n",
       "      <td>1377.000000</td>\n",
       "    </tr>\n",
       "    <tr>\n",
       "      <th>mean</th>\n",
       "      <td>3.644593e+07</td>\n",
       "      <td>6.977554e+06</td>\n",
       "      <td>53.736764</td>\n",
       "      <td>87.261095</td>\n",
       "      <td>75.354430</td>\n",
       "      <td>7.869879</td>\n",
       "      <td>1.642971e+05</td>\n",
       "      <td>1996.814418</td>\n",
       "      <td>6.867763</td>\n",
       "      <td>2.347335e+07</td>\n",
       "      <td>6.691368</td>\n",
       "      <td>6.412200</td>\n",
       "      <td>504.199710</td>\n",
       "    </tr>\n",
       "    <tr>\n",
       "      <th>std</th>\n",
       "      <td>8.002762e+07</td>\n",
       "      <td>2.150063e+07</td>\n",
       "      <td>129.229273</td>\n",
       "      <td>11.907453</td>\n",
       "      <td>11.822942</td>\n",
       "      <td>0.269827</td>\n",
       "      <td>2.789252e+05</td>\n",
       "      <td>16.791064</td>\n",
       "      <td>3.614719</td>\n",
       "      <td>3.477894e+07</td>\n",
       "      <td>10.777901</td>\n",
       "      <td>1.712411</td>\n",
       "      <td>1232.243034</td>\n",
       "    </tr>\n",
       "    <tr>\n",
       "      <th>min</th>\n",
       "      <td>2.110000e+02</td>\n",
       "      <td>8.600000e+01</td>\n",
       "      <td>0.480129</td>\n",
       "      <td>19.000000</td>\n",
       "      <td>28.000000</td>\n",
       "      <td>7.600000</td>\n",
       "      <td>3.000000e+01</td>\n",
       "      <td>1921.000000</td>\n",
       "      <td>1.000000</td>\n",
       "      <td>8.000000e+00</td>\n",
       "      <td>0.000000</td>\n",
       "      <td>0.000000</td>\n",
       "      <td>0.000000</td>\n",
       "    </tr>\n",
       "    <tr>\n",
       "      <th>25%</th>\n",
       "      <td>1.773450e+05</td>\n",
       "      <td>1.228500e+04</td>\n",
       "      <td>4.281085</td>\n",
       "      <td>83.000000</td>\n",
       "      <td>68.000000</td>\n",
       "      <td>7.700000</td>\n",
       "      <td>5.835000e+03</td>\n",
       "      <td>1989.000000</td>\n",
       "      <td>4.000000</td>\n",
       "      <td>4.000000e+06</td>\n",
       "      <td>0.976303</td>\n",
       "      <td>5.800000</td>\n",
       "      <td>8.000000</td>\n",
       "    </tr>\n",
       "    <tr>\n",
       "      <th>50%</th>\n",
       "      <td>2.087128e+06</td>\n",
       "      <td>5.996100e+04</td>\n",
       "      <td>11.613903</td>\n",
       "      <td>91.000000</td>\n",
       "      <td>76.000000</td>\n",
       "      <td>7.800000</td>\n",
       "      <td>3.254150e+04</td>\n",
       "      <td>2002.000000</td>\n",
       "      <td>7.000000</td>\n",
       "      <td>1.225000e+07</td>\n",
       "      <td>4.166633</td>\n",
       "      <td>7.000000</td>\n",
       "      <td>38.000000</td>\n",
       "    </tr>\n",
       "    <tr>\n",
       "      <th>75%</th>\n",
       "      <td>3.440030e+07</td>\n",
       "      <td>9.247440e+05</td>\n",
       "      <td>39.069659</td>\n",
       "      <td>95.000000</td>\n",
       "      <td>84.000000</td>\n",
       "      <td>8.000000</td>\n",
       "      <td>2.042750e+05</td>\n",
       "      <td>2009.000000</td>\n",
       "      <td>10.000000</td>\n",
       "      <td>2.800000e+07</td>\n",
       "      <td>9.586331</td>\n",
       "      <td>7.500000</td>\n",
       "      <td>315.000000</td>\n",
       "    </tr>\n",
       "    <tr>\n",
       "      <th>max</th>\n",
       "      <td>9.366622e+08</td>\n",
       "      <td>2.479667e+08</td>\n",
       "      <td>1337.085761</td>\n",
       "      <td>100.000000</td>\n",
       "      <td>100.000000</td>\n",
       "      <td>9.300000</td>\n",
       "      <td>2.154564e+06</td>\n",
       "      <td>2017.000000</td>\n",
       "      <td>12.000000</td>\n",
       "      <td>3.800000e+08</td>\n",
       "      <td>187.860492</td>\n",
       "      <td>10.000000</td>\n",
       "      <td>11444.000000</td>\n",
       "    </tr>\n",
       "  </tbody>\n",
       "</table>\n",
       "</div>"
      ],
      "text/plain": [
       "       Domestic Gross  Opening Weekend  Domestic Multiplier  \\\n",
       "count    1.401000e+03     1.222000e+03          1222.000000   \n",
       "mean     3.644593e+07     6.977554e+06            53.736764   \n",
       "std      8.002762e+07     2.150063e+07           129.229273   \n",
       "min      2.110000e+02     8.600000e+01             0.480129   \n",
       "25%      1.773450e+05     1.228500e+04             4.281085   \n",
       "50%      2.087128e+06     5.996100e+04            11.613903   \n",
       "75%      3.440030e+07     9.247440e+05            39.069659   \n",
       "max      9.366622e+08     2.479667e+08          1337.085761   \n",
       "\n",
       "       Rotten Tomatoes Score    Metascore   imdbRating     imdbVotes  \\\n",
       "count            1352.000000  1106.000000  1401.000000  1.400000e+03   \n",
       "mean               87.261095    75.354430     7.869879  1.642971e+05   \n",
       "std                11.907453    11.822942     0.269827  2.789252e+05   \n",
       "min                19.000000    28.000000     7.600000  3.000000e+01   \n",
       "25%                83.000000    68.000000     7.700000  5.835000e+03   \n",
       "50%                91.000000    76.000000     7.800000  3.254150e+04   \n",
       "75%                95.000000    84.000000     8.000000  2.042750e+05   \n",
       "max               100.000000   100.000000     9.300000  2.154564e+06   \n",
       "\n",
       "              Year        Month        budget   popularity  vote_average  \\\n",
       "count  1401.000000  1399.000000  5.640000e+02  1400.000000   1377.000000   \n",
       "mean   1996.814418     6.867763  2.347335e+07     6.691368      6.412200   \n",
       "std      16.791064     3.614719  3.477894e+07    10.777901      1.712411   \n",
       "min    1921.000000     1.000000  8.000000e+00     0.000000      0.000000   \n",
       "25%    1989.000000     4.000000  4.000000e+06     0.976303      5.800000   \n",
       "50%    2002.000000     7.000000  1.225000e+07     4.166633      7.000000   \n",
       "75%    2009.000000    10.000000  2.800000e+07     9.586331      7.500000   \n",
       "max    2017.000000    12.000000  3.800000e+08   187.860492     10.000000   \n",
       "\n",
       "         vote_count  \n",
       "count   1377.000000  \n",
       "mean     504.199710  \n",
       "std     1232.243034  \n",
       "min        0.000000  \n",
       "25%        8.000000  \n",
       "50%       38.000000  \n",
       "75%      315.000000  \n",
       "max    11444.000000  "
      ]
     },
     "execution_count": 47,
     "metadata": {},
     "output_type": "execute_result"
    }
   ],
   "source": [
    "good_reception.describe()"
   ]
  },
  {
   "cell_type": "code",
   "execution_count": 48,
   "metadata": {},
   "outputs": [
    {
     "data": {
      "text/html": [
       "<div>\n",
       "<style scoped>\n",
       "    .dataframe tbody tr th:only-of-type {\n",
       "        vertical-align: middle;\n",
       "    }\n",
       "\n",
       "    .dataframe tbody tr th {\n",
       "        vertical-align: top;\n",
       "    }\n",
       "\n",
       "    .dataframe thead th {\n",
       "        text-align: right;\n",
       "    }\n",
       "</style>\n",
       "<table border=\"1\" class=\"dataframe\">\n",
       "  <thead>\n",
       "    <tr style=\"text-align: right;\">\n",
       "      <th></th>\n",
       "      <th>Domestic Gross</th>\n",
       "      <th>Opening Weekend</th>\n",
       "      <th>Domestic Multiplier</th>\n",
       "      <th>Rotten Tomatoes Score</th>\n",
       "      <th>Metascore</th>\n",
       "      <th>imdbRating</th>\n",
       "      <th>imdbVotes</th>\n",
       "      <th>Year</th>\n",
       "      <th>Month</th>\n",
       "      <th>budget</th>\n",
       "      <th>popularity</th>\n",
       "      <th>vote_average</th>\n",
       "      <th>vote_count</th>\n",
       "    </tr>\n",
       "  </thead>\n",
       "  <tbody>\n",
       "    <tr>\n",
       "      <th>count</th>\n",
       "      <td>1.748000e+03</td>\n",
       "      <td>1.634000e+03</td>\n",
       "      <td>1634.000000</td>\n",
       "      <td>1482.000000</td>\n",
       "      <td>1078.000000</td>\n",
       "      <td>1748.000000</td>\n",
       "      <td>1748.000000</td>\n",
       "      <td>1748.000000</td>\n",
       "      <td>1746.000000</td>\n",
       "      <td>6.040000e+02</td>\n",
       "      <td>1748.000000</td>\n",
       "      <td>1725.000000</td>\n",
       "      <td>1725.000000</td>\n",
       "    </tr>\n",
       "    <tr>\n",
       "      <th>mean</th>\n",
       "      <td>1.488318e+07</td>\n",
       "      <td>5.297244e+06</td>\n",
       "      <td>5.999410</td>\n",
       "      <td>23.081646</td>\n",
       "      <td>34.535250</td>\n",
       "      <td>4.749256</td>\n",
       "      <td>16902.073227</td>\n",
       "      <td>2000.865561</td>\n",
       "      <td>6.278351</td>\n",
       "      <td>2.826469e+07</td>\n",
       "      <td>4.010943</td>\n",
       "      <td>5.232638</td>\n",
       "      <td>100.891594</td>\n",
       "    </tr>\n",
       "    <tr>\n",
       "      <th>std</th>\n",
       "      <td>2.722277e+07</td>\n",
       "      <td>9.584096e+06</td>\n",
       "      <td>48.132842</td>\n",
       "      <td>17.697685</td>\n",
       "      <td>13.186758</td>\n",
       "      <td>0.684270</td>\n",
       "      <td>29995.636185</td>\n",
       "      <td>10.240760</td>\n",
       "      <td>3.534417</td>\n",
       "      <td>3.130481e+07</td>\n",
       "      <td>4.660239</td>\n",
       "      <td>1.680990</td>\n",
       "      <td>351.793242</td>\n",
       "    </tr>\n",
       "    <tr>\n",
       "      <th>min</th>\n",
       "      <td>3.000000e+01</td>\n",
       "      <td>2.000000e+01</td>\n",
       "      <td>0.999984</td>\n",
       "      <td>0.000000</td>\n",
       "      <td>1.000000</td>\n",
       "      <td>1.500000</td>\n",
       "      <td>19.000000</td>\n",
       "      <td>1975.000000</td>\n",
       "      <td>1.000000</td>\n",
       "      <td>1.000000e+00</td>\n",
       "      <td>0.000000</td>\n",
       "      <td>0.000000</td>\n",
       "      <td>0.000000</td>\n",
       "    </tr>\n",
       "    <tr>\n",
       "      <th>25%</th>\n",
       "      <td>1.467982e+05</td>\n",
       "      <td>5.014925e+04</td>\n",
       "      <td>1.950130</td>\n",
       "      <td>10.000000</td>\n",
       "      <td>25.250000</td>\n",
       "      <td>4.500000</td>\n",
       "      <td>1830.250000</td>\n",
       "      <td>1993.750000</td>\n",
       "      <td>3.000000</td>\n",
       "      <td>7.000000e+06</td>\n",
       "      <td>0.791732</td>\n",
       "      <td>4.600000</td>\n",
       "      <td>5.000000</td>\n",
       "    </tr>\n",
       "    <tr>\n",
       "      <th>50%</th>\n",
       "      <td>4.617134e+06</td>\n",
       "      <td>2.136180e+06</td>\n",
       "      <td>2.468785</td>\n",
       "      <td>19.000000</td>\n",
       "      <td>34.000000</td>\n",
       "      <td>5.000000</td>\n",
       "      <td>5959.500000</td>\n",
       "      <td>2002.000000</td>\n",
       "      <td>6.000000</td>\n",
       "      <td>1.800000e+07</td>\n",
       "      <td>2.239534</td>\n",
       "      <td>5.300000</td>\n",
       "      <td>16.000000</td>\n",
       "    </tr>\n",
       "    <tr>\n",
       "      <th>75%</th>\n",
       "      <td>1.732416e+07</td>\n",
       "      <td>6.328772e+06</td>\n",
       "      <td>3.337099</td>\n",
       "      <td>33.000000</td>\n",
       "      <td>43.000000</td>\n",
       "      <td>5.225000</td>\n",
       "      <td>18971.000000</td>\n",
       "      <td>2010.000000</td>\n",
       "      <td>9.000000</td>\n",
       "      <td>4.000000e+07</td>\n",
       "      <td>6.250295</td>\n",
       "      <td>6.300000</td>\n",
       "      <td>59.000000</td>\n",
       "    </tr>\n",
       "    <tr>\n",
       "      <th>max</th>\n",
       "      <td>3.005318e+08</td>\n",
       "      <td>1.428391e+08</td>\n",
       "      <td>1429.432528</td>\n",
       "      <td>93.000000</td>\n",
       "      <td>73.000000</td>\n",
       "      <td>5.400000</td>\n",
       "      <td>401686.000000</td>\n",
       "      <td>2017.000000</td>\n",
       "      <td>12.000000</td>\n",
       "      <td>2.000000e+08</td>\n",
       "      <td>88.561239</td>\n",
       "      <td>10.000000</td>\n",
       "      <td>6324.000000</td>\n",
       "    </tr>\n",
       "  </tbody>\n",
       "</table>\n",
       "</div>"
      ],
      "text/plain": [
       "       Domestic Gross  Opening Weekend  Domestic Multiplier  \\\n",
       "count    1.748000e+03     1.634000e+03          1634.000000   \n",
       "mean     1.488318e+07     5.297244e+06             5.999410   \n",
       "std      2.722277e+07     9.584096e+06            48.132842   \n",
       "min      3.000000e+01     2.000000e+01             0.999984   \n",
       "25%      1.467982e+05     5.014925e+04             1.950130   \n",
       "50%      4.617134e+06     2.136180e+06             2.468785   \n",
       "75%      1.732416e+07     6.328772e+06             3.337099   \n",
       "max      3.005318e+08     1.428391e+08          1429.432528   \n",
       "\n",
       "       Rotten Tomatoes Score    Metascore   imdbRating      imdbVotes  \\\n",
       "count            1482.000000  1078.000000  1748.000000    1748.000000   \n",
       "mean               23.081646    34.535250     4.749256   16902.073227   \n",
       "std                17.697685    13.186758     0.684270   29995.636185   \n",
       "min                 0.000000     1.000000     1.500000      19.000000   \n",
       "25%                10.000000    25.250000     4.500000    1830.250000   \n",
       "50%                19.000000    34.000000     5.000000    5959.500000   \n",
       "75%                33.000000    43.000000     5.225000   18971.000000   \n",
       "max                93.000000    73.000000     5.400000  401686.000000   \n",
       "\n",
       "              Year        Month        budget   popularity  vote_average  \\\n",
       "count  1748.000000  1746.000000  6.040000e+02  1748.000000   1725.000000   \n",
       "mean   2000.865561     6.278351  2.826469e+07     4.010943      5.232638   \n",
       "std      10.240760     3.534417  3.130481e+07     4.660239      1.680990   \n",
       "min    1975.000000     1.000000  1.000000e+00     0.000000      0.000000   \n",
       "25%    1993.750000     3.000000  7.000000e+06     0.791732      4.600000   \n",
       "50%    2002.000000     6.000000  1.800000e+07     2.239534      5.300000   \n",
       "75%    2010.000000     9.000000  4.000000e+07     6.250295      6.300000   \n",
       "max    2017.000000    12.000000  2.000000e+08    88.561239     10.000000   \n",
       "\n",
       "        vote_count  \n",
       "count  1725.000000  \n",
       "mean    100.891594  \n",
       "std     351.793242  \n",
       "min       0.000000  \n",
       "25%       5.000000  \n",
       "50%      16.000000  \n",
       "75%      59.000000  \n",
       "max    6324.000000  "
      ]
     },
     "execution_count": 48,
     "metadata": {},
     "output_type": "execute_result"
    }
   ],
   "source": [
    "bad_reception.describe()"
   ]
  },
  {
   "cell_type": "code",
   "execution_count": 49,
   "metadata": {},
   "outputs": [
    {
     "data": {
      "image/png": "[encoded data removed]",
      "text/plain": [
       "<Figure size 720x360 with 1 Axes>"
      ]
     },
     "metadata": {
      "needs_background": "light"
     },
     "output_type": "display_data"
    }
   ],
   "source": [
    "_ = plt.figure(figsize=(10,5))\n",
    "_ = plt.scatter(good_reception['Opening Weekend']/1000000, good_reception['Domestic Gross']/1000000, label='Good Reception')\n",
    "_ = plt.scatter(bad_reception['Opening Weekend']/1000000, bad_reception['Domestic Gross']/1000000, label='Bad Reception')\n",
    "_ = plt.xlabel('Opening Weekend Gross (Millions)')\n",
    "_ = plt.ylabel('Total Domestic Gross (Millions)')\n",
    "_ = plt.title('Box Office Performance of Films with Good and Bad Reception')\n",
    "_ = plt.legend()"
   ]
  },
  {
   "cell_type": "code",
   "execution_count": 50,
   "metadata": {},
   "outputs": [
    {
     "data": {
      "text/plain": [
       "array([20724001.08044326, 22401433.42465552])"
      ]
     },
     "execution_count": 50,
     "metadata": {},
     "output_type": "execute_result"
    }
   ],
   "source": [
    "np.random.seed(47)\n",
    "N_rep = 10000\n",
    "mean_replicates = np.empty(N_rep)\n",
    "for i in range(N_rep):\n",
    "    mean_replicates[i] = np.mean(np.random.choice(boxoffice_df['Domestic Gross'],len(boxoffice_df['Domestic Gross'])))\n",
    "gross_confidence_interval = np.percentile(mean_replicates,[2.5,97.5])\n",
    "gross_confidence_interval"
   ]
  },
  {
   "cell_type": "code",
   "execution_count": 51,
   "metadata": {},
   "outputs": [
    {
     "data": {
      "text/plain": [
       "array([41989618.33889896, 64092731.19290581])"
      ]
     },
     "execution_count": 51,
     "metadata": {},
     "output_type": "execute_result"
    }
   ],
   "source": [
    "np.random.seed(47)\n",
    "diff_std_replicates = np.empty(N_rep)\n",
    "for i in range(N_rep):\n",
    "    good_sample = np.random.choice(good_reception['Domestic Gross'], len(good_reception['Domestic Gross']))\n",
    "    bad_sample = np.random.choice(bad_reception['Domestic Gross'], len(bad_reception['Domestic Gross']))\n",
    "    diff_std_replicates[i] = np.std(good_sample) - np.std(bad_sample)\n",
    "confidence_interval = np.percentile(diff_std_replicates,[2.5,97.5])\n",
    "confidence_interval"
   ]
  },
  {
   "cell_type": "code",
   "execution_count": 52,
   "metadata": {},
   "outputs": [
    {
     "data": {
      "image/png": "[encoded data removed]",
      "text/plain": [
       "<Figure size 720x360 with 1 Axes>"
      ]
     },
     "metadata": {
      "needs_background": "light"
     },
     "output_type": "display_data"
    }
   ],
   "source": [
    "_ = plt.figure(figsize=(10,5))\n",
    "_ = plt.hist(diff_std_replicates,bins=25)\n",
    "_ = plt.ticklabel_format(useOffset=False, style='plain')\n",
    "_ = plt.title('Difference in Positively and Negatively Rated Films by Audience')\n",
    "_ = plt.xlabel('Differene in Standard Deviation')\n",
    "_ = plt.ylabel('Number of Films')\n",
    "_ = plt.axvline(np.mean(diff_std_replicates),color='r')\n",
    "_ = plt.axvline(confidence_interval[0],color='r',linestyle='--')\n",
    "_ = plt.axvline(confidence_interval[1],color='r',linestyle='--')"
   ]
  },
  {
   "cell_type": "code",
   "execution_count": 53,
   "metadata": {},
   "outputs": [
    {
     "data": {
      "text/plain": [
       "21562746.958332308"
      ]
     },
     "execution_count": 53,
     "metadata": {},
     "output_type": "execute_result"
    }
   ],
   "source": [
    "mean_diff = np.mean(good_reception['Domestic Gross']) - np.mean(bad_reception['Domestic Gross'])\n",
    "mean_diff"
   ]
  },
  {
   "cell_type": "code",
   "execution_count": 54,
   "metadata": {},
   "outputs": [],
   "source": [
    "np.random.seed(47)\n",
    "bad_shifted = bad_reception['Domestic Gross'] - np.mean(bad_reception['Domestic Gross']) + np.mean(good_reception['Domestic Gross'])"
   ]
  },
  {
   "cell_type": "code",
   "execution_count": 55,
   "metadata": {},
   "outputs": [],
   "source": [
    "permutation_mean_replicates = np.empty(N_rep)\n",
    "for i in range(N_rep):\n",
    "    perm_good, perm_bad = permutation(good_reception['Domestic Gross'],bad_shifted)\n",
    "    permutation_mean_replicates[i] = np.mean(perm_good) - np.mean(perm_bad)"
   ]
  },
  {
   "cell_type": "code",
   "execution_count": 56,
   "metadata": {},
   "outputs": [
    {
     "data": {
      "text/plain": [
       "0.0"
      ]
     },
     "execution_count": 56,
     "metadata": {},
     "output_type": "execute_result"
    }
   ],
   "source": [
    "p_value = np.sum(permutation_mean_replicates >= mean_diff)/len(permutation_mean_replicates)\n",
    "p_value"
   ]
  },
  {
   "cell_type": "code",
   "execution_count": 57,
   "metadata": {},
   "outputs": [
    {
     "data": {
      "image/png": "[encoded data removed]",
      "text/plain": [
       "<Figure size 720x360 with 1 Axes>"
      ]
     },
     "metadata": {
      "needs_background": "light"
     },
     "output_type": "display_data"
    }
   ],
   "source": [
    "_ = plt.figure(figsize=(10,5))\n",
    "_ = plt.hist(mean_diff, bins=25)\n",
    "_ = plt.hist(permutation_mean_replicates,bins=25,color='blue')\n",
    "_ = plt.ylabel('Number of Films')\n",
    "_ = plt.axvline(np.mean(permutation_mean_replicates), color='green')\n",
    "_ = plt.axvline(np.mean(mean_diff),color='red',linestyle='--')"
   ]
  },
  {
   "cell_type": "markdown",
   "metadata": {},
   "source": [
    "In contrast to critics' ratings, the audience ratings do have an impact on box office gross. With a final p-value of 0.0, the difference between the films with good reception and bad reception is statistically significant. "
   ]
  },
  {
   "cell_type": "code",
   "execution_count": 58,
   "metadata": {},
   "outputs": [
    {
     "data": {
      "text/plain": [
       "Ttest_indResult(statistic=12.863954175531452, pvalue=5.188186792388572e-37)"
      ]
     },
     "execution_count": 58,
     "metadata": {},
     "output_type": "execute_result"
    }
   ],
   "source": [
    "good_reception = multiplier_df[multiplier_df['imdbRating'] >= 7.5]\n",
    "bad_reception = multiplier_df[multiplier_df['imdbRating'] <= 5.5]\n",
    "ttest_ind(good_reception['Domestic Multiplier'], bad_reception['Domestic Multiplier'])"
   ]
  },
  {
   "cell_type": "code",
   "execution_count": 59,
   "metadata": {},
   "outputs": [
    {
     "data": {
      "text/plain": [
       "Ttest_indResult(statistic=12.158341057591917, pvalue=5.562531411374487e-33)"
      ]
     },
     "execution_count": 59,
     "metadata": {},
     "output_type": "execute_result"
    }
   ],
   "source": [
    "ttest_ind(good_reception['Domestic Multiplier'], bad_reception['Domestic Multiplier'], equal_var= False)"
   ]
  },
  {
   "cell_type": "code",
   "execution_count": 60,
   "metadata": {},
   "outputs": [
    {
     "name": "stdout",
     "output_type": "stream",
     "text": [
      "<class 'pandas.core.frame.DataFrame'>\n",
      "Int64Index: 1522 entries, 0 to 45187\n",
      "Data columns (total 15 columns):\n",
      " #   Column                 Non-Null Count  Dtype  \n",
      "---  ------                 --------------  -----  \n",
      " 0   imdbID                 1394 non-null   object \n",
      " 1   Title                  1522 non-null   object \n",
      " 2   Domestic Gross         1522 non-null   float64\n",
      " 3   Opening Weekend        1522 non-null   float64\n",
      " 4   Domestic Multiplier    1522 non-null   float64\n",
      " 5   Rotten Tomatoes Score  1472 non-null   float64\n",
      " 6   Metascore              1237 non-null   float64\n",
      " 7   imdbRating             1522 non-null   float64\n",
      " 8   imdbVotes              1521 non-null   float64\n",
      " 9   Year                   1522 non-null   int64  \n",
      " 10  Month                  1520 non-null   float64\n",
      " 11  budget                 571 non-null    float64\n",
      " 12  popularity             1521 non-null   float64\n",
      " 13  vote_average           1496 non-null   float64\n",
      " 14  vote_count             1496 non-null   float64\n",
      "dtypes: float64(12), int64(1), object(2)\n",
      "memory usage: 190.2+ KB\n"
     ]
    }
   ],
   "source": [
    "good_reception.info()"
   ]
  },
  {
   "cell_type": "code",
   "execution_count": 61,
   "metadata": {},
   "outputs": [
    {
     "name": "stdout",
     "output_type": "stream",
     "text": [
      "<class 'pandas.core.frame.DataFrame'>\n",
      "Int64Index: 1874 entries, 7 to 45366\n",
      "Data columns (total 15 columns):\n",
      " #   Column                 Non-Null Count  Dtype  \n",
      "---  ------                 --------------  -----  \n",
      " 0   imdbID                 1661 non-null   object \n",
      " 1   Title                  1874 non-null   object \n",
      " 2   Domestic Gross         1874 non-null   float64\n",
      " 3   Opening Weekend        1874 non-null   float64\n",
      " 4   Domestic Multiplier    1874 non-null   float64\n",
      " 5   Rotten Tomatoes Score  1642 non-null   float64\n",
      " 6   Metascore              1213 non-null   float64\n",
      " 7   imdbRating             1874 non-null   float64\n",
      " 8   imdbVotes              1874 non-null   float64\n",
      " 9   Year                   1874 non-null   int64  \n",
      " 10  Month                  1872 non-null   float64\n",
      " 11  budget                 673 non-null    float64\n",
      " 12  popularity             1874 non-null   float64\n",
      " 13  vote_average           1847 non-null   float64\n",
      " 14  vote_count             1847 non-null   float64\n",
      "dtypes: float64(12), int64(1), object(2)\n",
      "memory usage: 234.2+ KB\n"
     ]
    }
   ],
   "source": [
    "bad_reception.info()"
   ]
  },
  {
   "cell_type": "code",
   "execution_count": 62,
   "metadata": {},
   "outputs": [
    {
     "data": {
      "text/html": [
       "<div>\n",
       "<style scoped>\n",
       "    .dataframe tbody tr th:only-of-type {\n",
       "        vertical-align: middle;\n",
       "    }\n",
       "\n",
       "    .dataframe tbody tr th {\n",
       "        vertical-align: top;\n",
       "    }\n",
       "\n",
       "    .dataframe thead th {\n",
       "        text-align: right;\n",
       "    }\n",
       "</style>\n",
       "<table border=\"1\" class=\"dataframe\">\n",
       "  <thead>\n",
       "    <tr style=\"text-align: right;\">\n",
       "      <th></th>\n",
       "      <th>Domestic Gross</th>\n",
       "      <th>Opening Weekend</th>\n",
       "      <th>Domestic Multiplier</th>\n",
       "      <th>Rotten Tomatoes Score</th>\n",
       "      <th>Metascore</th>\n",
       "      <th>imdbRating</th>\n",
       "      <th>imdbVotes</th>\n",
       "      <th>Year</th>\n",
       "      <th>Month</th>\n",
       "      <th>budget</th>\n",
       "      <th>popularity</th>\n",
       "      <th>vote_average</th>\n",
       "      <th>vote_count</th>\n",
       "    </tr>\n",
       "  </thead>\n",
       "  <tbody>\n",
       "    <tr>\n",
       "      <th>count</th>\n",
       "      <td>1.522000e+03</td>\n",
       "      <td>1.522000e+03</td>\n",
       "      <td>1522.000000</td>\n",
       "      <td>1472.000000</td>\n",
       "      <td>1237.000000</td>\n",
       "      <td>1522.000000</td>\n",
       "      <td>1.521000e+03</td>\n",
       "      <td>1522.000000</td>\n",
       "      <td>1520.000000</td>\n",
       "      <td>5.710000e+02</td>\n",
       "      <td>1521.000000</td>\n",
       "      <td>1496.000000</td>\n",
       "      <td>1496.000000</td>\n",
       "    </tr>\n",
       "    <tr>\n",
       "      <th>mean</th>\n",
       "      <td>3.522177e+07</td>\n",
       "      <td>6.326616e+06</td>\n",
       "      <td>53.762620</td>\n",
       "      <td>86.066576</td>\n",
       "      <td>74.282943</td>\n",
       "      <td>7.796255</td>\n",
       "      <td>1.530556e+05</td>\n",
       "      <td>1999.486202</td>\n",
       "      <td>6.701316</td>\n",
       "      <td>2.612752e+07</td>\n",
       "      <td>6.307468</td>\n",
       "      <td>6.276203</td>\n",
       "      <td>449.236631</td>\n",
       "    </tr>\n",
       "    <tr>\n",
       "      <th>std</th>\n",
       "      <td>7.975043e+07</td>\n",
       "      <td>2.035744e+07</td>\n",
       "      <td>134.596303</td>\n",
       "      <td>12.386685</td>\n",
       "      <td>11.604282</td>\n",
       "      <td>0.284498</td>\n",
       "      <td>2.689384e+05</td>\n",
       "      <td>14.946369</td>\n",
       "      <td>3.613339</td>\n",
       "      <td>3.739471e+07</td>\n",
       "      <td>10.928355</td>\n",
       "      <td>1.737348</td>\n",
       "      <td>1181.332665</td>\n",
       "    </tr>\n",
       "    <tr>\n",
       "      <th>min</th>\n",
       "      <td>2.110000e+02</td>\n",
       "      <td>8.600000e+01</td>\n",
       "      <td>0.480129</td>\n",
       "      <td>19.000000</td>\n",
       "      <td>28.000000</td>\n",
       "      <td>7.500000</td>\n",
       "      <td>3.000000e+01</td>\n",
       "      <td>1921.000000</td>\n",
       "      <td>1.000000</td>\n",
       "      <td>8.000000e+00</td>\n",
       "      <td>0.000000</td>\n",
       "      <td>0.000000</td>\n",
       "      <td>0.000000</td>\n",
       "    </tr>\n",
       "    <tr>\n",
       "      <th>25%</th>\n",
       "      <td>1.617100e+05</td>\n",
       "      <td>1.228500e+04</td>\n",
       "      <td>4.285543</td>\n",
       "      <td>81.000000</td>\n",
       "      <td>68.000000</td>\n",
       "      <td>7.600000</td>\n",
       "      <td>5.118000e+03</td>\n",
       "      <td>1993.000000</td>\n",
       "      <td>3.000000</td>\n",
       "      <td>5.000000e+06</td>\n",
       "      <td>0.930397</td>\n",
       "      <td>5.700000</td>\n",
       "      <td>7.000000</td>\n",
       "    </tr>\n",
       "    <tr>\n",
       "      <th>50%</th>\n",
       "      <td>1.600878e+06</td>\n",
       "      <td>5.160250e+04</td>\n",
       "      <td>11.716726</td>\n",
       "      <td>89.000000</td>\n",
       "      <td>75.000000</td>\n",
       "      <td>7.700000</td>\n",
       "      <td>2.700200e+04</td>\n",
       "      <td>2004.000000</td>\n",
       "      <td>7.000000</td>\n",
       "      <td>1.500000e+07</td>\n",
       "      <td>3.468202</td>\n",
       "      <td>6.700000</td>\n",
       "      <td>29.000000</td>\n",
       "    </tr>\n",
       "    <tr>\n",
       "      <th>75%</th>\n",
       "      <td>3.162919e+07</td>\n",
       "      <td>7.295305e+05</td>\n",
       "      <td>39.288812</td>\n",
       "      <td>95.000000</td>\n",
       "      <td>83.000000</td>\n",
       "      <td>7.975000</td>\n",
       "      <td>1.777950e+05</td>\n",
       "      <td>2010.000000</td>\n",
       "      <td>10.000000</td>\n",
       "      <td>3.000000e+07</td>\n",
       "      <td>8.912292</td>\n",
       "      <td>7.400000</td>\n",
       "      <td>218.000000</td>\n",
       "    </tr>\n",
       "    <tr>\n",
       "      <th>max</th>\n",
       "      <td>9.366622e+08</td>\n",
       "      <td>2.479667e+08</td>\n",
       "      <td>1646.485102</td>\n",
       "      <td>100.000000</td>\n",
       "      <td>100.000000</td>\n",
       "      <td>9.300000</td>\n",
       "      <td>2.154564e+06</td>\n",
       "      <td>2017.000000</td>\n",
       "      <td>12.000000</td>\n",
       "      <td>3.800000e+08</td>\n",
       "      <td>187.860492</td>\n",
       "      <td>10.000000</td>\n",
       "      <td>11444.000000</td>\n",
       "    </tr>\n",
       "  </tbody>\n",
       "</table>\n",
       "</div>"
      ],
      "text/plain": [
       "       Domestic Gross  Opening Weekend  Domestic Multiplier  \\\n",
       "count    1.522000e+03     1.522000e+03          1522.000000   \n",
       "mean     3.522177e+07     6.326616e+06            53.762620   \n",
       "std      7.975043e+07     2.035744e+07           134.596303   \n",
       "min      2.110000e+02     8.600000e+01             0.480129   \n",
       "25%      1.617100e+05     1.228500e+04             4.285543   \n",
       "50%      1.600878e+06     5.160250e+04            11.716726   \n",
       "75%      3.162919e+07     7.295305e+05            39.288812   \n",
       "max      9.366622e+08     2.479667e+08          1646.485102   \n",
       "\n",
       "       Rotten Tomatoes Score    Metascore   imdbRating     imdbVotes  \\\n",
       "count            1472.000000  1237.000000  1522.000000  1.521000e+03   \n",
       "mean               86.066576    74.282943     7.796255  1.530556e+05   \n",
       "std                12.386685    11.604282     0.284498  2.689384e+05   \n",
       "min                19.000000    28.000000     7.500000  3.000000e+01   \n",
       "25%                81.000000    68.000000     7.600000  5.118000e+03   \n",
       "50%                89.000000    75.000000     7.700000  2.700200e+04   \n",
       "75%                95.000000    83.000000     7.975000  1.777950e+05   \n",
       "max               100.000000   100.000000     9.300000  2.154564e+06   \n",
       "\n",
       "              Year        Month        budget   popularity  vote_average  \\\n",
       "count  1522.000000  1520.000000  5.710000e+02  1521.000000   1496.000000   \n",
       "mean   1999.486202     6.701316  2.612752e+07     6.307468      6.276203   \n",
       "std      14.946369     3.613339  3.739471e+07    10.928355      1.737348   \n",
       "min    1921.000000     1.000000  8.000000e+00     0.000000      0.000000   \n",
       "25%    1993.000000     3.000000  5.000000e+06     0.930397      5.700000   \n",
       "50%    2004.000000     7.000000  1.500000e+07     3.468202      6.700000   \n",
       "75%    2010.000000    10.000000  3.000000e+07     8.912292      7.400000   \n",
       "max    2017.000000    12.000000  3.800000e+08   187.860492     10.000000   \n",
       "\n",
       "         vote_count  \n",
       "count   1496.000000  \n",
       "mean     449.236631  \n",
       "std     1181.332665  \n",
       "min        0.000000  \n",
       "25%        7.000000  \n",
       "50%       29.000000  \n",
       "75%      218.000000  \n",
       "max    11444.000000  "
      ]
     },
     "execution_count": 62,
     "metadata": {},
     "output_type": "execute_result"
    }
   ],
   "source": [
    "good_reception.describe()"
   ]
  },
  {
   "cell_type": "code",
   "execution_count": 63,
   "metadata": {},
   "outputs": [
    {
     "data": {
      "text/html": [
       "<div>\n",
       "<style scoped>\n",
       "    .dataframe tbody tr th:only-of-type {\n",
       "        vertical-align: middle;\n",
       "    }\n",
       "\n",
       "    .dataframe tbody tr th {\n",
       "        vertical-align: top;\n",
       "    }\n",
       "\n",
       "    .dataframe thead th {\n",
       "        text-align: right;\n",
       "    }\n",
       "</style>\n",
       "<table border=\"1\" class=\"dataframe\">\n",
       "  <thead>\n",
       "    <tr style=\"text-align: right;\">\n",
       "      <th></th>\n",
       "      <th>Domestic Gross</th>\n",
       "      <th>Opening Weekend</th>\n",
       "      <th>Domestic Multiplier</th>\n",
       "      <th>Rotten Tomatoes Score</th>\n",
       "      <th>Metascore</th>\n",
       "      <th>imdbRating</th>\n",
       "      <th>imdbVotes</th>\n",
       "      <th>Year</th>\n",
       "      <th>Month</th>\n",
       "      <th>budget</th>\n",
       "      <th>popularity</th>\n",
       "      <th>vote_average</th>\n",
       "      <th>vote_count</th>\n",
       "    </tr>\n",
       "  </thead>\n",
       "  <tbody>\n",
       "    <tr>\n",
       "      <th>count</th>\n",
       "      <td>1.874000e+03</td>\n",
       "      <td>1.874000e+03</td>\n",
       "      <td>1874.000000</td>\n",
       "      <td>1642.000000</td>\n",
       "      <td>1213.000000</td>\n",
       "      <td>1874.000000</td>\n",
       "      <td>1874.000000</td>\n",
       "      <td>1874.000000</td>\n",
       "      <td>1872.000000</td>\n",
       "      <td>6.730000e+02</td>\n",
       "      <td>1874.000000</td>\n",
       "      <td>1847.000000</td>\n",
       "      <td>1847.000000</td>\n",
       "    </tr>\n",
       "    <tr>\n",
       "      <th>mean</th>\n",
       "      <td>1.626861e+07</td>\n",
       "      <td>5.509261e+06</td>\n",
       "      <td>7.048904</td>\n",
       "      <td>23.845311</td>\n",
       "      <td>35.407255</td>\n",
       "      <td>4.846745</td>\n",
       "      <td>18842.302561</td>\n",
       "      <td>2001.456777</td>\n",
       "      <td>6.259615</td>\n",
       "      <td>2.999414e+07</td>\n",
       "      <td>4.202634</td>\n",
       "      <td>5.272225</td>\n",
       "      <td>106.761776</td>\n",
       "    </tr>\n",
       "    <tr>\n",
       "      <th>std</th>\n",
       "      <td>2.871325e+07</td>\n",
       "      <td>1.006811e+07</td>\n",
       "      <td>73.196268</td>\n",
       "      <td>17.981586</td>\n",
       "      <td>13.240752</td>\n",
       "      <td>0.684402</td>\n",
       "      <td>32315.145308</td>\n",
       "      <td>9.725518</td>\n",
       "      <td>3.543109</td>\n",
       "      <td>3.319141e+07</td>\n",
       "      <td>4.711991</td>\n",
       "      <td>1.643244</td>\n",
       "      <td>355.162424</td>\n",
       "    </tr>\n",
       "    <tr>\n",
       "      <th>min</th>\n",
       "      <td>3.000000e+01</td>\n",
       "      <td>2.000000e+01</td>\n",
       "      <td>0.999984</td>\n",
       "      <td>0.000000</td>\n",
       "      <td>1.000000</td>\n",
       "      <td>1.500000</td>\n",
       "      <td>19.000000</td>\n",
       "      <td>1977.000000</td>\n",
       "      <td>1.000000</td>\n",
       "      <td>1.000000e+00</td>\n",
       "      <td>0.000000</td>\n",
       "      <td>0.000000</td>\n",
       "      <td>0.000000</td>\n",
       "    </tr>\n",
       "    <tr>\n",
       "      <th>25%</th>\n",
       "      <td>1.691865e+05</td>\n",
       "      <td>4.869250e+04</td>\n",
       "      <td>1.966967</td>\n",
       "      <td>11.000000</td>\n",
       "      <td>26.000000</td>\n",
       "      <td>4.600000</td>\n",
       "      <td>2130.500000</td>\n",
       "      <td>1994.000000</td>\n",
       "      <td>3.000000</td>\n",
       "      <td>7.300000e+06</td>\n",
       "      <td>0.844255</td>\n",
       "      <td>4.700000</td>\n",
       "      <td>5.000000</td>\n",
       "    </tr>\n",
       "    <tr>\n",
       "      <th>50%</th>\n",
       "      <td>5.574408e+06</td>\n",
       "      <td>2.186745e+06</td>\n",
       "      <td>2.498905</td>\n",
       "      <td>19.500000</td>\n",
       "      <td>35.000000</td>\n",
       "      <td>5.100000</td>\n",
       "      <td>6698.500000</td>\n",
       "      <td>2003.000000</td>\n",
       "      <td>6.000000</td>\n",
       "      <td>1.900000e+07</td>\n",
       "      <td>2.397200</td>\n",
       "      <td>5.300000</td>\n",
       "      <td>18.000000</td>\n",
       "    </tr>\n",
       "    <tr>\n",
       "      <th>75%</th>\n",
       "      <td>1.971955e+07</td>\n",
       "      <td>6.609927e+06</td>\n",
       "      <td>3.389423</td>\n",
       "      <td>34.000000</td>\n",
       "      <td>44.000000</td>\n",
       "      <td>5.300000</td>\n",
       "      <td>20744.250000</td>\n",
       "      <td>2010.000000</td>\n",
       "      <td>9.000000</td>\n",
       "      <td>4.000000e+07</td>\n",
       "      <td>6.639289</td>\n",
       "      <td>6.300000</td>\n",
       "      <td>65.000000</td>\n",
       "    </tr>\n",
       "    <tr>\n",
       "      <th>max</th>\n",
       "      <td>3.005318e+08</td>\n",
       "      <td>1.428391e+08</td>\n",
       "      <td>2505.688057</td>\n",
       "      <td>100.000000</td>\n",
       "      <td>76.000000</td>\n",
       "      <td>5.500000</td>\n",
       "      <td>401686.000000</td>\n",
       "      <td>2017.000000</td>\n",
       "      <td>12.000000</td>\n",
       "      <td>2.000000e+08</td>\n",
       "      <td>88.561239</td>\n",
       "      <td>10.000000</td>\n",
       "      <td>6324.000000</td>\n",
       "    </tr>\n",
       "  </tbody>\n",
       "</table>\n",
       "</div>"
      ],
      "text/plain": [
       "       Domestic Gross  Opening Weekend  Domestic Multiplier  \\\n",
       "count    1.874000e+03     1.874000e+03          1874.000000   \n",
       "mean     1.626861e+07     5.509261e+06             7.048904   \n",
       "std      2.871325e+07     1.006811e+07            73.196268   \n",
       "min      3.000000e+01     2.000000e+01             0.999984   \n",
       "25%      1.691865e+05     4.869250e+04             1.966967   \n",
       "50%      5.574408e+06     2.186745e+06             2.498905   \n",
       "75%      1.971955e+07     6.609927e+06             3.389423   \n",
       "max      3.005318e+08     1.428391e+08          2505.688057   \n",
       "\n",
       "       Rotten Tomatoes Score    Metascore   imdbRating      imdbVotes  \\\n",
       "count            1642.000000  1213.000000  1874.000000    1874.000000   \n",
       "mean               23.845311    35.407255     4.846745   18842.302561   \n",
       "std                17.981586    13.240752     0.684402   32315.145308   \n",
       "min                 0.000000     1.000000     1.500000      19.000000   \n",
       "25%                11.000000    26.000000     4.600000    2130.500000   \n",
       "50%                19.500000    35.000000     5.100000    6698.500000   \n",
       "75%                34.000000    44.000000     5.300000   20744.250000   \n",
       "max               100.000000    76.000000     5.500000  401686.000000   \n",
       "\n",
       "              Year        Month        budget   popularity  vote_average  \\\n",
       "count  1874.000000  1872.000000  6.730000e+02  1874.000000   1847.000000   \n",
       "mean   2001.456777     6.259615  2.999414e+07     4.202634      5.272225   \n",
       "std       9.725518     3.543109  3.319141e+07     4.711991      1.643244   \n",
       "min    1977.000000     1.000000  1.000000e+00     0.000000      0.000000   \n",
       "25%    1994.000000     3.000000  7.300000e+06     0.844255      4.700000   \n",
       "50%    2003.000000     6.000000  1.900000e+07     2.397200      5.300000   \n",
       "75%    2010.000000     9.000000  4.000000e+07     6.639289      6.300000   \n",
       "max    2017.000000    12.000000  2.000000e+08    88.561239     10.000000   \n",
       "\n",
       "        vote_count  \n",
       "count  1847.000000  \n",
       "mean    106.761776  \n",
       "std     355.162424  \n",
       "min       0.000000  \n",
       "25%       5.000000  \n",
       "50%      18.000000  \n",
       "75%      65.000000  \n",
       "max    6324.000000  "
      ]
     },
     "execution_count": 63,
     "metadata": {},
     "output_type": "execute_result"
    }
   ],
   "source": [
    "bad_reception.describe()"
   ]
  },
  {
   "cell_type": "code",
   "execution_count": 64,
   "metadata": {},
   "outputs": [
    {
     "data": {
      "image/png": "[encoded data removed]",
      "text/plain": [
       "<Figure size 720x720 with 1 Axes>"
      ]
     },
     "metadata": {
      "needs_background": "light"
     },
     "output_type": "display_data"
    }
   ],
   "source": [
    "_ = plt.figure(figsize=(10,10))\n",
    "_ = plt.scatter(good_reception['Domestic Gross']/1000000, good_reception['Domestic Multiplier'], label='Good Reception')\n",
    "_ = plt.scatter(bad_reception['Domestic Gross']/1000000, bad_reception['Domestic Multiplier'], label='Bad Reception')\n",
    "_ = plt.xlabel('Opening Weekend Gross (Millions)')\n",
    "_ = plt.ylabel('Domestic Multiplier')\n",
    "_ = plt.ylim(0,500)\n",
    "_ = plt.title('Domestic Multiplier of Films with Good and Bad Reception')\n",
    "_ = plt.legend()"
   ]
  },
  {
   "cell_type": "code",
   "execution_count": 65,
   "metadata": {},
   "outputs": [
    {
     "data": {
      "text/plain": [
       "array([20.73640892, 25.12030666])"
      ]
     },
     "execution_count": 65,
     "metadata": {},
     "output_type": "execute_result"
    }
   ],
   "source": [
    "np.random.seed(47)\n",
    "N_rep = 10000\n",
    "mean_replicates = np.empty(N_rep)\n",
    "for i in range(N_rep):\n",
    "    mean_replicates[i] = np.mean(np.random.choice(multiplier,len(multiplier)))\n",
    "multiplier_confidence_interval = np.percentile(mean_replicates,[2.5,97.5])\n",
    "multiplier_confidence_interval"
   ]
  },
  {
   "cell_type": "code",
   "execution_count": 66,
   "metadata": {},
   "outputs": [
    {
     "data": {
      "text/plain": [
       "array([ 12.91763416, 119.55957122])"
      ]
     },
     "execution_count": 66,
     "metadata": {},
     "output_type": "execute_result"
    }
   ],
   "source": [
    "np.random.seed(47)\n",
    "diff_std_replicates = np.empty(N_rep)\n",
    "for i in range(N_rep):\n",
    "    good_sample = np.random.choice(good_reception['Domestic Multiplier'], len(good_reception['Domestic Multiplier']))\n",
    "    bad_sample = np.random.choice(bad_reception['Domestic Multiplier'], len(bad_reception['Domestic Multiplier']))\n",
    "    diff_std_replicates[i] = np.std(good_sample) - np.std(bad_sample)\n",
    "confidence_interval = np.percentile(diff_std_replicates,[2.5,97.5])\n",
    "confidence_interval"
   ]
  },
  {
   "cell_type": "code",
   "execution_count": 67,
   "metadata": {},
   "outputs": [
    {
     "data": {
      "image/png": "[encoded data removed]",
      "text/plain": [
       "<Figure size 720x360 with 1 Axes>"
      ]
     },
     "metadata": {
      "needs_background": "light"
     },
     "output_type": "display_data"
    }
   ],
   "source": [
    "_ = plt.figure(figsize=(10,5))\n",
    "_ = plt.hist(diff_std_replicates,bins=25)\n",
    "_ = plt.title('Difference of Postive and Negative Rated Films from Audiences ')\n",
    "_ = plt.xlabel('Differene in Standard Deviation')\n",
    "_ = plt.ylabel('Number of Films')\n",
    "_ = plt.axvline(np.mean(diff_std_replicates),color='r')\n",
    "_ = plt.axvline(confidence_interval[0],color='r',linestyle='--')\n",
    "_ = plt.axvline(confidence_interval[1],color='r',linestyle='--')"
   ]
  },
  {
   "cell_type": "code",
   "execution_count": 68,
   "metadata": {},
   "outputs": [
    {
     "data": {
      "text/plain": [
       "46.71371523088091"
      ]
     },
     "execution_count": 68,
     "metadata": {},
     "output_type": "execute_result"
    }
   ],
   "source": [
    "mean_diff = np.mean(good_reception['Domestic Multiplier']) - np.mean(bad_reception['Domestic Multiplier'])\n",
    "mean_diff"
   ]
  },
  {
   "cell_type": "code",
   "execution_count": 69,
   "metadata": {},
   "outputs": [],
   "source": [
    "np.random.seed(47)\n",
    "bad_shifted = bad_reception['Domestic Multiplier'] - np.mean(bad_reception['Domestic Multiplier']) + np.mean(good_reception['Domestic Multiplier'])"
   ]
  },
  {
   "cell_type": "code",
   "execution_count": 70,
   "metadata": {},
   "outputs": [],
   "source": [
    "permutation_mean_replicates = np.empty(N_rep)\n",
    "for i in range(N_rep):\n",
    "    perm_good, perm_bad = permutation(good_reception['Domestic Multiplier'],bad_shifted)\n",
    "    permutation_mean_replicates[i] = np.mean(perm_good) - np.mean(perm_bad)"
   ]
  },
  {
   "cell_type": "code",
   "execution_count": 71,
   "metadata": {},
   "outputs": [
    {
     "data": {
      "text/plain": [
       "0.0"
      ]
     },
     "execution_count": 71,
     "metadata": {},
     "output_type": "execute_result"
    }
   ],
   "source": [
    "p_value = np.sum(permutation_mean_replicates >= mean_diff)/len(permutation_mean_replicates)\n",
    "p_value"
   ]
  },
  {
   "cell_type": "code",
   "execution_count": 72,
   "metadata": {},
   "outputs": [
    {
     "data": {
      "image/png": "[encoded data removed]",
      "text/plain": [
       "<Figure size 720x360 with 1 Axes>"
      ]
     },
     "metadata": {
      "needs_background": "light"
     },
     "output_type": "display_data"
    }
   ],
   "source": [
    "_ = plt.figure(figsize=(10,5))\n",
    "_ = plt.hist(mean_diff, bins=25)\n",
    "_ = plt.hist(permutation_mean_replicates,bins=25,color='blue')\n",
    "_ = plt.ylabel('Number of Films')\n",
    "_ = plt.axvline(np.mean(permutation_mean_replicates), color='green')\n",
    "_ = plt.axvline(np.mean(mean_diff),color='red',linestyle='--')"
   ]
  },
  {
   "cell_type": "markdown",
   "metadata": {},
   "source": [
    "Finally, the null hypothesis that audience ratings and box office multipliers are independent can be rejected. Similar to critics ratings, the multiplier of films are impacted by audience ratings. "
   ]
  },
  {
   "cell_type": "markdown",
   "metadata": {},
   "source": [
    "In conclusion, using statistical techniques such as inferential and frequentist statistics we can assert that the reception of a film does have a statistical significance in box office performance. Due to critics ratings not impacting box office gross for films, we can also conclude that audience ratings are of greater significance to box office performance than critics. We cannot deny however the importance of critics' reviews as they did affect box office multipliers of films. Through this statistical analysis, we have gained valuable insights into our data. We now understand the importance of the reception and how it impacts the overall box office performance. These metrics provided by the dataset will be critical in our predictive model producing accurate predictions.  "
   ]
  }
 ],
 "metadata": {
  "kernelspec": {
   "display_name": "Python 3",
   "language": "python",
   "name": "python3"
  },
  "language_info": {
   "codemirror_mode": {
    "name": "ipython",
    "version": 3
   },
   "file_extension": ".py",
   "mimetype": "text/x-python",
   "name": "python",
   "nbconvert_exporter": "python",
   "pygments_lexer": "ipython3",
   "version": "3.7.6"
  }
 },
 "nbformat": 4,
 "nbformat_minor": 2
}
