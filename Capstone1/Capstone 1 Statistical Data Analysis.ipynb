{
 "cells": [
  {
   "cell_type": "code",
   "execution_count": 1,
   "metadata": {},
   "outputs": [],
   "source": [
    "import pandas as pd\n",
    "import numpy as np\n",
    "from datetime import datetime\n",
    "import matplotlib.pyplot as plt\n",
    "import json\n",
    "from pandas.io.json import json_normalize\n",
    "from scipy.stats import t, ttest_ind"
   ]
  },
  {
   "cell_type": "code",
   "execution_count": 2,
   "metadata": {},
   "outputs": [
    {
     "data": {
      "text/html": [
       "<div>\n",
       "<style scoped>\n",
       "    .dataframe tbody tr th:only-of-type {\n",
       "        vertical-align: middle;\n",
       "    }\n",
       "\n",
       "    .dataframe tbody tr th {\n",
       "        vertical-align: top;\n",
       "    }\n",
       "\n",
       "    .dataframe thead th {\n",
       "        text-align: right;\n",
       "    }\n",
       "</style>\n",
       "<table border=\"1\" class=\"dataframe\">\n",
       "  <thead>\n",
       "    <tr style=\"text-align: right;\">\n",
       "      <th></th>\n",
       "      <th>imdbID</th>\n",
       "      <th>Title</th>\n",
       "      <th>Year</th>\n",
       "      <th>Rated</th>\n",
       "      <th>Budget</th>\n",
       "      <th>Domestic Gross</th>\n",
       "      <th>Opening Weekend</th>\n",
       "      <th>imdbRating</th>\n",
       "      <th>imdbVotes</th>\n",
       "      <th>Rotten Tomatoes Score</th>\n",
       "      <th>...</th>\n",
       "      <th>Runtime</th>\n",
       "      <th>Director</th>\n",
       "      <th>Actors</th>\n",
       "      <th>Awards</th>\n",
       "      <th>vote_average</th>\n",
       "      <th>vote_count</th>\n",
       "      <th>belongs_to_collection</th>\n",
       "      <th>production_companies</th>\n",
       "      <th>spoken_languages</th>\n",
       "      <th>multiplier</th>\n",
       "    </tr>\n",
       "  </thead>\n",
       "  <tbody>\n",
       "    <tr>\n",
       "      <td>0</td>\n",
       "      <td>tt0114709</td>\n",
       "      <td>Toy Story</td>\n",
       "      <td>1995</td>\n",
       "      <td>G</td>\n",
       "      <td>NaN</td>\n",
       "      <td>191796233.0</td>\n",
       "      <td>29140617.0</td>\n",
       "      <td>8.3</td>\n",
       "      <td>820774.0</td>\n",
       "      <td>100.0</td>\n",
       "      <td>...</td>\n",
       "      <td>81.0</td>\n",
       "      <td>John Lasseter</td>\n",
       "      <td>Tom Hanks, Tim Allen, Don Rickles, Jim Varney</td>\n",
       "      <td>Nominated for 3 Oscars. Another 23 wins &amp; 17 n...</td>\n",
       "      <td>7.7</td>\n",
       "      <td>5415.0</td>\n",
       "      <td>{'id': 10194, 'name': 'Toy Story Collection', ...</td>\n",
       "      <td>[{'name': 'Pixar Animation Studios', 'id': 3}]</td>\n",
       "      <td>[{'iso_639_1': 'en', 'name': 'English'}]</td>\n",
       "      <td>6.581749</td>\n",
       "    </tr>\n",
       "    <tr>\n",
       "      <td>1</td>\n",
       "      <td>tt0113497</td>\n",
       "      <td>Jumanji</td>\n",
       "      <td>1995</td>\n",
       "      <td>PG</td>\n",
       "      <td>65000000.0</td>\n",
       "      <td>100475249.0</td>\n",
       "      <td>11084370.0</td>\n",
       "      <td>7.0</td>\n",
       "      <td>276338.0</td>\n",
       "      <td>54.0</td>\n",
       "      <td>...</td>\n",
       "      <td>104.0</td>\n",
       "      <td>Joe Johnston</td>\n",
       "      <td>Robin Williams, Jonathan Hyde, Kirsten Dunst, ...</td>\n",
       "      <td>4 wins &amp; 9 nominations.</td>\n",
       "      <td>6.9</td>\n",
       "      <td>2413.0</td>\n",
       "      <td>NaN</td>\n",
       "      <td>[{'name': 'TriStar Pictures', 'id': 559}, {'na...</td>\n",
       "      <td>[{'iso_639_1': 'en', 'name': 'English'}, {'iso...</td>\n",
       "      <td>9.064588</td>\n",
       "    </tr>\n",
       "    <tr>\n",
       "      <td>2</td>\n",
       "      <td>tt0113228</td>\n",
       "      <td>Grumpier Old Men</td>\n",
       "      <td>1995</td>\n",
       "      <td>PG-13</td>\n",
       "      <td>NaN</td>\n",
       "      <td>71518503.0</td>\n",
       "      <td>7797185.0</td>\n",
       "      <td>6.7</td>\n",
       "      <td>22673.0</td>\n",
       "      <td>17.0</td>\n",
       "      <td>...</td>\n",
       "      <td>101.0</td>\n",
       "      <td>Howard Deutch</td>\n",
       "      <td>Walter Matthau, Jack Lemmon, Sophia Loren, Ann...</td>\n",
       "      <td>2 wins &amp; 2 nominations.</td>\n",
       "      <td>6.5</td>\n",
       "      <td>92.0</td>\n",
       "      <td>{'id': 119050, 'name': 'Grumpy Old Men Collect...</td>\n",
       "      <td>[{'name': 'Warner Bros.', 'id': 6194}, {'name'...</td>\n",
       "      <td>[{'iso_639_1': 'en', 'name': 'English'}]</td>\n",
       "      <td>9.172349</td>\n",
       "    </tr>\n",
       "    <tr>\n",
       "      <td>3</td>\n",
       "      <td>tt0114885</td>\n",
       "      <td>Waiting to Exhale</td>\n",
       "      <td>1995</td>\n",
       "      <td>R</td>\n",
       "      <td>NaN</td>\n",
       "      <td>67052156.0</td>\n",
       "      <td>14126927.0</td>\n",
       "      <td>5.9</td>\n",
       "      <td>8898.0</td>\n",
       "      <td>56.0</td>\n",
       "      <td>...</td>\n",
       "      <td>124.0</td>\n",
       "      <td>Forest Whitaker</td>\n",
       "      <td>Whitney Houston, Angela Bassett, Loretta Devin...</td>\n",
       "      <td>8 wins &amp; 9 nominations.</td>\n",
       "      <td>6.1</td>\n",
       "      <td>34.0</td>\n",
       "      <td>NaN</td>\n",
       "      <td>[{'name': 'Twentieth Century Fox Film Corporat...</td>\n",
       "      <td>[{'iso_639_1': 'en', 'name': 'English'}]</td>\n",
       "      <td>4.746408</td>\n",
       "    </tr>\n",
       "    <tr>\n",
       "      <td>4</td>\n",
       "      <td>tt0113041</td>\n",
       "      <td>Father of the Bride Part II</td>\n",
       "      <td>1995</td>\n",
       "      <td>PG</td>\n",
       "      <td>NaN</td>\n",
       "      <td>76594107.0</td>\n",
       "      <td>11134978.0</td>\n",
       "      <td>6.0</td>\n",
       "      <td>31909.0</td>\n",
       "      <td>48.0</td>\n",
       "      <td>...</td>\n",
       "      <td>106.0</td>\n",
       "      <td>Charles Shyer</td>\n",
       "      <td>Steve Martin, Diane Keaton, Martin Short, Kimb...</td>\n",
       "      <td>Nominated for 1 Golden Globe. Another 1 win &amp; ...</td>\n",
       "      <td>5.7</td>\n",
       "      <td>173.0</td>\n",
       "      <td>{'id': 96871, 'name': 'Father of the Bride Col...</td>\n",
       "      <td>[{'name': 'Sandollar Productions', 'id': 5842}...</td>\n",
       "      <td>[{'iso_639_1': 'en', 'name': 'English'}]</td>\n",
       "      <td>6.878694</td>\n",
       "    </tr>\n",
       "  </tbody>\n",
       "</table>\n",
       "<p>5 rows × 22 columns</p>\n",
       "</div>"
      ],
      "text/plain": [
       "      imdbID                        Title  Year  Rated      Budget  \\\n",
       "0  tt0114709                    Toy Story  1995      G         NaN   \n",
       "1  tt0113497                      Jumanji  1995     PG  65000000.0   \n",
       "2  tt0113228             Grumpier Old Men  1995  PG-13         NaN   \n",
       "3  tt0114885            Waiting to Exhale  1995      R         NaN   \n",
       "4  tt0113041  Father of the Bride Part II  1995     PG         NaN   \n",
       "\n",
       "   Domestic Gross  Opening Weekend  imdbRating  imdbVotes  \\\n",
       "0     191796233.0       29140617.0         8.3   820774.0   \n",
       "1     100475249.0       11084370.0         7.0   276338.0   \n",
       "2      71518503.0        7797185.0         6.7    22673.0   \n",
       "3      67052156.0       14126927.0         5.9     8898.0   \n",
       "4      76594107.0       11134978.0         6.0    31909.0   \n",
       "\n",
       "   Rotten Tomatoes Score  ...  Runtime         Director  \\\n",
       "0                  100.0  ...     81.0    John Lasseter   \n",
       "1                   54.0  ...    104.0     Joe Johnston   \n",
       "2                   17.0  ...    101.0    Howard Deutch   \n",
       "3                   56.0  ...    124.0  Forest Whitaker   \n",
       "4                   48.0  ...    106.0    Charles Shyer   \n",
       "\n",
       "                                              Actors  \\\n",
       "0      Tom Hanks, Tim Allen, Don Rickles, Jim Varney   \n",
       "1  Robin Williams, Jonathan Hyde, Kirsten Dunst, ...   \n",
       "2  Walter Matthau, Jack Lemmon, Sophia Loren, Ann...   \n",
       "3  Whitney Houston, Angela Bassett, Loretta Devin...   \n",
       "4  Steve Martin, Diane Keaton, Martin Short, Kimb...   \n",
       "\n",
       "                                              Awards vote_average vote_count  \\\n",
       "0  Nominated for 3 Oscars. Another 23 wins & 17 n...          7.7     5415.0   \n",
       "1                            4 wins & 9 nominations.          6.9     2413.0   \n",
       "2                            2 wins & 2 nominations.          6.5       92.0   \n",
       "3                            8 wins & 9 nominations.          6.1       34.0   \n",
       "4  Nominated for 1 Golden Globe. Another 1 win & ...          5.7      173.0   \n",
       "\n",
       "                               belongs_to_collection  \\\n",
       "0  {'id': 10194, 'name': 'Toy Story Collection', ...   \n",
       "1                                                NaN   \n",
       "2  {'id': 119050, 'name': 'Grumpy Old Men Collect...   \n",
       "3                                                NaN   \n",
       "4  {'id': 96871, 'name': 'Father of the Bride Col...   \n",
       "\n",
       "                                production_companies  \\\n",
       "0     [{'name': 'Pixar Animation Studios', 'id': 3}]   \n",
       "1  [{'name': 'TriStar Pictures', 'id': 559}, {'na...   \n",
       "2  [{'name': 'Warner Bros.', 'id': 6194}, {'name'...   \n",
       "3  [{'name': 'Twentieth Century Fox Film Corporat...   \n",
       "4  [{'name': 'Sandollar Productions', 'id': 5842}...   \n",
       "\n",
       "                                    spoken_languages multiplier  \n",
       "0           [{'iso_639_1': 'en', 'name': 'English'}]   6.581749  \n",
       "1  [{'iso_639_1': 'en', 'name': 'English'}, {'iso...   9.064588  \n",
       "2           [{'iso_639_1': 'en', 'name': 'English'}]   9.172349  \n",
       "3           [{'iso_639_1': 'en', 'name': 'English'}]   4.746408  \n",
       "4           [{'iso_639_1': 'en', 'name': 'English'}]   6.878694  \n",
       "\n",
       "[5 rows x 22 columns]"
      ]
     },
     "execution_count": 2,
     "metadata": {},
     "output_type": "execute_result"
    }
   ],
   "source": [
    "bodf = pd.read_csv('boxoffice.csv',index_col=0)\n",
    "bodf.head()"
   ]
  },
  {
   "cell_type": "code",
   "execution_count": 3,
   "metadata": {},
   "outputs": [
    {
     "name": "stdout",
     "output_type": "stream",
     "text": [
      "<class 'pandas.core.frame.DataFrame'>\n",
      "Int64Index: 12047 entries, 0 to 45373\n",
      "Data columns (total 22 columns):\n",
      "imdbID                   10793 non-null object\n",
      "Title                    12047 non-null object\n",
      "Year                     12047 non-null object\n",
      "Rated                    11534 non-null object\n",
      "Budget                   2972 non-null float64\n",
      "Domestic Gross           12047 non-null float64\n",
      "Opening Weekend          11022 non-null float64\n",
      "imdbRating               12046 non-null float64\n",
      "imdbVotes                12045 non-null float64\n",
      "Rotten Tomatoes Score    11248 non-null float64\n",
      "Metascore                8974 non-null float64\n",
      "Genre                    12045 non-null object\n",
      "Runtime                  12044 non-null float64\n",
      "Director                 12042 non-null object\n",
      "Actors                   11992 non-null object\n",
      "Awards                   9804 non-null object\n",
      "vote_average             11884 non-null float64\n",
      "vote_count               11884 non-null float64\n",
      "belongs_to_collection    1519 non-null object\n",
      "production_companies     11884 non-null object\n",
      "spoken_languages         11884 non-null object\n",
      "multiplier               11022 non-null float64\n",
      "dtypes: float64(11), object(11)\n",
      "memory usage: 2.1+ MB\n"
     ]
    }
   ],
   "source": [
    "bodf.info()"
   ]
  },
  {
   "cell_type": "code",
   "execution_count": 4,
   "metadata": {},
   "outputs": [
    {
     "data": {
      "text/html": [
       "<div>\n",
       "<style scoped>\n",
       "    .dataframe tbody tr th:only-of-type {\n",
       "        vertical-align: middle;\n",
       "    }\n",
       "\n",
       "    .dataframe tbody tr th {\n",
       "        vertical-align: top;\n",
       "    }\n",
       "\n",
       "    .dataframe thead th {\n",
       "        text-align: right;\n",
       "    }\n",
       "</style>\n",
       "<table border=\"1\" class=\"dataframe\">\n",
       "  <thead>\n",
       "    <tr style=\"text-align: right;\">\n",
       "      <th></th>\n",
       "      <th>Budget</th>\n",
       "      <th>Domestic Gross</th>\n",
       "      <th>Opening Weekend</th>\n",
       "      <th>imdbRating</th>\n",
       "      <th>imdbVotes</th>\n",
       "      <th>Rotten Tomatoes Score</th>\n",
       "      <th>Metascore</th>\n",
       "      <th>Runtime</th>\n",
       "      <th>vote_average</th>\n",
       "      <th>vote_count</th>\n",
       "      <th>multiplier</th>\n",
       "    </tr>\n",
       "  </thead>\n",
       "  <tbody>\n",
       "    <tr>\n",
       "      <td>count</td>\n",
       "      <td>2.972000e+03</td>\n",
       "      <td>1.204700e+04</td>\n",
       "      <td>1.102200e+04</td>\n",
       "      <td>12046.000000</td>\n",
       "      <td>1.204500e+04</td>\n",
       "      <td>11248.000000</td>\n",
       "      <td>8974.000000</td>\n",
       "      <td>12044.000000</td>\n",
       "      <td>11884.000000</td>\n",
       "      <td>11884.000000</td>\n",
       "      <td>11022.000000</td>\n",
       "    </tr>\n",
       "    <tr>\n",
       "      <td>mean</td>\n",
       "      <td>4.439488e+07</td>\n",
       "      <td>2.155059e+07</td>\n",
       "      <td>5.629878e+06</td>\n",
       "      <td>6.451337</td>\n",
       "      <td>5.058787e+04</td>\n",
       "      <td>59.125445</td>\n",
       "      <td>57.346891</td>\n",
       "      <td>104.818001</td>\n",
       "      <td>5.834239</td>\n",
       "      <td>187.550067</td>\n",
       "      <td>22.756284</td>\n",
       "    </tr>\n",
       "    <tr>\n",
       "      <td>std</td>\n",
       "      <td>4.494077e+07</td>\n",
       "      <td>4.719193e+07</td>\n",
       "      <td>1.376996e+07</td>\n",
       "      <td>0.984722</td>\n",
       "      <td>1.224700e+05</td>\n",
       "      <td>27.648677</td>\n",
       "      <td>17.593263</td>\n",
       "      <td>21.546312</td>\n",
       "      <td>1.628050</td>\n",
       "      <td>630.690179</td>\n",
       "      <td>118.109832</td>\n",
       "    </tr>\n",
       "    <tr>\n",
       "      <td>min</td>\n",
       "      <td>2.200000e+02</td>\n",
       "      <td>3.000000e+01</td>\n",
       "      <td>2.000000e+01</td>\n",
       "      <td>1.500000</td>\n",
       "      <td>1.700000e+01</td>\n",
       "      <td>0.000000</td>\n",
       "      <td>1.000000</td>\n",
       "      <td>4.000000</td>\n",
       "      <td>0.000000</td>\n",
       "      <td>0.000000</td>\n",
       "      <td>0.480129</td>\n",
       "    </tr>\n",
       "    <tr>\n",
       "      <td>25%</td>\n",
       "      <td>1.300000e+07</td>\n",
       "      <td>1.394235e+05</td>\n",
       "      <td>1.714725e+04</td>\n",
       "      <td>5.900000</td>\n",
       "      <td>2.523000e+03</td>\n",
       "      <td>37.000000</td>\n",
       "      <td>45.000000</td>\n",
       "      <td>92.000000</td>\n",
       "      <td>5.300000</td>\n",
       "      <td>6.000000</td>\n",
       "      <td>2.548041</td>\n",
       "    </tr>\n",
       "    <tr>\n",
       "      <td>50%</td>\n",
       "      <td>3.000000e+07</td>\n",
       "      <td>2.479538e+06</td>\n",
       "      <td>1.940740e+05</td>\n",
       "      <td>6.500000</td>\n",
       "      <td>9.456000e+03</td>\n",
       "      <td>64.000000</td>\n",
       "      <td>59.000000</td>\n",
       "      <td>101.000000</td>\n",
       "      <td>6.100000</td>\n",
       "      <td>19.000000</td>\n",
       "      <td>3.960321</td>\n",
       "    </tr>\n",
       "    <tr>\n",
       "      <td>75%</td>\n",
       "      <td>6.000000e+07</td>\n",
       "      <td>2.180542e+07</td>\n",
       "      <td>5.520745e+06</td>\n",
       "      <td>7.200000</td>\n",
       "      <td>4.182100e+04</td>\n",
       "      <td>83.000000</td>\n",
       "      <td>71.000000</td>\n",
       "      <td>113.000000</td>\n",
       "      <td>6.800000</td>\n",
       "      <td>94.000000</td>\n",
       "      <td>11.084361</td>\n",
       "    </tr>\n",
       "    <tr>\n",
       "      <td>max</td>\n",
       "      <td>3.000000e+08</td>\n",
       "      <td>9.366622e+08</td>\n",
       "      <td>2.479667e+08</td>\n",
       "      <td>9.300000</td>\n",
       "      <td>2.154564e+06</td>\n",
       "      <td>100.000000</td>\n",
       "      <td>100.000000</td>\n",
       "      <td>566.000000</td>\n",
       "      <td>10.000000</td>\n",
       "      <td>12114.000000</td>\n",
       "      <td>5757.944732</td>\n",
       "    </tr>\n",
       "  </tbody>\n",
       "</table>\n",
       "</div>"
      ],
      "text/plain": [
       "             Budget  Domestic Gross  Opening Weekend    imdbRating  \\\n",
       "count  2.972000e+03    1.204700e+04     1.102200e+04  12046.000000   \n",
       "mean   4.439488e+07    2.155059e+07     5.629878e+06      6.451337   \n",
       "std    4.494077e+07    4.719193e+07     1.376996e+07      0.984722   \n",
       "min    2.200000e+02    3.000000e+01     2.000000e+01      1.500000   \n",
       "25%    1.300000e+07    1.394235e+05     1.714725e+04      5.900000   \n",
       "50%    3.000000e+07    2.479538e+06     1.940740e+05      6.500000   \n",
       "75%    6.000000e+07    2.180542e+07     5.520745e+06      7.200000   \n",
       "max    3.000000e+08    9.366622e+08     2.479667e+08      9.300000   \n",
       "\n",
       "          imdbVotes  Rotten Tomatoes Score    Metascore       Runtime  \\\n",
       "count  1.204500e+04           11248.000000  8974.000000  12044.000000   \n",
       "mean   5.058787e+04              59.125445    57.346891    104.818001   \n",
       "std    1.224700e+05              27.648677    17.593263     21.546312   \n",
       "min    1.700000e+01               0.000000     1.000000      4.000000   \n",
       "25%    2.523000e+03              37.000000    45.000000     92.000000   \n",
       "50%    9.456000e+03              64.000000    59.000000    101.000000   \n",
       "75%    4.182100e+04              83.000000    71.000000    113.000000   \n",
       "max    2.154564e+06             100.000000   100.000000    566.000000   \n",
       "\n",
       "       vote_average    vote_count    multiplier  \n",
       "count  11884.000000  11884.000000  11022.000000  \n",
       "mean       5.834239    187.550067     22.756284  \n",
       "std        1.628050    630.690179    118.109832  \n",
       "min        0.000000      0.000000      0.480129  \n",
       "25%        5.300000      6.000000      2.548041  \n",
       "50%        6.100000     19.000000      3.960321  \n",
       "75%        6.800000     94.000000     11.084361  \n",
       "max       10.000000  12114.000000   5757.944732  "
      ]
     },
     "execution_count": 4,
     "metadata": {},
     "output_type": "execute_result"
    }
   ],
   "source": [
    "bodf.describe()"
   ]
  },
  {
   "cell_type": "code",
   "execution_count": 5,
   "metadata": {},
   "outputs": [
    {
     "data": {
      "image/png": "[encoded data removed]",
      "text/plain": [
       "<Figure size 720x720 with 1 Axes>"
      ]
     },
     "metadata": {
      "needs_background": "light"
     },
     "output_type": "display_data"
    }
   ],
   "source": [
    "_ = plt.figure(figsize=(10,10))\n",
    "_ = plt.hist(bodf['Domestic Gross'])\n",
    "_ = plt.title('Domestic Gross Historgram')\n",
    "_ = plt.xlabel('Domestic Gross')\n",
    "_ = plt.ylabel('Number of Films')\n",
    "_ = plt.ylim(0,12000)\n",
    "_ = plt.ticklabel_format(useOffset= False,style= 'plain')\n",
    "plt.show()"
   ]
  },
  {
   "cell_type": "code",
   "execution_count": 6,
   "metadata": {},
   "outputs": [
    {
     "name": "stdout",
     "output_type": "stream",
     "text": [
      "The Domestic Gross Mean:   21550590.411471736\n",
      "The Domestic Gross STD:   47191928.34335942\n"
     ]
    }
   ],
   "source": [
    "gross_mean = bodf['Domestic Gross'].mean()\n",
    "gross_std = bodf['Domestic Gross'].std()\n",
    "print('The Domestic Gross Mean:  ',gross_mean)\n",
    "print('The Domestic Gross STD:  ',gross_std)"
   ]
  },
  {
   "cell_type": "code",
   "execution_count": 7,
   "metadata": {},
   "outputs": [
    {
     "data": {
      "text/plain": [
       "20843314.40459191"
      ]
     },
     "execution_count": 7,
     "metadata": {},
     "output_type": "execute_result"
    }
   ],
   "source": [
    "n = len(bodf['Domestic Gross'])\n",
    "critical_value = t(n-1).ppf(0.95)\n",
    "gross_mean - critical_value/np.sqrt(n) * gross_std"
   ]
  },
  {
   "cell_type": "code",
   "execution_count": 8,
   "metadata": {},
   "outputs": [
    {
     "data": {
      "text/plain": [
       "Ttest_indResult(statistic=1.3780678450897141, pvalue=0.168228603182457)"
      ]
     },
     "execution_count": 8,
     "metadata": {},
     "output_type": "execute_result"
    }
   ],
   "source": [
    "good_reception = bodf[bodf['Rotten Tomatoes Score'] >= 80]\n",
    "bad_reception = bodf[bodf['Rotten Tomatoes Score'] <= 40]\n",
    "ttest_ind(good_reception['Domestic Gross'], bad_reception['Domestic Gross'])"
   ]
  },
  {
   "cell_type": "code",
   "execution_count": 9,
   "metadata": {},
   "outputs": [
    {
     "data": {
      "text/plain": [
       "Ttest_indResult(statistic=1.406879222081442, pvalue=0.15951933367412133)"
      ]
     },
     "execution_count": 9,
     "metadata": {},
     "output_type": "execute_result"
    }
   ],
   "source": [
    "ttest_ind(good_reception['Domestic Gross'], bad_reception['Domestic Gross'], equal_var= False)"
   ]
  },
  {
   "cell_type": "code",
   "execution_count": 10,
   "metadata": {},
   "outputs": [
    {
     "name": "stdout",
     "output_type": "stream",
     "text": [
      "<class 'pandas.core.frame.DataFrame'>\n",
      "Int64Index: 3466 entries, 0 to 45263\n",
      "Data columns (total 22 columns):\n",
      "imdbID                   3139 non-null object\n",
      "Title                    3466 non-null object\n",
      "Year                     3466 non-null object\n",
      "Rated                    3265 non-null object\n",
      "Budget                   634 non-null float64\n",
      "Domestic Gross           3466 non-null float64\n",
      "Opening Weekend          3035 non-null float64\n",
      "imdbRating               3466 non-null float64\n",
      "imdbVotes                3465 non-null float64\n",
      "Rotten Tomatoes Score    3466 non-null float64\n",
      "Metascore                2842 non-null float64\n",
      "Genre                    3465 non-null object\n",
      "Runtime                  3466 non-null float64\n",
      "Director                 3464 non-null object\n",
      "Actors                   3429 non-null object\n",
      "Awards                   3257 non-null object\n",
      "vote_average             3409 non-null float64\n",
      "vote_count               3409 non-null float64\n",
      "belongs_to_collection    420 non-null object\n",
      "production_companies     3409 non-null object\n",
      "spoken_languages         3409 non-null object\n",
      "multiplier               3035 non-null float64\n",
      "dtypes: float64(11), object(11)\n",
      "memory usage: 622.8+ KB\n"
     ]
    }
   ],
   "source": [
    "good_reception.info()"
   ]
  },
  {
   "cell_type": "code",
   "execution_count": 11,
   "metadata": {},
   "outputs": [
    {
     "name": "stdout",
     "output_type": "stream",
     "text": [
      "<class 'pandas.core.frame.DataFrame'>\n",
      "Int64Index: 3201 entries, 2 to 45373\n",
      "Data columns (total 22 columns):\n",
      "imdbID                   2825 non-null object\n",
      "Title                    3201 non-null object\n",
      "Year                     3201 non-null object\n",
      "Rated                    3168 non-null object\n",
      "Budget                   1109 non-null float64\n",
      "Domestic Gross           3201 non-null float64\n",
      "Opening Weekend          3075 non-null float64\n",
      "imdbRating               3201 non-null float64\n",
      "imdbVotes                3201 non-null float64\n",
      "Rotten Tomatoes Score    3201 non-null float64\n",
      "Metascore                2364 non-null float64\n",
      "Genre                    3201 non-null object\n",
      "Runtime                  3201 non-null float64\n",
      "Director                 3201 non-null object\n",
      "Actors                   3201 non-null object\n",
      "Awards                   2242 non-null object\n",
      "vote_average             3174 non-null float64\n",
      "vote_count               3174 non-null float64\n",
      "belongs_to_collection    463 non-null object\n",
      "production_companies     3174 non-null object\n",
      "spoken_languages         3174 non-null object\n",
      "multiplier               3075 non-null float64\n",
      "dtypes: float64(11), object(11)\n",
      "memory usage: 575.2+ KB\n"
     ]
    }
   ],
   "source": [
    "bad_reception.info()"
   ]
  },
  {
   "cell_type": "code",
   "execution_count": 12,
   "metadata": {},
   "outputs": [
    {
     "data": {
      "text/html": [
       "<div>\n",
       "<style scoped>\n",
       "    .dataframe tbody tr th:only-of-type {\n",
       "        vertical-align: middle;\n",
       "    }\n",
       "\n",
       "    .dataframe tbody tr th {\n",
       "        vertical-align: top;\n",
       "    }\n",
       "\n",
       "    .dataframe thead th {\n",
       "        text-align: right;\n",
       "    }\n",
       "</style>\n",
       "<table border=\"1\" class=\"dataframe\">\n",
       "  <thead>\n",
       "    <tr style=\"text-align: right;\">\n",
       "      <th></th>\n",
       "      <th>Budget</th>\n",
       "      <th>Domestic Gross</th>\n",
       "      <th>Opening Weekend</th>\n",
       "      <th>imdbRating</th>\n",
       "      <th>imdbVotes</th>\n",
       "      <th>Rotten Tomatoes Score</th>\n",
       "      <th>Metascore</th>\n",
       "      <th>Runtime</th>\n",
       "      <th>vote_average</th>\n",
       "      <th>vote_count</th>\n",
       "      <th>multiplier</th>\n",
       "    </tr>\n",
       "  </thead>\n",
       "  <tbody>\n",
       "    <tr>\n",
       "      <td>count</td>\n",
       "      <td>6.340000e+02</td>\n",
       "      <td>3.466000e+03</td>\n",
       "      <td>3.035000e+03</td>\n",
       "      <td>3466.000000</td>\n",
       "      <td>3.465000e+03</td>\n",
       "      <td>3466.000000</td>\n",
       "      <td>2842.000000</td>\n",
       "      <td>3466.000000</td>\n",
       "      <td>3409.000000</td>\n",
       "      <td>3409.000000</td>\n",
       "      <td>3035.000000</td>\n",
       "    </tr>\n",
       "    <tr>\n",
       "      <td>mean</td>\n",
       "      <td>4.052828e+07</td>\n",
       "      <td>2.316840e+07</td>\n",
       "      <td>4.279396e+06</td>\n",
       "      <td>7.273226</td>\n",
       "      <td>7.734689e+04</td>\n",
       "      <td>89.490190</td>\n",
       "      <td>75.116467</td>\n",
       "      <td>107.497980</td>\n",
       "      <td>6.133940</td>\n",
       "      <td>270.513934</td>\n",
       "      <td>45.944776</td>\n",
       "    </tr>\n",
       "    <tr>\n",
       "      <td>std</td>\n",
       "      <td>5.090322e+07</td>\n",
       "      <td>5.943677e+07</td>\n",
       "      <td>1.605748e+07</td>\n",
       "      <td>0.562153</td>\n",
       "      <td>1.804204e+05</td>\n",
       "      <td>5.937582</td>\n",
       "      <td>8.923202</td>\n",
       "      <td>26.007405</td>\n",
       "      <td>1.668364</td>\n",
       "      <td>838.616270</td>\n",
       "      <td>137.967082</td>\n",
       "    </tr>\n",
       "    <tr>\n",
       "      <td>min</td>\n",
       "      <td>2.200000e+02</td>\n",
       "      <td>5.820000e+02</td>\n",
       "      <td>3.000000e+01</td>\n",
       "      <td>4.600000</td>\n",
       "      <td>3.800000e+01</td>\n",
       "      <td>80.000000</td>\n",
       "      <td>31.000000</td>\n",
       "      <td>5.000000</td>\n",
       "      <td>0.000000</td>\n",
       "      <td>0.000000</td>\n",
       "      <td>0.480129</td>\n",
       "    </tr>\n",
       "    <tr>\n",
       "      <td>25%</td>\n",
       "      <td>7.000000e+06</td>\n",
       "      <td>1.121642e+05</td>\n",
       "      <td>1.081050e+04</td>\n",
       "      <td>6.900000</td>\n",
       "      <td>2.634000e+03</td>\n",
       "      <td>85.000000</td>\n",
       "      <td>69.000000</td>\n",
       "      <td>92.000000</td>\n",
       "      <td>5.600000</td>\n",
       "      <td>6.000000</td>\n",
       "      <td>4.424689</td>\n",
       "    </tr>\n",
       "    <tr>\n",
       "      <td>50%</td>\n",
       "      <td>2.000000e+07</td>\n",
       "      <td>1.197272e+06</td>\n",
       "      <td>4.116500e+04</td>\n",
       "      <td>7.300000</td>\n",
       "      <td>1.100400e+04</td>\n",
       "      <td>89.000000</td>\n",
       "      <td>75.000000</td>\n",
       "      <td>103.000000</td>\n",
       "      <td>6.500000</td>\n",
       "      <td>22.000000</td>\n",
       "      <td>10.968051</td>\n",
       "    </tr>\n",
       "    <tr>\n",
       "      <td>75%</td>\n",
       "      <td>5.150000e+07</td>\n",
       "      <td>1.675281e+07</td>\n",
       "      <td>3.655845e+05</td>\n",
       "      <td>7.700000</td>\n",
       "      <td>5.655000e+04</td>\n",
       "      <td>94.000000</td>\n",
       "      <td>81.000000</td>\n",
       "      <td>117.000000</td>\n",
       "      <td>7.100000</td>\n",
       "      <td>122.000000</td>\n",
       "      <td>34.298741</td>\n",
       "    </tr>\n",
       "    <tr>\n",
       "      <td>max</td>\n",
       "      <td>2.600000e+08</td>\n",
       "      <td>9.366622e+08</td>\n",
       "      <td>2.479667e+08</td>\n",
       "      <td>9.300000</td>\n",
       "      <td>2.154564e+06</td>\n",
       "      <td>100.000000</td>\n",
       "      <td>100.000000</td>\n",
       "      <td>566.000000</td>\n",
       "      <td>10.000000</td>\n",
       "      <td>11444.000000</td>\n",
       "      <td>4468.300000</td>\n",
       "    </tr>\n",
       "  </tbody>\n",
       "</table>\n",
       "</div>"
      ],
      "text/plain": [
       "             Budget  Domestic Gross  Opening Weekend   imdbRating  \\\n",
       "count  6.340000e+02    3.466000e+03     3.035000e+03  3466.000000   \n",
       "mean   4.052828e+07    2.316840e+07     4.279396e+06     7.273226   \n",
       "std    5.090322e+07    5.943677e+07     1.605748e+07     0.562153   \n",
       "min    2.200000e+02    5.820000e+02     3.000000e+01     4.600000   \n",
       "25%    7.000000e+06    1.121642e+05     1.081050e+04     6.900000   \n",
       "50%    2.000000e+07    1.197272e+06     4.116500e+04     7.300000   \n",
       "75%    5.150000e+07    1.675281e+07     3.655845e+05     7.700000   \n",
       "max    2.600000e+08    9.366622e+08     2.479667e+08     9.300000   \n",
       "\n",
       "          imdbVotes  Rotten Tomatoes Score    Metascore      Runtime  \\\n",
       "count  3.465000e+03            3466.000000  2842.000000  3466.000000   \n",
       "mean   7.734689e+04              89.490190    75.116467   107.497980   \n",
       "std    1.804204e+05               5.937582     8.923202    26.007405   \n",
       "min    3.800000e+01              80.000000    31.000000     5.000000   \n",
       "25%    2.634000e+03              85.000000    69.000000    92.000000   \n",
       "50%    1.100400e+04              89.000000    75.000000   103.000000   \n",
       "75%    5.655000e+04              94.000000    81.000000   117.000000   \n",
       "max    2.154564e+06             100.000000   100.000000   566.000000   \n",
       "\n",
       "       vote_average    vote_count   multiplier  \n",
       "count   3409.000000   3409.000000  3035.000000  \n",
       "mean       6.133940    270.513934    45.944776  \n",
       "std        1.668364    838.616270   137.967082  \n",
       "min        0.000000      0.000000     0.480129  \n",
       "25%        5.600000      6.000000     4.424689  \n",
       "50%        6.500000     22.000000    10.968051  \n",
       "75%        7.100000    122.000000    34.298741  \n",
       "max       10.000000  11444.000000  4468.300000  "
      ]
     },
     "execution_count": 12,
     "metadata": {},
     "output_type": "execute_result"
    }
   ],
   "source": [
    "good_reception.describe()"
   ]
  },
  {
   "cell_type": "code",
   "execution_count": 13,
   "metadata": {},
   "outputs": [
    {
     "data": {
      "text/html": [
       "<div>\n",
       "<style scoped>\n",
       "    .dataframe tbody tr th:only-of-type {\n",
       "        vertical-align: middle;\n",
       "    }\n",
       "\n",
       "    .dataframe tbody tr th {\n",
       "        vertical-align: top;\n",
       "    }\n",
       "\n",
       "    .dataframe thead th {\n",
       "        text-align: right;\n",
       "    }\n",
       "</style>\n",
       "<table border=\"1\" class=\"dataframe\">\n",
       "  <thead>\n",
       "    <tr style=\"text-align: right;\">\n",
       "      <th></th>\n",
       "      <th>Budget</th>\n",
       "      <th>Domestic Gross</th>\n",
       "      <th>Opening Weekend</th>\n",
       "      <th>imdbRating</th>\n",
       "      <th>imdbVotes</th>\n",
       "      <th>Rotten Tomatoes Score</th>\n",
       "      <th>Metascore</th>\n",
       "      <th>Runtime</th>\n",
       "      <th>vote_average</th>\n",
       "      <th>vote_count</th>\n",
       "      <th>multiplier</th>\n",
       "    </tr>\n",
       "  </thead>\n",
       "  <tbody>\n",
       "    <tr>\n",
       "      <td>count</td>\n",
       "      <td>1.109000e+03</td>\n",
       "      <td>3.201000e+03</td>\n",
       "      <td>3.075000e+03</td>\n",
       "      <td>3201.000000</td>\n",
       "      <td>3201.000000</td>\n",
       "      <td>3201.000000</td>\n",
       "      <td>2364.000000</td>\n",
       "      <td>3201.000000</td>\n",
       "      <td>3174.000000</td>\n",
       "      <td>3174.000000</td>\n",
       "      <td>3075.000000</td>\n",
       "    </tr>\n",
       "    <tr>\n",
       "      <td>mean</td>\n",
       "      <td>4.439790e+07</td>\n",
       "      <td>2.152327e+07</td>\n",
       "      <td>7.074535e+06</td>\n",
       "      <td>5.568229</td>\n",
       "      <td>32829.632615</td>\n",
       "      <td>22.641674</td>\n",
       "      <td>36.135364</td>\n",
       "      <td>100.761637</td>\n",
       "      <td>5.560996</td>\n",
       "      <td>141.731884</td>\n",
       "      <td>9.218121</td>\n",
       "    </tr>\n",
       "    <tr>\n",
       "      <td>std</td>\n",
       "      <td>3.954988e+07</td>\n",
       "      <td>3.338150e+07</td>\n",
       "      <td>1.103892e+07</td>\n",
       "      <td>0.871037</td>\n",
       "      <td>52832.423887</td>\n",
       "      <td>11.393255</td>\n",
       "      <td>10.499958</td>\n",
       "      <td>13.833441</td>\n",
       "      <td>1.485820</td>\n",
       "      <td>484.931274</td>\n",
       "      <td>121.059249</td>\n",
       "    </tr>\n",
       "    <tr>\n",
       "      <td>min</td>\n",
       "      <td>5.000000e+04</td>\n",
       "      <td>9.500000e+01</td>\n",
       "      <td>8.800000e+01</td>\n",
       "      <td>1.500000</td>\n",
       "      <td>19.000000</td>\n",
       "      <td>0.000000</td>\n",
       "      <td>1.000000</td>\n",
       "      <td>38.000000</td>\n",
       "      <td>0.000000</td>\n",
       "      <td>0.000000</td>\n",
       "      <td>0.999984</td>\n",
       "    </tr>\n",
       "    <tr>\n",
       "      <td>25%</td>\n",
       "      <td>1.700000e+07</td>\n",
       "      <td>5.163490e+05</td>\n",
       "      <td>1.270960e+05</td>\n",
       "      <td>5.100000</td>\n",
       "      <td>3752.000000</td>\n",
       "      <td>14.000000</td>\n",
       "      <td>30.000000</td>\n",
       "      <td>91.000000</td>\n",
       "      <td>5.000000</td>\n",
       "      <td>7.000000</td>\n",
       "      <td>2.161899</td>\n",
       "    </tr>\n",
       "    <tr>\n",
       "      <td>50%</td>\n",
       "      <td>3.500000e+07</td>\n",
       "      <td>9.623329e+06</td>\n",
       "      <td>3.427840e+06</td>\n",
       "      <td>5.700000</td>\n",
       "      <td>11738.000000</td>\n",
       "      <td>23.000000</td>\n",
       "      <td>37.000000</td>\n",
       "      <td>98.000000</td>\n",
       "      <td>5.700000</td>\n",
       "      <td>23.000000</td>\n",
       "      <td>2.715404</td>\n",
       "    </tr>\n",
       "    <tr>\n",
       "      <td>75%</td>\n",
       "      <td>6.000000e+07</td>\n",
       "      <td>2.856500e+07</td>\n",
       "      <td>9.351290e+06</td>\n",
       "      <td>6.200000</td>\n",
       "      <td>37915.000000</td>\n",
       "      <td>33.000000</td>\n",
       "      <td>44.000000</td>\n",
       "      <td>108.000000</td>\n",
       "      <td>6.400000</td>\n",
       "      <td>91.000000</td>\n",
       "      <td>3.715458</td>\n",
       "    </tr>\n",
       "    <tr>\n",
       "      <td>max</td>\n",
       "      <td>2.500000e+08</td>\n",
       "      <td>4.021119e+08</td>\n",
       "      <td>1.428391e+08</td>\n",
       "      <td>8.300000</td>\n",
       "      <td>455175.000000</td>\n",
       "      <td>40.000000</td>\n",
       "      <td>68.000000</td>\n",
       "      <td>219.000000</td>\n",
       "      <td>10.000000</td>\n",
       "      <td>12114.000000</td>\n",
       "      <td>5757.944732</td>\n",
       "    </tr>\n",
       "  </tbody>\n",
       "</table>\n",
       "</div>"
      ],
      "text/plain": [
       "             Budget  Domestic Gross  Opening Weekend   imdbRating  \\\n",
       "count  1.109000e+03    3.201000e+03     3.075000e+03  3201.000000   \n",
       "mean   4.439790e+07    2.152327e+07     7.074535e+06     5.568229   \n",
       "std    3.954988e+07    3.338150e+07     1.103892e+07     0.871037   \n",
       "min    5.000000e+04    9.500000e+01     8.800000e+01     1.500000   \n",
       "25%    1.700000e+07    5.163490e+05     1.270960e+05     5.100000   \n",
       "50%    3.500000e+07    9.623329e+06     3.427840e+06     5.700000   \n",
       "75%    6.000000e+07    2.856500e+07     9.351290e+06     6.200000   \n",
       "max    2.500000e+08    4.021119e+08     1.428391e+08     8.300000   \n",
       "\n",
       "           imdbVotes  Rotten Tomatoes Score    Metascore      Runtime  \\\n",
       "count    3201.000000            3201.000000  2364.000000  3201.000000   \n",
       "mean    32829.632615              22.641674    36.135364   100.761637   \n",
       "std     52832.423887              11.393255    10.499958    13.833441   \n",
       "min        19.000000               0.000000     1.000000    38.000000   \n",
       "25%      3752.000000              14.000000    30.000000    91.000000   \n",
       "50%     11738.000000              23.000000    37.000000    98.000000   \n",
       "75%     37915.000000              33.000000    44.000000   108.000000   \n",
       "max    455175.000000              40.000000    68.000000   219.000000   \n",
       "\n",
       "       vote_average    vote_count   multiplier  \n",
       "count   3174.000000   3174.000000  3075.000000  \n",
       "mean       5.560996    141.731884     9.218121  \n",
       "std        1.485820    484.931274   121.059249  \n",
       "min        0.000000      0.000000     0.999984  \n",
       "25%        5.000000      7.000000     2.161899  \n",
       "50%        5.700000     23.000000     2.715404  \n",
       "75%        6.400000     91.000000     3.715458  \n",
       "max       10.000000  12114.000000  5757.944732  "
      ]
     },
     "execution_count": 13,
     "metadata": {},
     "output_type": "execute_result"
    }
   ],
   "source": [
    "bad_reception.describe()"
   ]
  },
  {
   "cell_type": "code",
   "execution_count": 14,
   "metadata": {},
   "outputs": [
    {
     "data": {
      "text/plain": [
       "array([20724001.08044326, 22401433.42465552])"
      ]
     },
     "execution_count": 14,
     "metadata": {},
     "output_type": "execute_result"
    }
   ],
   "source": [
    "np.random.seed(47)\n",
    "N_rep = 10000\n",
    "mean_replicates = np.empty(N_rep)\n",
    "for i in range(N_rep):\n",
    "    mean_replicates[i] = np.mean(np.random.choice(bodf['Domestic Gross'],n))\n",
    "gross_confidence_interval = np.percentile(mean_replicates,[2.5,97.5])\n",
    "gross_confidence_interval"
   ]
  },
  {
   "cell_type": "code",
   "execution_count": 15,
   "metadata": {},
   "outputs": [
    {
     "data": {
      "text/plain": [
       "array([19132344.57011372, 33429680.43865272])"
      ]
     },
     "execution_count": 15,
     "metadata": {},
     "output_type": "execute_result"
    }
   ],
   "source": [
    "np.random.seed(47)\n",
    "diff_std_replicates = np.empty(N_rep)\n",
    "for i in range(N_rep):\n",
    "    good_sample = np.random.choice(good_reception['Domestic Gross'], len(good_reception['Domestic Gross']))\n",
    "    bad_sample = np.random.choice(bad_reception['Domestic Gross'], len(bad_reception['Domestic Gross']))\n",
    "    diff_std_replicates[i] = np.std(good_sample) - np.std(bad_sample)\n",
    "confidence_interval = np.percentile(diff_std_replicates,[2.5,97.5])\n",
    "confidence_interval"
   ]
  },
  {
   "cell_type": "code",
   "execution_count": 16,
   "metadata": {},
   "outputs": [
    {
     "data": {
      "image/png": "[encoded data removed]",
      "text/plain": [
       "<Figure size 720x360 with 1 Axes>"
      ]
     },
     "metadata": {
      "needs_background": "light"
     },
     "output_type": "display_data"
    }
   ],
   "source": [
    "_ = plt.figure(figsize=(10,5))\n",
    "_ = plt.hist(diff_std_replicates,bins=25)\n",
    "_ = plt.title('Difference of Postive and Negative Rated Films from Critics ')\n",
    "_ = plt.xlabel('Differene in Standard Deviation')\n",
    "_ = plt.ylabel('Number of Films')\n",
    "_ = plt.ticklabel_format(useOffset=False, style='plain')\n",
    "_ = plt.axvline(np.mean(diff_std_replicates),color='r')\n",
    "_ = plt.axvline(confidence_interval[0],color='r',linestyle='--')\n",
    "_ = plt.axvline(confidence_interval[1],color='r',linestyle='--')"
   ]
  },
  {
   "cell_type": "code",
   "execution_count": 17,
   "metadata": {},
   "outputs": [
    {
     "data": {
      "text/plain": [
       "1645128.6118958443"
      ]
     },
     "execution_count": 17,
     "metadata": {},
     "output_type": "execute_result"
    }
   ],
   "source": [
    "mean_diff = np.mean(good_reception['Domestic Gross']) - np.mean(bad_reception['Domestic Gross'])\n",
    "mean_diff"
   ]
  },
  {
   "cell_type": "code",
   "execution_count": 18,
   "metadata": {},
   "outputs": [],
   "source": [
    "np.random.seed(47)\n",
    "bad_shifted = bad_reception['Domestic Gross'] - np.mean(bad_reception['Domestic Gross']) + np.mean(good_reception['Domestic Gross'])"
   ]
  },
  {
   "cell_type": "code",
   "execution_count": 19,
   "metadata": {},
   "outputs": [],
   "source": [
    "def permutation(d1,d2):\n",
    "    d3 = np.concatenate((d1,d2))\n",
    "    data = np.random.permutation(d3)\n",
    "    perm_sample1 = data[:len(d1)]\n",
    "    perm_sample2 = data[len(d1):]\n",
    "    return perm_sample1,perm_sample2"
   ]
  },
  {
   "cell_type": "code",
   "execution_count": 20,
   "metadata": {},
   "outputs": [],
   "source": [
    "permutation_mean_replicates = np.empty(N_rep)\n",
    "for i in range(N_rep):\n",
    "    perm_good, perm_bad = permutation(good_reception['Domestic Gross'],bad_shifted)\n",
    "    permutation_mean_replicates[i] = np.mean(perm_good) - np.mean(perm_bad)"
   ]
  },
  {
   "cell_type": "code",
   "execution_count": 21,
   "metadata": {},
   "outputs": [
    {
     "data": {
      "text/plain": [
       "0.0819"
      ]
     },
     "execution_count": 21,
     "metadata": {},
     "output_type": "execute_result"
    }
   ],
   "source": [
    "p_value = np.sum(permutation_mean_replicates >= mean_diff)/len(permutation_mean_replicates)\n",
    "p_value"
   ]
  },
  {
   "cell_type": "code",
   "execution_count": 22,
   "metadata": {},
   "outputs": [
    {
     "data": {
      "image/png": "[encoded data removed]",
      "text/plain": [
       "<Figure size 720x360 with 1 Axes>"
      ]
     },
     "metadata": {
      "needs_background": "light"
     },
     "output_type": "display_data"
    }
   ],
   "source": [
    "_ = plt.figure(figsize=(10,5))\n",
    "_ = plt.ylabel('Number of Films')\n",
    "_ = plt.hist(mean_diff, bins=25)\n",
    "_ = plt.hist(permutation_mean_replicates,bins=25,color='blue')\n",
    "_ = plt.ylabel('Number of Films')\n",
    "_ = plt.axvline(np.mean(permutation_mean_replicates), color='green')\n",
    "_ = plt.axvline(np.mean(mean_diff),color='red',linestyle='--')"
   ]
  },
  {
   "cell_type": "code",
   "execution_count": 23,
   "metadata": {
    "scrolled": true
   },
   "outputs": [
    {
     "name": "stderr",
     "output_type": "stream",
     "text": [
      "/Users/sayantanchattopadhyay/opt/anaconda3/lib/python3.7/site-packages/numpy/lib/histograms.py:829: RuntimeWarning: invalid value encountered in greater_equal\n",
      "  keep = (tmp_a >= first_edge)\n",
      "/Users/sayantanchattopadhyay/opt/anaconda3/lib/python3.7/site-packages/numpy/lib/histograms.py:830: RuntimeWarning: invalid value encountered in less_equal\n",
      "  keep &= (tmp_a <= last_edge)\n"
     ]
    },
    {
     "data": {
      "image/png": "[encoded data removed]",
      "text/plain": [
       "<Figure size 720x720 with 1 Axes>"
      ]
     },
     "metadata": {
      "needs_background": "light"
     },
     "output_type": "display_data"
    }
   ],
   "source": [
    "_ = plt.figure(figsize=(10,10))\n",
    "_ = plt.hist(bodf['multiplier'],bins=1000)\n",
    "_ = plt.title('Domestic Multiplier Histogram')\n",
    "_ = plt.xlabel('Domestic Multiplier')\n",
    "_ = plt.ylabel('Number of Films')\n",
    "_ = plt.ylim(0,8000)\n",
    "_ = plt.xlim(0,100)"
   ]
  },
  {
   "cell_type": "code",
   "execution_count": 24,
   "metadata": {},
   "outputs": [
    {
     "name": "stdout",
     "output_type": "stream",
     "text": [
      "<class 'pandas.core.frame.DataFrame'>\n",
      "Int64Index: 11022 entries, 0 to 45373\n",
      "Data columns (total 22 columns):\n",
      "imdbID                   9935 non-null object\n",
      "Title                    11022 non-null object\n",
      "Year                     11022 non-null object\n",
      "Rated                    10581 non-null object\n",
      "Budget                   2896 non-null float64\n",
      "Domestic Gross           11022 non-null float64\n",
      "Opening Weekend          11022 non-null float64\n",
      "imdbRating               11021 non-null float64\n",
      "imdbVotes                11020 non-null float64\n",
      "Rotten Tomatoes Score    10390 non-null float64\n",
      "Metascore                8427 non-null float64\n",
      "Genre                    11020 non-null object\n",
      "Runtime                  11019 non-null float64\n",
      "Director                 11017 non-null object\n",
      "Actors                   10972 non-null object\n",
      "Awards                   9010 non-null object\n",
      "vote_average             10874 non-null float64\n",
      "vote_count               10874 non-null float64\n",
      "belongs_to_collection    1364 non-null object\n",
      "production_companies     10874 non-null object\n",
      "spoken_languages         10874 non-null object\n",
      "multiplier               11022 non-null float64\n",
      "dtypes: float64(11), object(11)\n",
      "memory usage: 1.9+ MB\n"
     ]
    }
   ],
   "source": [
    "multiplier_df = bodf[bodf['multiplier'].notnull()]\n",
    "multiplier = multiplier_df['multiplier']\n",
    "multiplier_df.info()"
   ]
  },
  {
   "cell_type": "code",
   "execution_count": 25,
   "metadata": {},
   "outputs": [
    {
     "name": "stdout",
     "output_type": "stream",
     "text": [
      "Multiplier Mean:   22.756283565105736\n",
      "Multiplier STD:   118.10983175753526\n"
     ]
    }
   ],
   "source": [
    "multiplier_mean = multiplier.mean()\n",
    "multiplier_std = multiplier.std()\n",
    "print('Multiplier Mean:  ',multiplier_mean)\n",
    "print('Multiplier STD:  ',multiplier_std)"
   ]
  },
  {
   "cell_type": "code",
   "execution_count": 26,
   "metadata": {},
   "outputs": [
    {
     "data": {
      "text/plain": [
       "20811153.23111374"
      ]
     },
     "execution_count": 26,
     "metadata": {},
     "output_type": "execute_result"
    }
   ],
   "source": [
    "n = len(multiplier)\n",
    "critical_value = t(n-1).ppf(0.95)\n",
    "gross_mean - critical_value/np.sqrt(n) * gross_std"
   ]
  },
  {
   "cell_type": "code",
   "execution_count": 27,
   "metadata": {},
   "outputs": [
    {
     "data": {
      "text/plain": [
       "Ttest_indResult(statistic=11.06395602806466, pvalue=3.4710327856231197e-28)"
      ]
     },
     "execution_count": 27,
     "metadata": {},
     "output_type": "execute_result"
    }
   ],
   "source": [
    "good_reception = multiplier_df[multiplier_df['Rotten Tomatoes Score'] >= 80]\n",
    "bad_reception = multiplier_df[multiplier_df['Rotten Tomatoes Score'] <= 40]\n",
    "ttest_ind(good_reception.multiplier, bad_reception.multiplier)"
   ]
  },
  {
   "cell_type": "code",
   "execution_count": 28,
   "metadata": {},
   "outputs": [
    {
     "data": {
      "text/plain": [
       "Ttest_indResult(statistic=11.054542699708865, pvalue=3.895022650453142e-28)"
      ]
     },
     "execution_count": 28,
     "metadata": {},
     "output_type": "execute_result"
    }
   ],
   "source": [
    "ttest_ind(good_reception.multiplier, bad_reception.multiplier, equal_var= False)"
   ]
  },
  {
   "cell_type": "code",
   "execution_count": 29,
   "metadata": {},
   "outputs": [
    {
     "name": "stdout",
     "output_type": "stream",
     "text": [
      "<class 'pandas.core.frame.DataFrame'>\n",
      "Int64Index: 3035 entries, 0 to 45263\n",
      "Data columns (total 22 columns):\n",
      "imdbID                   2771 non-null object\n",
      "Title                    3035 non-null object\n",
      "Year                     3035 non-null object\n",
      "Rated                    2869 non-null object\n",
      "Budget                   589 non-null float64\n",
      "Domestic Gross           3035 non-null float64\n",
      "Opening Weekend          3035 non-null float64\n",
      "imdbRating               3035 non-null float64\n",
      "imdbVotes                3034 non-null float64\n",
      "Rotten Tomatoes Score    3035 non-null float64\n",
      "Metascore                2550 non-null float64\n",
      "Genre                    3034 non-null object\n",
      "Runtime                  3035 non-null float64\n",
      "Director                 3033 non-null object\n",
      "Actors                   3000 non-null object\n",
      "Awards                   2858 non-null object\n",
      "vote_average             2985 non-null float64\n",
      "vote_count               2985 non-null float64\n",
      "belongs_to_collection    341 non-null object\n",
      "production_companies     2985 non-null object\n",
      "spoken_languages         2985 non-null object\n",
      "multiplier               3035 non-null float64\n",
      "dtypes: float64(11), object(11)\n",
      "memory usage: 545.4+ KB\n"
     ]
    }
   ],
   "source": [
    "good_reception.info()"
   ]
  },
  {
   "cell_type": "code",
   "execution_count": 30,
   "metadata": {},
   "outputs": [
    {
     "name": "stdout",
     "output_type": "stream",
     "text": [
      "<class 'pandas.core.frame.DataFrame'>\n",
      "Int64Index: 3075 entries, 2 to 45373\n",
      "Data columns (total 22 columns):\n",
      "imdbID                   2725 non-null object\n",
      "Title                    3075 non-null object\n",
      "Year                     3075 non-null object\n",
      "Rated                    3043 non-null object\n",
      "Budget                   1099 non-null float64\n",
      "Domestic Gross           3075 non-null float64\n",
      "Opening Weekend          3075 non-null float64\n",
      "imdbRating               3075 non-null float64\n",
      "imdbVotes                3075 non-null float64\n",
      "Rotten Tomatoes Score    3075 non-null float64\n",
      "Metascore                2295 non-null float64\n",
      "Genre                    3075 non-null object\n",
      "Runtime                  3075 non-null float64\n",
      "Director                 3075 non-null object\n",
      "Actors                   3075 non-null object\n",
      "Awards                   2164 non-null object\n",
      "vote_average             3048 non-null float64\n",
      "vote_count               3048 non-null float64\n",
      "belongs_to_collection    442 non-null object\n",
      "production_companies     3048 non-null object\n",
      "spoken_languages         3048 non-null object\n",
      "multiplier               3075 non-null float64\n",
      "dtypes: float64(11), object(11)\n",
      "memory usage: 552.5+ KB\n"
     ]
    }
   ],
   "source": [
    "bad_reception.info()"
   ]
  },
  {
   "cell_type": "code",
   "execution_count": 31,
   "metadata": {},
   "outputs": [
    {
     "data": {
      "text/html": [
       "<div>\n",
       "<style scoped>\n",
       "    .dataframe tbody tr th:only-of-type {\n",
       "        vertical-align: middle;\n",
       "    }\n",
       "\n",
       "    .dataframe tbody tr th {\n",
       "        vertical-align: top;\n",
       "    }\n",
       "\n",
       "    .dataframe thead th {\n",
       "        text-align: right;\n",
       "    }\n",
       "</style>\n",
       "<table border=\"1\" class=\"dataframe\">\n",
       "  <thead>\n",
       "    <tr style=\"text-align: right;\">\n",
       "      <th></th>\n",
       "      <th>Budget</th>\n",
       "      <th>Domestic Gross</th>\n",
       "      <th>Opening Weekend</th>\n",
       "      <th>imdbRating</th>\n",
       "      <th>imdbVotes</th>\n",
       "      <th>Rotten Tomatoes Score</th>\n",
       "      <th>Metascore</th>\n",
       "      <th>Runtime</th>\n",
       "      <th>vote_average</th>\n",
       "      <th>vote_count</th>\n",
       "      <th>multiplier</th>\n",
       "    </tr>\n",
       "  </thead>\n",
       "  <tbody>\n",
       "    <tr>\n",
       "      <td>count</td>\n",
       "      <td>5.890000e+02</td>\n",
       "      <td>3.035000e+03</td>\n",
       "      <td>3.035000e+03</td>\n",
       "      <td>3035.000000</td>\n",
       "      <td>3.034000e+03</td>\n",
       "      <td>3035.000000</td>\n",
       "      <td>2550.000000</td>\n",
       "      <td>3035.000000</td>\n",
       "      <td>2985.000000</td>\n",
       "      <td>2985.000000</td>\n",
       "      <td>3035.000000</td>\n",
       "    </tr>\n",
       "    <tr>\n",
       "      <td>mean</td>\n",
       "      <td>4.311685e+07</td>\n",
       "      <td>2.434493e+07</td>\n",
       "      <td>4.279396e+06</td>\n",
       "      <td>7.264679</td>\n",
       "      <td>8.156273e+04</td>\n",
       "      <td>89.312356</td>\n",
       "      <td>75.040392</td>\n",
       "      <td>107.168369</td>\n",
       "      <td>6.060436</td>\n",
       "      <td>270.777554</td>\n",
       "      <td>45.944776</td>\n",
       "    </tr>\n",
       "    <tr>\n",
       "      <td>std</td>\n",
       "      <td>5.188834e+07</td>\n",
       "      <td>6.254080e+07</td>\n",
       "      <td>1.605748e+07</td>\n",
       "      <td>0.561983</td>\n",
       "      <td>1.879534e+05</td>\n",
       "      <td>5.879808</td>\n",
       "      <td>8.654314</td>\n",
       "      <td>25.626256</td>\n",
       "      <td>1.714082</td>\n",
       "      <td>871.423632</td>\n",
       "      <td>137.967082</td>\n",
       "    </tr>\n",
       "    <tr>\n",
       "      <td>min</td>\n",
       "      <td>2.200000e+02</td>\n",
       "      <td>5.820000e+02</td>\n",
       "      <td>3.000000e+01</td>\n",
       "      <td>4.600000</td>\n",
       "      <td>3.800000e+01</td>\n",
       "      <td>80.000000</td>\n",
       "      <td>31.000000</td>\n",
       "      <td>34.000000</td>\n",
       "      <td>0.000000</td>\n",
       "      <td>0.000000</td>\n",
       "      <td>0.480129</td>\n",
       "    </tr>\n",
       "    <tr>\n",
       "      <td>25%</td>\n",
       "      <td>8.000000e+06</td>\n",
       "      <td>1.068885e+05</td>\n",
       "      <td>1.081050e+04</td>\n",
       "      <td>6.900000</td>\n",
       "      <td>2.645750e+03</td>\n",
       "      <td>84.000000</td>\n",
       "      <td>69.000000</td>\n",
       "      <td>92.000000</td>\n",
       "      <td>5.500000</td>\n",
       "      <td>5.000000</td>\n",
       "      <td>4.424689</td>\n",
       "    </tr>\n",
       "    <tr>\n",
       "      <td>50%</td>\n",
       "      <td>2.200000e+07</td>\n",
       "      <td>1.082124e+06</td>\n",
       "      <td>4.116500e+04</td>\n",
       "      <td>7.300000</td>\n",
       "      <td>1.146050e+04</td>\n",
       "      <td>89.000000</td>\n",
       "      <td>75.000000</td>\n",
       "      <td>103.000000</td>\n",
       "      <td>6.500000</td>\n",
       "      <td>20.000000</td>\n",
       "      <td>10.968051</td>\n",
       "    </tr>\n",
       "    <tr>\n",
       "      <td>75%</td>\n",
       "      <td>5.500000e+07</td>\n",
       "      <td>1.642862e+07</td>\n",
       "      <td>3.655845e+05</td>\n",
       "      <td>7.600000</td>\n",
       "      <td>5.950350e+04</td>\n",
       "      <td>94.000000</td>\n",
       "      <td>81.000000</td>\n",
       "      <td>117.000000</td>\n",
       "      <td>7.100000</td>\n",
       "      <td>109.000000</td>\n",
       "      <td>34.298741</td>\n",
       "    </tr>\n",
       "    <tr>\n",
       "      <td>max</td>\n",
       "      <td>2.600000e+08</td>\n",
       "      <td>9.366622e+08</td>\n",
       "      <td>2.479667e+08</td>\n",
       "      <td>9.300000</td>\n",
       "      <td>2.154564e+06</td>\n",
       "      <td>100.000000</td>\n",
       "      <td>100.000000</td>\n",
       "      <td>566.000000</td>\n",
       "      <td>10.000000</td>\n",
       "      <td>11444.000000</td>\n",
       "      <td>4468.300000</td>\n",
       "    </tr>\n",
       "  </tbody>\n",
       "</table>\n",
       "</div>"
      ],
      "text/plain": [
       "             Budget  Domestic Gross  Opening Weekend   imdbRating  \\\n",
       "count  5.890000e+02    3.035000e+03     3.035000e+03  3035.000000   \n",
       "mean   4.311685e+07    2.434493e+07     4.279396e+06     7.264679   \n",
       "std    5.188834e+07    6.254080e+07     1.605748e+07     0.561983   \n",
       "min    2.200000e+02    5.820000e+02     3.000000e+01     4.600000   \n",
       "25%    8.000000e+06    1.068885e+05     1.081050e+04     6.900000   \n",
       "50%    2.200000e+07    1.082124e+06     4.116500e+04     7.300000   \n",
       "75%    5.500000e+07    1.642862e+07     3.655845e+05     7.600000   \n",
       "max    2.600000e+08    9.366622e+08     2.479667e+08     9.300000   \n",
       "\n",
       "          imdbVotes  Rotten Tomatoes Score    Metascore      Runtime  \\\n",
       "count  3.034000e+03            3035.000000  2550.000000  3035.000000   \n",
       "mean   8.156273e+04              89.312356    75.040392   107.168369   \n",
       "std    1.879534e+05               5.879808     8.654314    25.626256   \n",
       "min    3.800000e+01              80.000000    31.000000    34.000000   \n",
       "25%    2.645750e+03              84.000000    69.000000    92.000000   \n",
       "50%    1.146050e+04              89.000000    75.000000   103.000000   \n",
       "75%    5.950350e+04              94.000000    81.000000   117.000000   \n",
       "max    2.154564e+06             100.000000   100.000000   566.000000   \n",
       "\n",
       "       vote_average    vote_count   multiplier  \n",
       "count   2985.000000   2985.000000  3035.000000  \n",
       "mean       6.060436    270.777554    45.944776  \n",
       "std        1.714082    871.423632   137.967082  \n",
       "min        0.000000      0.000000     0.480129  \n",
       "25%        5.500000      5.000000     4.424689  \n",
       "50%        6.500000     20.000000    10.968051  \n",
       "75%        7.100000    109.000000    34.298741  \n",
       "max       10.000000  11444.000000  4468.300000  "
      ]
     },
     "execution_count": 31,
     "metadata": {},
     "output_type": "execute_result"
    }
   ],
   "source": [
    "good_reception.describe()"
   ]
  },
  {
   "cell_type": "code",
   "execution_count": 32,
   "metadata": {},
   "outputs": [
    {
     "data": {
      "text/html": [
       "<div>\n",
       "<style scoped>\n",
       "    .dataframe tbody tr th:only-of-type {\n",
       "        vertical-align: middle;\n",
       "    }\n",
       "\n",
       "    .dataframe tbody tr th {\n",
       "        vertical-align: top;\n",
       "    }\n",
       "\n",
       "    .dataframe thead th {\n",
       "        text-align: right;\n",
       "    }\n",
       "</style>\n",
       "<table border=\"1\" class=\"dataframe\">\n",
       "  <thead>\n",
       "    <tr style=\"text-align: right;\">\n",
       "      <th></th>\n",
       "      <th>Budget</th>\n",
       "      <th>Domestic Gross</th>\n",
       "      <th>Opening Weekend</th>\n",
       "      <th>imdbRating</th>\n",
       "      <th>imdbVotes</th>\n",
       "      <th>Rotten Tomatoes Score</th>\n",
       "      <th>Metascore</th>\n",
       "      <th>Runtime</th>\n",
       "      <th>vote_average</th>\n",
       "      <th>vote_count</th>\n",
       "      <th>multiplier</th>\n",
       "    </tr>\n",
       "  </thead>\n",
       "  <tbody>\n",
       "    <tr>\n",
       "      <td>count</td>\n",
       "      <td>1.099000e+03</td>\n",
       "      <td>3.075000e+03</td>\n",
       "      <td>3.075000e+03</td>\n",
       "      <td>3075.000000</td>\n",
       "      <td>3075.000000</td>\n",
       "      <td>3075.000000</td>\n",
       "      <td>2295.000000</td>\n",
       "      <td>3075.000000</td>\n",
       "      <td>3048.000000</td>\n",
       "      <td>3048.000000</td>\n",
       "      <td>3075.000000</td>\n",
       "    </tr>\n",
       "    <tr>\n",
       "      <td>mean</td>\n",
       "      <td>4.466194e+07</td>\n",
       "      <td>2.207046e+07</td>\n",
       "      <td>7.074535e+06</td>\n",
       "      <td>5.566179</td>\n",
       "      <td>33835.135610</td>\n",
       "      <td>22.512846</td>\n",
       "      <td>36.070153</td>\n",
       "      <td>100.792520</td>\n",
       "      <td>5.560958</td>\n",
       "      <td>141.532152</td>\n",
       "      <td>9.218121</td>\n",
       "    </tr>\n",
       "    <tr>\n",
       "      <td>std</td>\n",
       "      <td>3.956194e+07</td>\n",
       "      <td>3.382518e+07</td>\n",
       "      <td>1.103892e+07</td>\n",
       "      <td>0.869681</td>\n",
       "      <td>53605.679182</td>\n",
       "      <td>11.345411</td>\n",
       "      <td>10.405043</td>\n",
       "      <td>13.763946</td>\n",
       "      <td>1.478399</td>\n",
       "      <td>472.500488</td>\n",
       "      <td>121.059249</td>\n",
       "    </tr>\n",
       "    <tr>\n",
       "      <td>min</td>\n",
       "      <td>5.000000e+04</td>\n",
       "      <td>9.500000e+01</td>\n",
       "      <td>8.800000e+01</td>\n",
       "      <td>1.500000</td>\n",
       "      <td>19.000000</td>\n",
       "      <td>0.000000</td>\n",
       "      <td>1.000000</td>\n",
       "      <td>55.000000</td>\n",
       "      <td>0.000000</td>\n",
       "      <td>0.000000</td>\n",
       "      <td>0.999984</td>\n",
       "    </tr>\n",
       "    <tr>\n",
       "      <td>25%</td>\n",
       "      <td>1.700000e+07</td>\n",
       "      <td>5.641230e+05</td>\n",
       "      <td>1.270960e+05</td>\n",
       "      <td>5.100000</td>\n",
       "      <td>3996.000000</td>\n",
       "      <td>14.000000</td>\n",
       "      <td>30.000000</td>\n",
       "      <td>91.000000</td>\n",
       "      <td>5.000000</td>\n",
       "      <td>7.000000</td>\n",
       "      <td>2.161899</td>\n",
       "    </tr>\n",
       "    <tr>\n",
       "      <td>50%</td>\n",
       "      <td>3.500000e+07</td>\n",
       "      <td>1.011501e+07</td>\n",
       "      <td>3.427840e+06</td>\n",
       "      <td>5.700000</td>\n",
       "      <td>12237.000000</td>\n",
       "      <td>23.000000</td>\n",
       "      <td>37.000000</td>\n",
       "      <td>99.000000</td>\n",
       "      <td>5.700000</td>\n",
       "      <td>24.000000</td>\n",
       "      <td>2.715404</td>\n",
       "    </tr>\n",
       "    <tr>\n",
       "      <td>75%</td>\n",
       "      <td>6.000000e+07</td>\n",
       "      <td>2.981942e+07</td>\n",
       "      <td>9.351290e+06</td>\n",
       "      <td>6.200000</td>\n",
       "      <td>39828.000000</td>\n",
       "      <td>33.000000</td>\n",
       "      <td>44.000000</td>\n",
       "      <td>108.000000</td>\n",
       "      <td>6.400000</td>\n",
       "      <td>95.000000</td>\n",
       "      <td>3.715458</td>\n",
       "    </tr>\n",
       "    <tr>\n",
       "      <td>max</td>\n",
       "      <td>2.500000e+08</td>\n",
       "      <td>4.021119e+08</td>\n",
       "      <td>1.428391e+08</td>\n",
       "      <td>8.300000</td>\n",
       "      <td>455175.000000</td>\n",
       "      <td>40.000000</td>\n",
       "      <td>68.000000</td>\n",
       "      <td>219.000000</td>\n",
       "      <td>10.000000</td>\n",
       "      <td>12114.000000</td>\n",
       "      <td>5757.944732</td>\n",
       "    </tr>\n",
       "  </tbody>\n",
       "</table>\n",
       "</div>"
      ],
      "text/plain": [
       "             Budget  Domestic Gross  Opening Weekend   imdbRating  \\\n",
       "count  1.099000e+03    3.075000e+03     3.075000e+03  3075.000000   \n",
       "mean   4.466194e+07    2.207046e+07     7.074535e+06     5.566179   \n",
       "std    3.956194e+07    3.382518e+07     1.103892e+07     0.869681   \n",
       "min    5.000000e+04    9.500000e+01     8.800000e+01     1.500000   \n",
       "25%    1.700000e+07    5.641230e+05     1.270960e+05     5.100000   \n",
       "50%    3.500000e+07    1.011501e+07     3.427840e+06     5.700000   \n",
       "75%    6.000000e+07    2.981942e+07     9.351290e+06     6.200000   \n",
       "max    2.500000e+08    4.021119e+08     1.428391e+08     8.300000   \n",
       "\n",
       "           imdbVotes  Rotten Tomatoes Score    Metascore      Runtime  \\\n",
       "count    3075.000000            3075.000000  2295.000000  3075.000000   \n",
       "mean    33835.135610              22.512846    36.070153   100.792520   \n",
       "std     53605.679182              11.345411    10.405043    13.763946   \n",
       "min        19.000000               0.000000     1.000000    55.000000   \n",
       "25%      3996.000000              14.000000    30.000000    91.000000   \n",
       "50%     12237.000000              23.000000    37.000000    99.000000   \n",
       "75%     39828.000000              33.000000    44.000000   108.000000   \n",
       "max    455175.000000              40.000000    68.000000   219.000000   \n",
       "\n",
       "       vote_average    vote_count   multiplier  \n",
       "count   3048.000000   3048.000000  3075.000000  \n",
       "mean       5.560958    141.532152     9.218121  \n",
       "std        1.478399    472.500488   121.059249  \n",
       "min        0.000000      0.000000     0.999984  \n",
       "25%        5.000000      7.000000     2.161899  \n",
       "50%        5.700000     24.000000     2.715404  \n",
       "75%        6.400000     95.000000     3.715458  \n",
       "max       10.000000  12114.000000  5757.944732  "
      ]
     },
     "execution_count": 32,
     "metadata": {},
     "output_type": "execute_result"
    }
   ],
   "source": [
    "bad_reception.describe()"
   ]
  },
  {
   "cell_type": "code",
   "execution_count": 33,
   "metadata": {},
   "outputs": [
    {
     "data": {
      "text/plain": [
       "array([20.73640892, 25.12030666])"
      ]
     },
     "execution_count": 33,
     "metadata": {},
     "output_type": "execute_result"
    }
   ],
   "source": [
    "np.random.seed(47)\n",
    "N_rep = 10000\n",
    "mean_replicates = np.empty(N_rep)\n",
    "for i in range(N_rep):\n",
    "    mean_replicates[i] = np.mean(np.random.choice(multiplier,len(multiplier)))\n",
    "multiplier_confidence_interval = np.percentile(mean_replicates,[2.5,97.5])\n",
    "multiplier_confidence_interval"
   ]
  },
  {
   "cell_type": "code",
   "execution_count": 34,
   "metadata": {},
   "outputs": [
    {
     "data": {
      "text/plain": [
       "array([-75.92466973, 120.42076445])"
      ]
     },
     "execution_count": 34,
     "metadata": {},
     "output_type": "execute_result"
    }
   ],
   "source": [
    "np.random.seed(47)\n",
    "diff_std_replicates = np.empty(N_rep)\n",
    "for i in range(N_rep):\n",
    "    good_sample = np.random.choice(good_reception.multiplier, len(good_reception.multiplier))\n",
    "    bad_sample = np.random.choice(bad_reception.multiplier, len(bad_reception.multiplier))\n",
    "    diff_std_replicates[i] = np.std(good_sample) - np.std(bad_sample)\n",
    "confidence_interval = np.percentile(diff_std_replicates,[2.5,97.5])\n",
    "confidence_interval"
   ]
  },
  {
   "cell_type": "code",
   "execution_count": 35,
   "metadata": {},
   "outputs": [
    {
     "data": {
      "image/png": "[encoded data removed]",
      "text/plain": [
       "<Figure size 720x360 with 1 Axes>"
      ]
     },
     "metadata": {
      "needs_background": "light"
     },
     "output_type": "display_data"
    }
   ],
   "source": [
    "_ = plt.figure(figsize=(10,5))\n",
    "_ = plt.title('Difference of Postive and Negative Rated Films from Critics ')\n",
    "_ = plt.xlabel('Differene in Standard Deviation')\n",
    "_ = plt.ylabel('Number of Films')\n",
    "_ = plt.hist(diff_std_replicates,bins=25)\n",
    "_ = plt.ticklabel_format(useOffset=False, style='plain')\n",
    "_ = plt.axvline(np.mean(diff_std_replicates),color='r')\n",
    "_ = plt.axvline(confidence_interval[0],color='r',linestyle='--')\n",
    "_ = plt.axvline(confidence_interval[1],color='r',linestyle='--')"
   ]
  },
  {
   "cell_type": "code",
   "execution_count": 36,
   "metadata": {},
   "outputs": [
    {
     "data": {
      "text/plain": [
       "36.726654376012405"
      ]
     },
     "execution_count": 36,
     "metadata": {},
     "output_type": "execute_result"
    }
   ],
   "source": [
    "mean_diff = np.mean(good_reception['multiplier']) - np.mean(bad_reception['multiplier'])\n",
    "mean_diff"
   ]
  },
  {
   "cell_type": "code",
   "execution_count": 37,
   "metadata": {},
   "outputs": [],
   "source": [
    "np.random.seed(47)\n",
    "bad_shifted = bad_reception.multiplier - np.mean(bad_reception.multiplier) + np.mean(good_reception.multiplier)"
   ]
  },
  {
   "cell_type": "code",
   "execution_count": 38,
   "metadata": {},
   "outputs": [],
   "source": [
    "permutation_mean_replicates = np.empty(N_rep)\n",
    "for i in range(N_rep):\n",
    "    perm_good, perm_bad = permutation(good_reception.multiplier,bad_shifted)\n",
    "    permutation_mean_replicates[i] = np.mean(perm_good) - np.mean(perm_bad)"
   ]
  },
  {
   "cell_type": "code",
   "execution_count": 39,
   "metadata": {},
   "outputs": [
    {
     "data": {
      "text/plain": [
       "0.0"
      ]
     },
     "execution_count": 39,
     "metadata": {},
     "output_type": "execute_result"
    }
   ],
   "source": [
    "p_value = np.sum(permutation_mean_replicates >= mean_diff)/len(permutation_mean_replicates)\n",
    "p_value"
   ]
  },
  {
   "cell_type": "code",
   "execution_count": 40,
   "metadata": {},
   "outputs": [
    {
     "data": {
      "image/png": "[encoded data removed]",
      "text/plain": [
       "<Figure size 720x360 with 1 Axes>"
      ]
     },
     "metadata": {
      "needs_background": "light"
     },
     "output_type": "display_data"
    }
   ],
   "source": [
    "_ = plt.figure(figsize=(10,5))\n",
    "_ = plt.hist(mean_diff, bins=25)\n",
    "_ = plt.hist(permutation_mean_replicates,bins=25,color='blue')\n",
    "_ = plt.ylabel('Number of Films')\n",
    "_ = plt.axvline(np.mean(permutation_mean_replicates), color='green')\n",
    "_ = plt.axvline(np.mean(mean_diff),color='red',linestyle='--')"
   ]
  },
  {
   "cell_type": "code",
   "execution_count": 41,
   "metadata": {},
   "outputs": [
    {
     "data": {
      "text/plain": [
       "Ttest_indResult(statistic=10.53086741859825, pvalue=1.6454432563032533e-25)"
      ]
     },
     "execution_count": 41,
     "metadata": {},
     "output_type": "execute_result"
    }
   ],
   "source": [
    "good_reception = bodf[bodf['imdbRating'] > 7.5]\n",
    "bad_reception = bodf[bodf['imdbRating'] < 5.5]\n",
    "ttest_ind(good_reception['Domestic Gross'], bad_reception['Domestic Gross'])"
   ]
  },
  {
   "cell_type": "code",
   "execution_count": 42,
   "metadata": {},
   "outputs": [
    {
     "data": {
      "text/plain": [
       "Ttest_indResult(statistic=9.647709014383754, pvalue=1.816727978608195e-21)"
      ]
     },
     "execution_count": 42,
     "metadata": {},
     "output_type": "execute_result"
    }
   ],
   "source": [
    "ttest_ind(good_reception['Domestic Gross'], bad_reception['Domestic Gross'], equal_var= False)"
   ]
  },
  {
   "cell_type": "code",
   "execution_count": 43,
   "metadata": {},
   "outputs": [
    {
     "name": "stdout",
     "output_type": "stream",
     "text": [
      "<class 'pandas.core.frame.DataFrame'>\n",
      "Int64Index: 1401 entries, 0 to 45165\n",
      "Data columns (total 22 columns):\n",
      "imdbID                   1274 non-null object\n",
      "Title                    1401 non-null object\n",
      "Year                     1401 non-null object\n",
      "Rated                    1316 non-null object\n",
      "Budget                   353 non-null float64\n",
      "Domestic Gross           1401 non-null float64\n",
      "Opening Weekend          1222 non-null float64\n",
      "imdbRating               1401 non-null float64\n",
      "imdbVotes                1400 non-null float64\n",
      "Rotten Tomatoes Score    1352 non-null float64\n",
      "Metascore                1106 non-null float64\n",
      "Genre                    1401 non-null object\n",
      "Runtime                  1398 non-null float64\n",
      "Director                 1397 non-null object\n",
      "Actors                   1391 non-null object\n",
      "Awards                   1334 non-null object\n",
      "vote_average             1377 non-null float64\n",
      "vote_count               1377 non-null float64\n",
      "belongs_to_collection    215 non-null object\n",
      "production_companies     1377 non-null object\n",
      "spoken_languages         1377 non-null object\n",
      "multiplier               1222 non-null float64\n",
      "dtypes: float64(11), object(11)\n",
      "memory usage: 251.7+ KB\n"
     ]
    }
   ],
   "source": [
    "good_reception.info()"
   ]
  },
  {
   "cell_type": "code",
   "execution_count": 44,
   "metadata": {},
   "outputs": [
    {
     "name": "stdout",
     "output_type": "stream",
     "text": [
      "<class 'pandas.core.frame.DataFrame'>\n",
      "Int64Index: 1748 entries, 63 to 45366\n",
      "Data columns (total 22 columns):\n",
      "imdbID                   1546 non-null object\n",
      "Title                    1748 non-null object\n",
      "Year                     1748 non-null object\n",
      "Rated                    1712 non-null object\n",
      "Budget                   488 non-null float64\n",
      "Domestic Gross           1748 non-null float64\n",
      "Opening Weekend          1634 non-null float64\n",
      "imdbRating               1748 non-null float64\n",
      "imdbVotes                1748 non-null float64\n",
      "Rotten Tomatoes Score    1482 non-null float64\n",
      "Metascore                1078 non-null float64\n",
      "Genre                    1748 non-null object\n",
      "Runtime                  1748 non-null float64\n",
      "Director                 1748 non-null object\n",
      "Actors                   1748 non-null object\n",
      "Awards                   1107 non-null object\n",
      "vote_average             1725 non-null float64\n",
      "vote_count               1725 non-null float64\n",
      "belongs_to_collection    278 non-null object\n",
      "production_companies     1725 non-null object\n",
      "spoken_languages         1725 non-null object\n",
      "multiplier               1634 non-null float64\n",
      "dtypes: float64(11), object(11)\n",
      "memory usage: 314.1+ KB\n"
     ]
    }
   ],
   "source": [
    "bad_reception.info()"
   ]
  },
  {
   "cell_type": "code",
   "execution_count": 45,
   "metadata": {},
   "outputs": [
    {
     "data": {
      "text/html": [
       "<div>\n",
       "<style scoped>\n",
       "    .dataframe tbody tr th:only-of-type {\n",
       "        vertical-align: middle;\n",
       "    }\n",
       "\n",
       "    .dataframe tbody tr th {\n",
       "        vertical-align: top;\n",
       "    }\n",
       "\n",
       "    .dataframe thead th {\n",
       "        text-align: right;\n",
       "    }\n",
       "</style>\n",
       "<table border=\"1\" class=\"dataframe\">\n",
       "  <thead>\n",
       "    <tr style=\"text-align: right;\">\n",
       "      <th></th>\n",
       "      <th>Budget</th>\n",
       "      <th>Domestic Gross</th>\n",
       "      <th>Opening Weekend</th>\n",
       "      <th>imdbRating</th>\n",
       "      <th>imdbVotes</th>\n",
       "      <th>Rotten Tomatoes Score</th>\n",
       "      <th>Metascore</th>\n",
       "      <th>Runtime</th>\n",
       "      <th>vote_average</th>\n",
       "      <th>vote_count</th>\n",
       "      <th>multiplier</th>\n",
       "    </tr>\n",
       "  </thead>\n",
       "  <tbody>\n",
       "    <tr>\n",
       "      <td>count</td>\n",
       "      <td>3.530000e+02</td>\n",
       "      <td>1.401000e+03</td>\n",
       "      <td>1.222000e+03</td>\n",
       "      <td>1401.000000</td>\n",
       "      <td>1.400000e+03</td>\n",
       "      <td>1352.000000</td>\n",
       "      <td>1106.000000</td>\n",
       "      <td>1398.000000</td>\n",
       "      <td>1377.000000</td>\n",
       "      <td>1377.000000</td>\n",
       "      <td>1222.000000</td>\n",
       "    </tr>\n",
       "    <tr>\n",
       "      <td>mean</td>\n",
       "      <td>4.937246e+07</td>\n",
       "      <td>3.644593e+07</td>\n",
       "      <td>6.977554e+06</td>\n",
       "      <td>7.869879</td>\n",
       "      <td>1.642971e+05</td>\n",
       "      <td>87.261095</td>\n",
       "      <td>75.354430</td>\n",
       "      <td>116.967096</td>\n",
       "      <td>6.412200</td>\n",
       "      <td>504.199710</td>\n",
       "      <td>53.736764</td>\n",
       "    </tr>\n",
       "    <tr>\n",
       "      <td>std</td>\n",
       "      <td>5.603142e+07</td>\n",
       "      <td>8.002762e+07</td>\n",
       "      <td>2.150063e+07</td>\n",
       "      <td>0.269827</td>\n",
       "      <td>2.789252e+05</td>\n",
       "      <td>11.907453</td>\n",
       "      <td>11.822942</td>\n",
       "      <td>39.440944</td>\n",
       "      <td>1.712411</td>\n",
       "      <td>1232.243034</td>\n",
       "      <td>129.229273</td>\n",
       "    </tr>\n",
       "    <tr>\n",
       "      <td>min</td>\n",
       "      <td>2.700000e+04</td>\n",
       "      <td>2.110000e+02</td>\n",
       "      <td>8.600000e+01</td>\n",
       "      <td>7.600000</td>\n",
       "      <td>3.000000e+01</td>\n",
       "      <td>19.000000</td>\n",
       "      <td>28.000000</td>\n",
       "      <td>5.000000</td>\n",
       "      <td>0.000000</td>\n",
       "      <td>0.000000</td>\n",
       "      <td>0.480129</td>\n",
       "    </tr>\n",
       "    <tr>\n",
       "      <td>25%</td>\n",
       "      <td>1.120000e+07</td>\n",
       "      <td>1.773450e+05</td>\n",
       "      <td>1.228500e+04</td>\n",
       "      <td>7.700000</td>\n",
       "      <td>5.835000e+03</td>\n",
       "      <td>83.000000</td>\n",
       "      <td>68.000000</td>\n",
       "      <td>96.000000</td>\n",
       "      <td>5.800000</td>\n",
       "      <td>8.000000</td>\n",
       "      <td>4.281085</td>\n",
       "    </tr>\n",
       "    <tr>\n",
       "      <td>50%</td>\n",
       "      <td>2.500000e+07</td>\n",
       "      <td>2.087128e+06</td>\n",
       "      <td>5.996100e+04</td>\n",
       "      <td>7.800000</td>\n",
       "      <td>3.254150e+04</td>\n",
       "      <td>91.000000</td>\n",
       "      <td>76.000000</td>\n",
       "      <td>111.000000</td>\n",
       "      <td>7.000000</td>\n",
       "      <td>38.000000</td>\n",
       "      <td>11.613903</td>\n",
       "    </tr>\n",
       "    <tr>\n",
       "      <td>75%</td>\n",
       "      <td>6.500000e+07</td>\n",
       "      <td>3.440030e+07</td>\n",
       "      <td>9.247440e+05</td>\n",
       "      <td>8.000000</td>\n",
       "      <td>2.042750e+05</td>\n",
       "      <td>95.000000</td>\n",
       "      <td>84.000000</td>\n",
       "      <td>130.000000</td>\n",
       "      <td>7.500000</td>\n",
       "      <td>315.000000</td>\n",
       "      <td>39.069659</td>\n",
       "    </tr>\n",
       "    <tr>\n",
       "      <td>max</td>\n",
       "      <td>2.600000e+08</td>\n",
       "      <td>9.366622e+08</td>\n",
       "      <td>2.479667e+08</td>\n",
       "      <td>9.300000</td>\n",
       "      <td>2.154564e+06</td>\n",
       "      <td>100.000000</td>\n",
       "      <td>100.000000</td>\n",
       "      <td>566.000000</td>\n",
       "      <td>10.000000</td>\n",
       "      <td>11444.000000</td>\n",
       "      <td>1337.085761</td>\n",
       "    </tr>\n",
       "  </tbody>\n",
       "</table>\n",
       "</div>"
      ],
      "text/plain": [
       "             Budget  Domestic Gross  Opening Weekend   imdbRating  \\\n",
       "count  3.530000e+02    1.401000e+03     1.222000e+03  1401.000000   \n",
       "mean   4.937246e+07    3.644593e+07     6.977554e+06     7.869879   \n",
       "std    5.603142e+07    8.002762e+07     2.150063e+07     0.269827   \n",
       "min    2.700000e+04    2.110000e+02     8.600000e+01     7.600000   \n",
       "25%    1.120000e+07    1.773450e+05     1.228500e+04     7.700000   \n",
       "50%    2.500000e+07    2.087128e+06     5.996100e+04     7.800000   \n",
       "75%    6.500000e+07    3.440030e+07     9.247440e+05     8.000000   \n",
       "max    2.600000e+08    9.366622e+08     2.479667e+08     9.300000   \n",
       "\n",
       "          imdbVotes  Rotten Tomatoes Score    Metascore      Runtime  \\\n",
       "count  1.400000e+03            1352.000000  1106.000000  1398.000000   \n",
       "mean   1.642971e+05              87.261095    75.354430   116.967096   \n",
       "std    2.789252e+05              11.907453    11.822942    39.440944   \n",
       "min    3.000000e+01              19.000000    28.000000     5.000000   \n",
       "25%    5.835000e+03              83.000000    68.000000    96.000000   \n",
       "50%    3.254150e+04              91.000000    76.000000   111.000000   \n",
       "75%    2.042750e+05              95.000000    84.000000   130.000000   \n",
       "max    2.154564e+06             100.000000   100.000000   566.000000   \n",
       "\n",
       "       vote_average    vote_count   multiplier  \n",
       "count   1377.000000   1377.000000  1222.000000  \n",
       "mean       6.412200    504.199710    53.736764  \n",
       "std        1.712411   1232.243034   129.229273  \n",
       "min        0.000000      0.000000     0.480129  \n",
       "25%        5.800000      8.000000     4.281085  \n",
       "50%        7.000000     38.000000    11.613903  \n",
       "75%        7.500000    315.000000    39.069659  \n",
       "max       10.000000  11444.000000  1337.085761  "
      ]
     },
     "execution_count": 45,
     "metadata": {},
     "output_type": "execute_result"
    }
   ],
   "source": [
    "good_reception.describe()"
   ]
  },
  {
   "cell_type": "code",
   "execution_count": 46,
   "metadata": {},
   "outputs": [
    {
     "data": {
      "text/html": [
       "<div>\n",
       "<style scoped>\n",
       "    .dataframe tbody tr th:only-of-type {\n",
       "        vertical-align: middle;\n",
       "    }\n",
       "\n",
       "    .dataframe tbody tr th {\n",
       "        vertical-align: top;\n",
       "    }\n",
       "\n",
       "    .dataframe thead th {\n",
       "        text-align: right;\n",
       "    }\n",
       "</style>\n",
       "<table border=\"1\" class=\"dataframe\">\n",
       "  <thead>\n",
       "    <tr style=\"text-align: right;\">\n",
       "      <th></th>\n",
       "      <th>Budget</th>\n",
       "      <th>Domestic Gross</th>\n",
       "      <th>Opening Weekend</th>\n",
       "      <th>imdbRating</th>\n",
       "      <th>imdbVotes</th>\n",
       "      <th>Rotten Tomatoes Score</th>\n",
       "      <th>Metascore</th>\n",
       "      <th>Runtime</th>\n",
       "      <th>vote_average</th>\n",
       "      <th>vote_count</th>\n",
       "      <th>multiplier</th>\n",
       "    </tr>\n",
       "  </thead>\n",
       "  <tbody>\n",
       "    <tr>\n",
       "      <td>count</td>\n",
       "      <td>4.880000e+02</td>\n",
       "      <td>1.748000e+03</td>\n",
       "      <td>1.634000e+03</td>\n",
       "      <td>1748.000000</td>\n",
       "      <td>1748.000000</td>\n",
       "      <td>1482.000000</td>\n",
       "      <td>1078.000000</td>\n",
       "      <td>1748.000000</td>\n",
       "      <td>1725.000000</td>\n",
       "      <td>1725.000000</td>\n",
       "      <td>1634.000000</td>\n",
       "    </tr>\n",
       "    <tr>\n",
       "      <td>mean</td>\n",
       "      <td>3.816936e+07</td>\n",
       "      <td>1.488318e+07</td>\n",
       "      <td>5.297244e+06</td>\n",
       "      <td>4.749256</td>\n",
       "      <td>16902.073227</td>\n",
       "      <td>23.081646</td>\n",
       "      <td>34.535250</td>\n",
       "      <td>97.552059</td>\n",
       "      <td>5.232638</td>\n",
       "      <td>100.891594</td>\n",
       "      <td>5.999410</td>\n",
       "    </tr>\n",
       "    <tr>\n",
       "      <td>std</td>\n",
       "      <td>3.423368e+07</td>\n",
       "      <td>2.722277e+07</td>\n",
       "      <td>9.584096e+06</td>\n",
       "      <td>0.684270</td>\n",
       "      <td>29995.636185</td>\n",
       "      <td>17.697685</td>\n",
       "      <td>13.186758</td>\n",
       "      <td>14.377331</td>\n",
       "      <td>1.680990</td>\n",
       "      <td>351.793242</td>\n",
       "      <td>48.132842</td>\n",
       "    </tr>\n",
       "    <tr>\n",
       "      <td>min</td>\n",
       "      <td>5.000000e+04</td>\n",
       "      <td>3.000000e+01</td>\n",
       "      <td>2.000000e+01</td>\n",
       "      <td>1.500000</td>\n",
       "      <td>19.000000</td>\n",
       "      <td>0.000000</td>\n",
       "      <td>1.000000</td>\n",
       "      <td>38.000000</td>\n",
       "      <td>0.000000</td>\n",
       "      <td>0.000000</td>\n",
       "      <td>0.999984</td>\n",
       "    </tr>\n",
       "    <tr>\n",
       "      <td>25%</td>\n",
       "      <td>1.400000e+07</td>\n",
       "      <td>1.467982e+05</td>\n",
       "      <td>5.014925e+04</td>\n",
       "      <td>4.500000</td>\n",
       "      <td>1830.250000</td>\n",
       "      <td>10.000000</td>\n",
       "      <td>25.250000</td>\n",
       "      <td>89.000000</td>\n",
       "      <td>4.600000</td>\n",
       "      <td>5.000000</td>\n",
       "      <td>1.950130</td>\n",
       "    </tr>\n",
       "    <tr>\n",
       "      <td>50%</td>\n",
       "      <td>2.650000e+07</td>\n",
       "      <td>4.617134e+06</td>\n",
       "      <td>2.136180e+06</td>\n",
       "      <td>5.000000</td>\n",
       "      <td>5959.500000</td>\n",
       "      <td>19.000000</td>\n",
       "      <td>34.000000</td>\n",
       "      <td>95.000000</td>\n",
       "      <td>5.300000</td>\n",
       "      <td>16.000000</td>\n",
       "      <td>2.468785</td>\n",
       "    </tr>\n",
       "    <tr>\n",
       "      <td>75%</td>\n",
       "      <td>5.425000e+07</td>\n",
       "      <td>1.732416e+07</td>\n",
       "      <td>6.328772e+06</td>\n",
       "      <td>5.225000</td>\n",
       "      <td>18971.000000</td>\n",
       "      <td>33.000000</td>\n",
       "      <td>43.000000</td>\n",
       "      <td>102.000000</td>\n",
       "      <td>6.300000</td>\n",
       "      <td>59.000000</td>\n",
       "      <td>3.337099</td>\n",
       "    </tr>\n",
       "    <tr>\n",
       "      <td>max</td>\n",
       "      <td>2.170000e+08</td>\n",
       "      <td>3.005318e+08</td>\n",
       "      <td>1.428391e+08</td>\n",
       "      <td>5.400000</td>\n",
       "      <td>401686.000000</td>\n",
       "      <td>93.000000</td>\n",
       "      <td>73.000000</td>\n",
       "      <td>255.000000</td>\n",
       "      <td>10.000000</td>\n",
       "      <td>6324.000000</td>\n",
       "      <td>1429.432528</td>\n",
       "    </tr>\n",
       "  </tbody>\n",
       "</table>\n",
       "</div>"
      ],
      "text/plain": [
       "             Budget  Domestic Gross  Opening Weekend   imdbRating  \\\n",
       "count  4.880000e+02    1.748000e+03     1.634000e+03  1748.000000   \n",
       "mean   3.816936e+07    1.488318e+07     5.297244e+06     4.749256   \n",
       "std    3.423368e+07    2.722277e+07     9.584096e+06     0.684270   \n",
       "min    5.000000e+04    3.000000e+01     2.000000e+01     1.500000   \n",
       "25%    1.400000e+07    1.467982e+05     5.014925e+04     4.500000   \n",
       "50%    2.650000e+07    4.617134e+06     2.136180e+06     5.000000   \n",
       "75%    5.425000e+07    1.732416e+07     6.328772e+06     5.225000   \n",
       "max    2.170000e+08    3.005318e+08     1.428391e+08     5.400000   \n",
       "\n",
       "           imdbVotes  Rotten Tomatoes Score    Metascore      Runtime  \\\n",
       "count    1748.000000            1482.000000  1078.000000  1748.000000   \n",
       "mean    16902.073227              23.081646    34.535250    97.552059   \n",
       "std     29995.636185              17.697685    13.186758    14.377331   \n",
       "min        19.000000               0.000000     1.000000    38.000000   \n",
       "25%      1830.250000              10.000000    25.250000    89.000000   \n",
       "50%      5959.500000              19.000000    34.000000    95.000000   \n",
       "75%     18971.000000              33.000000    43.000000   102.000000   \n",
       "max    401686.000000              93.000000    73.000000   255.000000   \n",
       "\n",
       "       vote_average   vote_count   multiplier  \n",
       "count   1725.000000  1725.000000  1634.000000  \n",
       "mean       5.232638   100.891594     5.999410  \n",
       "std        1.680990   351.793242    48.132842  \n",
       "min        0.000000     0.000000     0.999984  \n",
       "25%        4.600000     5.000000     1.950130  \n",
       "50%        5.300000    16.000000     2.468785  \n",
       "75%        6.300000    59.000000     3.337099  \n",
       "max       10.000000  6324.000000  1429.432528  "
      ]
     },
     "execution_count": 46,
     "metadata": {},
     "output_type": "execute_result"
    }
   ],
   "source": [
    "bad_reception.describe()"
   ]
  },
  {
   "cell_type": "code",
   "execution_count": 47,
   "metadata": {},
   "outputs": [
    {
     "data": {
      "text/plain": [
       "array([20724001.08044326, 22401433.42465552])"
      ]
     },
     "execution_count": 47,
     "metadata": {},
     "output_type": "execute_result"
    }
   ],
   "source": [
    "np.random.seed(47)\n",
    "N_rep = 10000\n",
    "mean_replicates = np.empty(N_rep)\n",
    "for i in range(N_rep):\n",
    "    mean_replicates[i] = np.mean(np.random.choice(bodf['Domestic Gross'],len(bodf['Domestic Gross'])))\n",
    "gross_confidence_interval = np.percentile(mean_replicates,[2.5,97.5])\n",
    "gross_confidence_interval"
   ]
  },
  {
   "cell_type": "code",
   "execution_count": 48,
   "metadata": {},
   "outputs": [
    {
     "data": {
      "text/plain": [
       "array([41989618.33889896, 64092731.19290581])"
      ]
     },
     "execution_count": 48,
     "metadata": {},
     "output_type": "execute_result"
    }
   ],
   "source": [
    "np.random.seed(47)\n",
    "diff_std_replicates = np.empty(N_rep)\n",
    "for i in range(N_rep):\n",
    "    good_sample = np.random.choice(good_reception['Domestic Gross'], len(good_reception['Domestic Gross']))\n",
    "    bad_sample = np.random.choice(bad_reception['Domestic Gross'], len(bad_reception['Domestic Gross']))\n",
    "    diff_std_replicates[i] = np.std(good_sample) - np.std(bad_sample)\n",
    "confidence_interval = np.percentile(diff_std_replicates,[2.5,97.5])\n",
    "confidence_interval"
   ]
  },
  {
   "cell_type": "code",
   "execution_count": 49,
   "metadata": {},
   "outputs": [
    {
     "data": {
      "image/png": "[encoded data removed]",
      "text/plain": [
       "<Figure size 720x360 with 1 Axes>"
      ]
     },
     "metadata": {
      "needs_background": "light"
     },
     "output_type": "display_data"
    }
   ],
   "source": [
    "_ = plt.figure(figsize=(10,5))\n",
    "_ = plt.hist(diff_std_replicates,bins=25)\n",
    "_ = plt.ticklabel_format(useOffset=False, style='plain')\n",
    "_ = plt.title('Difference in Positively and Negatively Rated Films by Audience')\n",
    "_ = plt.xlabel('Differene in Standard Deviation')\n",
    "_ = plt.ylabel('Number of Films')\n",
    "_ = plt.axvline(np.mean(diff_std_replicates),color='r')\n",
    "_ = plt.axvline(confidence_interval[0],color='r',linestyle='--')\n",
    "_ = plt.axvline(confidence_interval[1],color='r',linestyle='--')"
   ]
  },
  {
   "cell_type": "code",
   "execution_count": 50,
   "metadata": {},
   "outputs": [
    {
     "data": {
      "text/plain": [
       "21562746.958332308"
      ]
     },
     "execution_count": 50,
     "metadata": {},
     "output_type": "execute_result"
    }
   ],
   "source": [
    "mean_diff = np.mean(good_reception['Domestic Gross']) - np.mean(bad_reception['Domestic Gross'])\n",
    "mean_diff"
   ]
  },
  {
   "cell_type": "code",
   "execution_count": 51,
   "metadata": {},
   "outputs": [],
   "source": [
    "np.random.seed(47)\n",
    "bad_shifted = bad_reception['Domestic Gross'] - np.mean(bad_reception['Domestic Gross']) + np.mean(good_reception['Domestic Gross'])"
   ]
  },
  {
   "cell_type": "code",
   "execution_count": 52,
   "metadata": {},
   "outputs": [],
   "source": [
    "permutation_mean_replicates = np.empty(N_rep)\n",
    "for i in range(N_rep):\n",
    "    perm_good, perm_bad = permutation(good_reception['Domestic Gross'],bad_shifted)\n",
    "    permutation_mean_replicates[i] = np.mean(perm_good) - np.mean(perm_bad)"
   ]
  },
  {
   "cell_type": "code",
   "execution_count": 53,
   "metadata": {},
   "outputs": [
    {
     "data": {
      "text/plain": [
       "0.0"
      ]
     },
     "execution_count": 53,
     "metadata": {},
     "output_type": "execute_result"
    }
   ],
   "source": [
    "p_value = np.sum(permutation_mean_replicates >= mean_diff)/len(permutation_mean_replicates)\n",
    "p_value"
   ]
  },
  {
   "cell_type": "code",
   "execution_count": 54,
   "metadata": {},
   "outputs": [
    {
     "data": {
      "image/png": "[encoded data removed]",
      "text/plain": [
       "<Figure size 720x360 with 1 Axes>"
      ]
     },
     "metadata": {
      "needs_background": "light"
     },
     "output_type": "display_data"
    }
   ],
   "source": [
    "_ = plt.figure(figsize=(10,5))\n",
    "_ = plt.hist(mean_diff, bins=25)\n",
    "_ = plt.hist(permutation_mean_replicates,bins=25,color='blue')\n",
    "_ = plt.ylabel('Number of Films')\n",
    "_ = plt.axvline(np.mean(permutation_mean_replicates), color='green')\n",
    "_ = plt.axvline(np.mean(mean_diff),color='red',linestyle='--')"
   ]
  },
  {
   "cell_type": "code",
   "execution_count": 55,
   "metadata": {},
   "outputs": [
    {
     "data": {
      "text/plain": [
       "Ttest_indResult(statistic=12.863954175531452, pvalue=5.188186792388572e-37)"
      ]
     },
     "execution_count": 55,
     "metadata": {},
     "output_type": "execute_result"
    }
   ],
   "source": [
    "good_reception = multiplier_df[multiplier_df['imdbRating'] >= 7.5]\n",
    "bad_reception = multiplier_df[multiplier_df['imdbRating'] <= 5.5]\n",
    "ttest_ind(good_reception.multiplier, bad_reception.multiplier)"
   ]
  },
  {
   "cell_type": "code",
   "execution_count": 56,
   "metadata": {},
   "outputs": [
    {
     "data": {
      "text/plain": [
       "Ttest_indResult(statistic=12.158341057591917, pvalue=5.562531411374487e-33)"
      ]
     },
     "execution_count": 56,
     "metadata": {},
     "output_type": "execute_result"
    }
   ],
   "source": [
    "ttest_ind(good_reception.multiplier, bad_reception.multiplier, equal_var= False)"
   ]
  },
  {
   "cell_type": "code",
   "execution_count": 57,
   "metadata": {},
   "outputs": [
    {
     "name": "stdout",
     "output_type": "stream",
     "text": [
      "<class 'pandas.core.frame.DataFrame'>\n",
      "Int64Index: 1522 entries, 0 to 45187\n",
      "Data columns (total 22 columns):\n",
      "imdbID                   1394 non-null object\n",
      "Title                    1522 non-null object\n",
      "Year                     1522 non-null object\n",
      "Rated                    1434 non-null object\n",
      "Budget                   375 non-null float64\n",
      "Domestic Gross           1522 non-null float64\n",
      "Opening Weekend          1522 non-null float64\n",
      "imdbRating               1522 non-null float64\n",
      "imdbVotes                1521 non-null float64\n",
      "Rotten Tomatoes Score    1472 non-null float64\n",
      "Metascore                1237 non-null float64\n",
      "Genre                    1522 non-null object\n",
      "Runtime                  1519 non-null float64\n",
      "Director                 1518 non-null object\n",
      "Actors                   1507 non-null object\n",
      "Awards                   1445 non-null object\n",
      "vote_average             1496 non-null float64\n",
      "vote_count               1496 non-null float64\n",
      "belongs_to_collection    199 non-null object\n",
      "production_companies     1496 non-null object\n",
      "spoken_languages         1496 non-null object\n",
      "multiplier               1522 non-null float64\n",
      "dtypes: float64(11), object(11)\n",
      "memory usage: 273.5+ KB\n"
     ]
    }
   ],
   "source": [
    "good_reception.info()"
   ]
  },
  {
   "cell_type": "code",
   "execution_count": 58,
   "metadata": {},
   "outputs": [
    {
     "name": "stdout",
     "output_type": "stream",
     "text": [
      "<class 'pandas.core.frame.DataFrame'>\n",
      "Int64Index: 1874 entries, 7 to 45366\n",
      "Data columns (total 22 columns):\n",
      "imdbID                   1661 non-null object\n",
      "Title                    1874 non-null object\n",
      "Year                     1874 non-null object\n",
      "Rated                    1837 non-null object\n",
      "Budget                   562 non-null float64\n",
      "Domestic Gross           1874 non-null float64\n",
      "Opening Weekend          1874 non-null float64\n",
      "imdbRating               1874 non-null float64\n",
      "imdbVotes                1874 non-null float64\n",
      "Rotten Tomatoes Score    1642 non-null float64\n",
      "Metascore                1213 non-null float64\n",
      "Genre                    1874 non-null object\n",
      "Runtime                  1874 non-null float64\n",
      "Director                 1874 non-null object\n",
      "Actors                   1874 non-null object\n",
      "Awards                   1219 non-null object\n",
      "vote_average             1847 non-null float64\n",
      "vote_count               1847 non-null float64\n",
      "belongs_to_collection    295 non-null object\n",
      "production_companies     1847 non-null object\n",
      "spoken_languages         1847 non-null object\n",
      "multiplier               1874 non-null float64\n",
      "dtypes: float64(11), object(11)\n",
      "memory usage: 336.7+ KB\n"
     ]
    }
   ],
   "source": [
    "bad_reception.info()"
   ]
  },
  {
   "cell_type": "code",
   "execution_count": 59,
   "metadata": {},
   "outputs": [
    {
     "data": {
      "text/html": [
       "<div>\n",
       "<style scoped>\n",
       "    .dataframe tbody tr th:only-of-type {\n",
       "        vertical-align: middle;\n",
       "    }\n",
       "\n",
       "    .dataframe tbody tr th {\n",
       "        vertical-align: top;\n",
       "    }\n",
       "\n",
       "    .dataframe thead th {\n",
       "        text-align: right;\n",
       "    }\n",
       "</style>\n",
       "<table border=\"1\" class=\"dataframe\">\n",
       "  <thead>\n",
       "    <tr style=\"text-align: right;\">\n",
       "      <th></th>\n",
       "      <th>Budget</th>\n",
       "      <th>Domestic Gross</th>\n",
       "      <th>Opening Weekend</th>\n",
       "      <th>imdbRating</th>\n",
       "      <th>imdbVotes</th>\n",
       "      <th>Rotten Tomatoes Score</th>\n",
       "      <th>Metascore</th>\n",
       "      <th>Runtime</th>\n",
       "      <th>vote_average</th>\n",
       "      <th>vote_count</th>\n",
       "      <th>multiplier</th>\n",
       "    </tr>\n",
       "  </thead>\n",
       "  <tbody>\n",
       "    <tr>\n",
       "      <td>count</td>\n",
       "      <td>3.750000e+02</td>\n",
       "      <td>1.522000e+03</td>\n",
       "      <td>1.522000e+03</td>\n",
       "      <td>1522.000000</td>\n",
       "      <td>1.521000e+03</td>\n",
       "      <td>1472.000000</td>\n",
       "      <td>1237.000000</td>\n",
       "      <td>1519.000000</td>\n",
       "      <td>1496.000000</td>\n",
       "      <td>1496.000000</td>\n",
       "      <td>1522.000000</td>\n",
       "    </tr>\n",
       "    <tr>\n",
       "      <td>mean</td>\n",
       "      <td>5.175207e+07</td>\n",
       "      <td>3.522177e+07</td>\n",
       "      <td>6.326616e+06</td>\n",
       "      <td>7.796255</td>\n",
       "      <td>1.530556e+05</td>\n",
       "      <td>86.066576</td>\n",
       "      <td>74.282943</td>\n",
       "      <td>115.245556</td>\n",
       "      <td>6.276203</td>\n",
       "      <td>449.236631</td>\n",
       "      <td>53.762620</td>\n",
       "    </tr>\n",
       "    <tr>\n",
       "      <td>std</td>\n",
       "      <td>5.533967e+07</td>\n",
       "      <td>7.975043e+07</td>\n",
       "      <td>2.035744e+07</td>\n",
       "      <td>0.284498</td>\n",
       "      <td>2.689384e+05</td>\n",
       "      <td>12.386685</td>\n",
       "      <td>11.604282</td>\n",
       "      <td>37.484326</td>\n",
       "      <td>1.737348</td>\n",
       "      <td>1181.332665</td>\n",
       "      <td>134.596303</td>\n",
       "    </tr>\n",
       "    <tr>\n",
       "      <td>min</td>\n",
       "      <td>2.700000e+04</td>\n",
       "      <td>2.110000e+02</td>\n",
       "      <td>8.600000e+01</td>\n",
       "      <td>7.500000</td>\n",
       "      <td>3.000000e+01</td>\n",
       "      <td>19.000000</td>\n",
       "      <td>28.000000</td>\n",
       "      <td>7.000000</td>\n",
       "      <td>0.000000</td>\n",
       "      <td>0.000000</td>\n",
       "      <td>0.480129</td>\n",
       "    </tr>\n",
       "    <tr>\n",
       "      <td>25%</td>\n",
       "      <td>1.450000e+07</td>\n",
       "      <td>1.617100e+05</td>\n",
       "      <td>1.228500e+04</td>\n",
       "      <td>7.600000</td>\n",
       "      <td>5.118000e+03</td>\n",
       "      <td>81.000000</td>\n",
       "      <td>68.000000</td>\n",
       "      <td>95.000000</td>\n",
       "      <td>5.700000</td>\n",
       "      <td>7.000000</td>\n",
       "      <td>4.285543</td>\n",
       "    </tr>\n",
       "    <tr>\n",
       "      <td>50%</td>\n",
       "      <td>3.000000e+07</td>\n",
       "      <td>1.600878e+06</td>\n",
       "      <td>5.160250e+04</td>\n",
       "      <td>7.700000</td>\n",
       "      <td>2.700200e+04</td>\n",
       "      <td>89.000000</td>\n",
       "      <td>75.000000</td>\n",
       "      <td>110.000000</td>\n",
       "      <td>6.700000</td>\n",
       "      <td>29.000000</td>\n",
       "      <td>11.716726</td>\n",
       "    </tr>\n",
       "    <tr>\n",
       "      <td>75%</td>\n",
       "      <td>6.850000e+07</td>\n",
       "      <td>3.162919e+07</td>\n",
       "      <td>7.295305e+05</td>\n",
       "      <td>7.975000</td>\n",
       "      <td>1.777950e+05</td>\n",
       "      <td>95.000000</td>\n",
       "      <td>83.000000</td>\n",
       "      <td>127.000000</td>\n",
       "      <td>7.400000</td>\n",
       "      <td>218.000000</td>\n",
       "      <td>39.288812</td>\n",
       "    </tr>\n",
       "    <tr>\n",
       "      <td>max</td>\n",
       "      <td>2.600000e+08</td>\n",
       "      <td>9.366622e+08</td>\n",
       "      <td>2.479667e+08</td>\n",
       "      <td>9.300000</td>\n",
       "      <td>2.154564e+06</td>\n",
       "      <td>100.000000</td>\n",
       "      <td>100.000000</td>\n",
       "      <td>566.000000</td>\n",
       "      <td>10.000000</td>\n",
       "      <td>11444.000000</td>\n",
       "      <td>1646.485102</td>\n",
       "    </tr>\n",
       "  </tbody>\n",
       "</table>\n",
       "</div>"
      ],
      "text/plain": [
       "             Budget  Domestic Gross  Opening Weekend   imdbRating  \\\n",
       "count  3.750000e+02    1.522000e+03     1.522000e+03  1522.000000   \n",
       "mean   5.175207e+07    3.522177e+07     6.326616e+06     7.796255   \n",
       "std    5.533967e+07    7.975043e+07     2.035744e+07     0.284498   \n",
       "min    2.700000e+04    2.110000e+02     8.600000e+01     7.500000   \n",
       "25%    1.450000e+07    1.617100e+05     1.228500e+04     7.600000   \n",
       "50%    3.000000e+07    1.600878e+06     5.160250e+04     7.700000   \n",
       "75%    6.850000e+07    3.162919e+07     7.295305e+05     7.975000   \n",
       "max    2.600000e+08    9.366622e+08     2.479667e+08     9.300000   \n",
       "\n",
       "          imdbVotes  Rotten Tomatoes Score    Metascore      Runtime  \\\n",
       "count  1.521000e+03            1472.000000  1237.000000  1519.000000   \n",
       "mean   1.530556e+05              86.066576    74.282943   115.245556   \n",
       "std    2.689384e+05              12.386685    11.604282    37.484326   \n",
       "min    3.000000e+01              19.000000    28.000000     7.000000   \n",
       "25%    5.118000e+03              81.000000    68.000000    95.000000   \n",
       "50%    2.700200e+04              89.000000    75.000000   110.000000   \n",
       "75%    1.777950e+05              95.000000    83.000000   127.000000   \n",
       "max    2.154564e+06             100.000000   100.000000   566.000000   \n",
       "\n",
       "       vote_average    vote_count   multiplier  \n",
       "count   1496.000000   1496.000000  1522.000000  \n",
       "mean       6.276203    449.236631    53.762620  \n",
       "std        1.737348   1181.332665   134.596303  \n",
       "min        0.000000      0.000000     0.480129  \n",
       "25%        5.700000      7.000000     4.285543  \n",
       "50%        6.700000     29.000000    11.716726  \n",
       "75%        7.400000    218.000000    39.288812  \n",
       "max       10.000000  11444.000000  1646.485102  "
      ]
     },
     "execution_count": 59,
     "metadata": {},
     "output_type": "execute_result"
    }
   ],
   "source": [
    "good_reception.describe()"
   ]
  },
  {
   "cell_type": "code",
   "execution_count": 60,
   "metadata": {},
   "outputs": [
    {
     "data": {
      "text/html": [
       "<div>\n",
       "<style scoped>\n",
       "    .dataframe tbody tr th:only-of-type {\n",
       "        vertical-align: middle;\n",
       "    }\n",
       "\n",
       "    .dataframe tbody tr th {\n",
       "        vertical-align: top;\n",
       "    }\n",
       "\n",
       "    .dataframe thead th {\n",
       "        text-align: right;\n",
       "    }\n",
       "</style>\n",
       "<table border=\"1\" class=\"dataframe\">\n",
       "  <thead>\n",
       "    <tr style=\"text-align: right;\">\n",
       "      <th></th>\n",
       "      <th>Budget</th>\n",
       "      <th>Domestic Gross</th>\n",
       "      <th>Opening Weekend</th>\n",
       "      <th>imdbRating</th>\n",
       "      <th>imdbVotes</th>\n",
       "      <th>Rotten Tomatoes Score</th>\n",
       "      <th>Metascore</th>\n",
       "      <th>Runtime</th>\n",
       "      <th>vote_average</th>\n",
       "      <th>vote_count</th>\n",
       "      <th>multiplier</th>\n",
       "    </tr>\n",
       "  </thead>\n",
       "  <tbody>\n",
       "    <tr>\n",
       "      <td>count</td>\n",
       "      <td>5.620000e+02</td>\n",
       "      <td>1.874000e+03</td>\n",
       "      <td>1.874000e+03</td>\n",
       "      <td>1874.000000</td>\n",
       "      <td>1874.000000</td>\n",
       "      <td>1642.000000</td>\n",
       "      <td>1213.000000</td>\n",
       "      <td>1874.000000</td>\n",
       "      <td>1847.000000</td>\n",
       "      <td>1847.000000</td>\n",
       "      <td>1874.000000</td>\n",
       "    </tr>\n",
       "    <tr>\n",
       "      <td>mean</td>\n",
       "      <td>3.940507e+07</td>\n",
       "      <td>1.626861e+07</td>\n",
       "      <td>5.509261e+06</td>\n",
       "      <td>4.846745</td>\n",
       "      <td>18842.302561</td>\n",
       "      <td>23.845311</td>\n",
       "      <td>35.407255</td>\n",
       "      <td>97.877801</td>\n",
       "      <td>5.272225</td>\n",
       "      <td>106.761776</td>\n",
       "      <td>7.048904</td>\n",
       "    </tr>\n",
       "    <tr>\n",
       "      <td>std</td>\n",
       "      <td>3.440360e+07</td>\n",
       "      <td>2.871325e+07</td>\n",
       "      <td>1.006811e+07</td>\n",
       "      <td>0.684402</td>\n",
       "      <td>32315.145308</td>\n",
       "      <td>17.981586</td>\n",
       "      <td>13.240752</td>\n",
       "      <td>13.942851</td>\n",
       "      <td>1.643244</td>\n",
       "      <td>355.162424</td>\n",
       "      <td>73.196268</td>\n",
       "    </tr>\n",
       "    <tr>\n",
       "      <td>min</td>\n",
       "      <td>5.000000e+04</td>\n",
       "      <td>3.000000e+01</td>\n",
       "      <td>2.000000e+01</td>\n",
       "      <td>1.500000</td>\n",
       "      <td>19.000000</td>\n",
       "      <td>0.000000</td>\n",
       "      <td>1.000000</td>\n",
       "      <td>60.000000</td>\n",
       "      <td>0.000000</td>\n",
       "      <td>0.000000</td>\n",
       "      <td>0.999984</td>\n",
       "    </tr>\n",
       "    <tr>\n",
       "      <td>25%</td>\n",
       "      <td>1.500000e+07</td>\n",
       "      <td>1.691865e+05</td>\n",
       "      <td>4.869250e+04</td>\n",
       "      <td>4.600000</td>\n",
       "      <td>2130.500000</td>\n",
       "      <td>11.000000</td>\n",
       "      <td>26.000000</td>\n",
       "      <td>90.000000</td>\n",
       "      <td>4.700000</td>\n",
       "      <td>5.000000</td>\n",
       "      <td>1.966967</td>\n",
       "    </tr>\n",
       "    <tr>\n",
       "      <td>50%</td>\n",
       "      <td>3.000000e+07</td>\n",
       "      <td>5.574408e+06</td>\n",
       "      <td>2.186745e+06</td>\n",
       "      <td>5.100000</td>\n",
       "      <td>6698.500000</td>\n",
       "      <td>19.500000</td>\n",
       "      <td>35.000000</td>\n",
       "      <td>95.000000</td>\n",
       "      <td>5.300000</td>\n",
       "      <td>18.000000</td>\n",
       "      <td>2.498905</td>\n",
       "    </tr>\n",
       "    <tr>\n",
       "      <td>75%</td>\n",
       "      <td>5.650000e+07</td>\n",
       "      <td>1.971955e+07</td>\n",
       "      <td>6.609927e+06</td>\n",
       "      <td>5.300000</td>\n",
       "      <td>20744.250000</td>\n",
       "      <td>34.000000</td>\n",
       "      <td>44.000000</td>\n",
       "      <td>103.000000</td>\n",
       "      <td>6.300000</td>\n",
       "      <td>65.000000</td>\n",
       "      <td>3.389423</td>\n",
       "    </tr>\n",
       "    <tr>\n",
       "      <td>max</td>\n",
       "      <td>2.170000e+08</td>\n",
       "      <td>3.005318e+08</td>\n",
       "      <td>1.428391e+08</td>\n",
       "      <td>5.500000</td>\n",
       "      <td>401686.000000</td>\n",
       "      <td>100.000000</td>\n",
       "      <td>76.000000</td>\n",
       "      <td>255.000000</td>\n",
       "      <td>10.000000</td>\n",
       "      <td>6324.000000</td>\n",
       "      <td>2505.688057</td>\n",
       "    </tr>\n",
       "  </tbody>\n",
       "</table>\n",
       "</div>"
      ],
      "text/plain": [
       "             Budget  Domestic Gross  Opening Weekend   imdbRating  \\\n",
       "count  5.620000e+02    1.874000e+03     1.874000e+03  1874.000000   \n",
       "mean   3.940507e+07    1.626861e+07     5.509261e+06     4.846745   \n",
       "std    3.440360e+07    2.871325e+07     1.006811e+07     0.684402   \n",
       "min    5.000000e+04    3.000000e+01     2.000000e+01     1.500000   \n",
       "25%    1.500000e+07    1.691865e+05     4.869250e+04     4.600000   \n",
       "50%    3.000000e+07    5.574408e+06     2.186745e+06     5.100000   \n",
       "75%    5.650000e+07    1.971955e+07     6.609927e+06     5.300000   \n",
       "max    2.170000e+08    3.005318e+08     1.428391e+08     5.500000   \n",
       "\n",
       "           imdbVotes  Rotten Tomatoes Score    Metascore      Runtime  \\\n",
       "count    1874.000000            1642.000000  1213.000000  1874.000000   \n",
       "mean    18842.302561              23.845311    35.407255    97.877801   \n",
       "std     32315.145308              17.981586    13.240752    13.942851   \n",
       "min        19.000000               0.000000     1.000000    60.000000   \n",
       "25%      2130.500000              11.000000    26.000000    90.000000   \n",
       "50%      6698.500000              19.500000    35.000000    95.000000   \n",
       "75%     20744.250000              34.000000    44.000000   103.000000   \n",
       "max    401686.000000             100.000000    76.000000   255.000000   \n",
       "\n",
       "       vote_average   vote_count   multiplier  \n",
       "count   1847.000000  1847.000000  1874.000000  \n",
       "mean       5.272225   106.761776     7.048904  \n",
       "std        1.643244   355.162424    73.196268  \n",
       "min        0.000000     0.000000     0.999984  \n",
       "25%        4.700000     5.000000     1.966967  \n",
       "50%        5.300000    18.000000     2.498905  \n",
       "75%        6.300000    65.000000     3.389423  \n",
       "max       10.000000  6324.000000  2505.688057  "
      ]
     },
     "execution_count": 60,
     "metadata": {},
     "output_type": "execute_result"
    }
   ],
   "source": [
    "bad_reception.describe()"
   ]
  },
  {
   "cell_type": "code",
   "execution_count": 61,
   "metadata": {},
   "outputs": [
    {
     "data": {
      "text/plain": [
       "array([20.73640892, 25.12030666])"
      ]
     },
     "execution_count": 61,
     "metadata": {},
     "output_type": "execute_result"
    }
   ],
   "source": [
    "np.random.seed(47)\n",
    "N_rep = 10000\n",
    "mean_replicates = np.empty(N_rep)\n",
    "for i in range(N_rep):\n",
    "    mean_replicates[i] = np.mean(np.random.choice(multiplier,len(multiplier)))\n",
    "multiplier_confidence_interval = np.percentile(mean_replicates,[2.5,97.5])\n",
    "multiplier_confidence_interval"
   ]
  },
  {
   "cell_type": "code",
   "execution_count": 62,
   "metadata": {},
   "outputs": [
    {
     "data": {
      "text/plain": [
       "array([ 12.91763416, 119.55957122])"
      ]
     },
     "execution_count": 62,
     "metadata": {},
     "output_type": "execute_result"
    }
   ],
   "source": [
    "np.random.seed(47)\n",
    "diff_std_replicates = np.empty(N_rep)\n",
    "for i in range(N_rep):\n",
    "    good_sample = np.random.choice(good_reception.multiplier, len(good_reception.multiplier))\n",
    "    bad_sample = np.random.choice(bad_reception.multiplier, len(bad_reception.multiplier))\n",
    "    diff_std_replicates[i] = np.std(good_sample) - np.std(bad_sample)\n",
    "confidence_interval = np.percentile(diff_std_replicates,[2.5,97.5])\n",
    "confidence_interval"
   ]
  },
  {
   "cell_type": "code",
   "execution_count": 63,
   "metadata": {},
   "outputs": [
    {
     "data": {
      "image/png": "[encoded data removed]",
      "text/plain": [
       "<Figure size 720x360 with 1 Axes>"
      ]
     },
     "metadata": {
      "needs_background": "light"
     },
     "output_type": "display_data"
    }
   ],
   "source": [
    "_ = plt.figure(figsize=(10,5))\n",
    "_ = plt.hist(diff_std_replicates,bins=25)\n",
    "_ = plt.title('Difference of Postive and Negative Rated Films from Audiences ')\n",
    "_ = plt.xlabel('Differene in Standard Deviation')\n",
    "_ = plt.ylabel('Number of Films')\n",
    "_ = plt.axvline(np.mean(diff_std_replicates),color='r')\n",
    "_ = plt.axvline(confidence_interval[0],color='r',linestyle='--')\n",
    "_ = plt.axvline(confidence_interval[1],color='r',linestyle='--')"
   ]
  },
  {
   "cell_type": "code",
   "execution_count": 64,
   "metadata": {},
   "outputs": [
    {
     "data": {
      "text/plain": [
       "46.71371523088091"
      ]
     },
     "execution_count": 64,
     "metadata": {},
     "output_type": "execute_result"
    }
   ],
   "source": [
    "mean_diff = np.mean(good_reception['multiplier']) - np.mean(bad_reception['multiplier'])\n",
    "mean_diff"
   ]
  },
  {
   "cell_type": "code",
   "execution_count": 65,
   "metadata": {},
   "outputs": [],
   "source": [
    "np.random.seed(47)\n",
    "bad_shifted = bad_reception.multiplier - np.mean(bad_reception.multiplier) + np.mean(good_reception.multiplier)"
   ]
  },
  {
   "cell_type": "code",
   "execution_count": 66,
   "metadata": {},
   "outputs": [],
   "source": [
    "permutation_mean_replicates = np.empty(N_rep)\n",
    "for i in range(N_rep):\n",
    "    perm_good, perm_bad = permutation(good_reception.multiplier,bad_shifted)\n",
    "    permutation_mean_replicates[i] = np.mean(perm_good) - np.mean(perm_bad)"
   ]
  },
  {
   "cell_type": "code",
   "execution_count": 67,
   "metadata": {},
   "outputs": [
    {
     "data": {
      "text/plain": [
       "0.0"
      ]
     },
     "execution_count": 67,
     "metadata": {},
     "output_type": "execute_result"
    }
   ],
   "source": [
    "p_value = np.sum(permutation_mean_replicates >= mean_diff)/len(permutation_mean_replicates)\n",
    "p_value"
   ]
  },
  {
   "cell_type": "code",
   "execution_count": 68,
   "metadata": {},
   "outputs": [
    {
     "data": {
      "image/png": "[encoded data removed]",
      "text/plain": [
       "<Figure size 720x360 with 1 Axes>"
      ]
     },
     "metadata": {
      "needs_background": "light"
     },
     "output_type": "display_data"
    }
   ],
   "source": [
    "_ = plt.figure(figsize=(10,5))\n",
    "_ = plt.hist(mean_diff, bins=25)\n",
    "_ = plt.hist(permutation_mean_replicates,bins=25,color='blue')\n",
    "_ = plt.ylabel('Number of Films')\n",
    "_ = plt.axvline(np.mean(permutation_mean_replicates), color='green')\n",
    "_ = plt.axvline(np.mean(mean_diff),color='red',linestyle='--')"
   ]
  }
 ],
 "metadata": {
  "kernelspec": {
   "display_name": "Python 3",
   "language": "python",
   "name": "python3"
  },
  "language_info": {
   "codemirror_mode": {
    "name": "ipython",
    "version": 3
   },
   "file_extension": ".py",
   "mimetype": "text/x-python",
   "name": "python",
   "nbconvert_exporter": "python",
   "pygments_lexer": "ipython3",
   "version": "3.7.4"
  }
 },
 "nbformat": 4,
 "nbformat_minor": 2
}
