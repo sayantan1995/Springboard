{
 "cells": [
  {
   "cell_type": "code",
   "execution_count": 1,
   "metadata": {},
   "outputs": [],
   "source": [
    "import pandas as pd\n",
    "import numpy as np\n",
    "from datetime import datetime\n",
    "import matplotlib.pyplot as plt\n",
    "import json\n",
    "from pandas.io.json import json_normalize\n",
    "from scipy.stats import t, ttest_ind"
   ]
  },
  {
   "cell_type": "code",
   "execution_count": 2,
   "metadata": {},
   "outputs": [
    {
     "data": {
      "text/html": [
       "<div>\n",
       "<style scoped>\n",
       "    .dataframe tbody tr th:only-of-type {\n",
       "        vertical-align: middle;\n",
       "    }\n",
       "\n",
       "    .dataframe tbody tr th {\n",
       "        vertical-align: top;\n",
       "    }\n",
       "\n",
       "    .dataframe thead th {\n",
       "        text-align: right;\n",
       "    }\n",
       "</style>\n",
       "<table border=\"1\" class=\"dataframe\">\n",
       "  <thead>\n",
       "    <tr style=\"text-align: right;\">\n",
       "      <th></th>\n",
       "      <th>imdbID</th>\n",
       "      <th>Title</th>\n",
       "      <th>Year</th>\n",
       "      <th>Rated</th>\n",
       "      <th>Budget</th>\n",
       "      <th>Domestic Gross</th>\n",
       "      <th>Opening Weekend</th>\n",
       "      <th>imdbRating</th>\n",
       "      <th>imdbVotes</th>\n",
       "      <th>Rotten Tomatoes Score</th>\n",
       "      <th>...</th>\n",
       "      <th>Runtime</th>\n",
       "      <th>Director</th>\n",
       "      <th>Actors</th>\n",
       "      <th>Awards</th>\n",
       "      <th>vote_average</th>\n",
       "      <th>vote_count</th>\n",
       "      <th>belongs_to_collection</th>\n",
       "      <th>production_companies</th>\n",
       "      <th>spoken_languages</th>\n",
       "      <th>multiplier</th>\n",
       "    </tr>\n",
       "  </thead>\n",
       "  <tbody>\n",
       "    <tr>\n",
       "      <td>0</td>\n",
       "      <td>tt0114709</td>\n",
       "      <td>Toy Story</td>\n",
       "      <td>1995</td>\n",
       "      <td>G</td>\n",
       "      <td>NaN</td>\n",
       "      <td>191796233.0</td>\n",
       "      <td>29140617.0</td>\n",
       "      <td>8.3</td>\n",
       "      <td>820774.0</td>\n",
       "      <td>100.0</td>\n",
       "      <td>...</td>\n",
       "      <td>81.0</td>\n",
       "      <td>John Lasseter</td>\n",
       "      <td>Tom Hanks, Tim Allen, Don Rickles, Jim Varney</td>\n",
       "      <td>Nominated for 3 Oscars. Another 23 wins &amp; 17 n...</td>\n",
       "      <td>7.7</td>\n",
       "      <td>5415.0</td>\n",
       "      <td>{'id': 10194, 'name': 'Toy Story Collection', ...</td>\n",
       "      <td>[{'name': 'Pixar Animation Studios', 'id': 3}]</td>\n",
       "      <td>[{'iso_639_1': 'en', 'name': 'English'}]</td>\n",
       "      <td>6.581749</td>\n",
       "    </tr>\n",
       "    <tr>\n",
       "      <td>1</td>\n",
       "      <td>tt0113497</td>\n",
       "      <td>Jumanji</td>\n",
       "      <td>1995</td>\n",
       "      <td>PG</td>\n",
       "      <td>65000000.0</td>\n",
       "      <td>100475249.0</td>\n",
       "      <td>11084370.0</td>\n",
       "      <td>7.0</td>\n",
       "      <td>276338.0</td>\n",
       "      <td>54.0</td>\n",
       "      <td>...</td>\n",
       "      <td>104.0</td>\n",
       "      <td>Joe Johnston</td>\n",
       "      <td>Robin Williams, Jonathan Hyde, Kirsten Dunst, ...</td>\n",
       "      <td>4 wins &amp; 9 nominations.</td>\n",
       "      <td>6.9</td>\n",
       "      <td>2413.0</td>\n",
       "      <td>NaN</td>\n",
       "      <td>[{'name': 'TriStar Pictures', 'id': 559}, {'na...</td>\n",
       "      <td>[{'iso_639_1': 'en', 'name': 'English'}, {'iso...</td>\n",
       "      <td>9.064588</td>\n",
       "    </tr>\n",
       "    <tr>\n",
       "      <td>2</td>\n",
       "      <td>tt0113228</td>\n",
       "      <td>Grumpier Old Men</td>\n",
       "      <td>1995</td>\n",
       "      <td>PG-13</td>\n",
       "      <td>NaN</td>\n",
       "      <td>71518503.0</td>\n",
       "      <td>7797185.0</td>\n",
       "      <td>6.7</td>\n",
       "      <td>22673.0</td>\n",
       "      <td>17.0</td>\n",
       "      <td>...</td>\n",
       "      <td>101.0</td>\n",
       "      <td>Howard Deutch</td>\n",
       "      <td>Walter Matthau, Jack Lemmon, Sophia Loren, Ann...</td>\n",
       "      <td>2 wins &amp; 2 nominations.</td>\n",
       "      <td>6.5</td>\n",
       "      <td>92.0</td>\n",
       "      <td>{'id': 119050, 'name': 'Grumpy Old Men Collect...</td>\n",
       "      <td>[{'name': 'Warner Bros.', 'id': 6194}, {'name'...</td>\n",
       "      <td>[{'iso_639_1': 'en', 'name': 'English'}]</td>\n",
       "      <td>9.172349</td>\n",
       "    </tr>\n",
       "    <tr>\n",
       "      <td>3</td>\n",
       "      <td>tt0114885</td>\n",
       "      <td>Waiting to Exhale</td>\n",
       "      <td>1995</td>\n",
       "      <td>R</td>\n",
       "      <td>NaN</td>\n",
       "      <td>67052156.0</td>\n",
       "      <td>14126927.0</td>\n",
       "      <td>5.9</td>\n",
       "      <td>8898.0</td>\n",
       "      <td>56.0</td>\n",
       "      <td>...</td>\n",
       "      <td>124.0</td>\n",
       "      <td>Forest Whitaker</td>\n",
       "      <td>Whitney Houston, Angela Bassett, Loretta Devin...</td>\n",
       "      <td>8 wins &amp; 9 nominations.</td>\n",
       "      <td>6.1</td>\n",
       "      <td>34.0</td>\n",
       "      <td>NaN</td>\n",
       "      <td>[{'name': 'Twentieth Century Fox Film Corporat...</td>\n",
       "      <td>[{'iso_639_1': 'en', 'name': 'English'}]</td>\n",
       "      <td>4.746408</td>\n",
       "    </tr>\n",
       "    <tr>\n",
       "      <td>4</td>\n",
       "      <td>tt0113041</td>\n",
       "      <td>Father of the Bride Part II</td>\n",
       "      <td>1995</td>\n",
       "      <td>PG</td>\n",
       "      <td>NaN</td>\n",
       "      <td>76594107.0</td>\n",
       "      <td>11134978.0</td>\n",
       "      <td>6.0</td>\n",
       "      <td>31909.0</td>\n",
       "      <td>48.0</td>\n",
       "      <td>...</td>\n",
       "      <td>106.0</td>\n",
       "      <td>Charles Shyer</td>\n",
       "      <td>Steve Martin, Diane Keaton, Martin Short, Kimb...</td>\n",
       "      <td>Nominated for 1 Golden Globe. Another 1 win &amp; ...</td>\n",
       "      <td>5.7</td>\n",
       "      <td>173.0</td>\n",
       "      <td>{'id': 96871, 'name': 'Father of the Bride Col...</td>\n",
       "      <td>[{'name': 'Sandollar Productions', 'id': 5842}...</td>\n",
       "      <td>[{'iso_639_1': 'en', 'name': 'English'}]</td>\n",
       "      <td>6.878694</td>\n",
       "    </tr>\n",
       "  </tbody>\n",
       "</table>\n",
       "<p>5 rows × 22 columns</p>\n",
       "</div>"
      ],
      "text/plain": [
       "      imdbID                        Title  Year  Rated      Budget  \\\n",
       "0  tt0114709                    Toy Story  1995      G         NaN   \n",
       "1  tt0113497                      Jumanji  1995     PG  65000000.0   \n",
       "2  tt0113228             Grumpier Old Men  1995  PG-13         NaN   \n",
       "3  tt0114885            Waiting to Exhale  1995      R         NaN   \n",
       "4  tt0113041  Father of the Bride Part II  1995     PG         NaN   \n",
       "\n",
       "   Domestic Gross  Opening Weekend  imdbRating  imdbVotes  \\\n",
       "0     191796233.0       29140617.0         8.3   820774.0   \n",
       "1     100475249.0       11084370.0         7.0   276338.0   \n",
       "2      71518503.0        7797185.0         6.7    22673.0   \n",
       "3      67052156.0       14126927.0         5.9     8898.0   \n",
       "4      76594107.0       11134978.0         6.0    31909.0   \n",
       "\n",
       "   Rotten Tomatoes Score  ...  Runtime         Director  \\\n",
       "0                  100.0  ...     81.0    John Lasseter   \n",
       "1                   54.0  ...    104.0     Joe Johnston   \n",
       "2                   17.0  ...    101.0    Howard Deutch   \n",
       "3                   56.0  ...    124.0  Forest Whitaker   \n",
       "4                   48.0  ...    106.0    Charles Shyer   \n",
       "\n",
       "                                              Actors  \\\n",
       "0      Tom Hanks, Tim Allen, Don Rickles, Jim Varney   \n",
       "1  Robin Williams, Jonathan Hyde, Kirsten Dunst, ...   \n",
       "2  Walter Matthau, Jack Lemmon, Sophia Loren, Ann...   \n",
       "3  Whitney Houston, Angela Bassett, Loretta Devin...   \n",
       "4  Steve Martin, Diane Keaton, Martin Short, Kimb...   \n",
       "\n",
       "                                              Awards vote_average vote_count  \\\n",
       "0  Nominated for 3 Oscars. Another 23 wins & 17 n...          7.7     5415.0   \n",
       "1                            4 wins & 9 nominations.          6.9     2413.0   \n",
       "2                            2 wins & 2 nominations.          6.5       92.0   \n",
       "3                            8 wins & 9 nominations.          6.1       34.0   \n",
       "4  Nominated for 1 Golden Globe. Another 1 win & ...          5.7      173.0   \n",
       "\n",
       "                               belongs_to_collection  \\\n",
       "0  {'id': 10194, 'name': 'Toy Story Collection', ...   \n",
       "1                                                NaN   \n",
       "2  {'id': 119050, 'name': 'Grumpy Old Men Collect...   \n",
       "3                                                NaN   \n",
       "4  {'id': 96871, 'name': 'Father of the Bride Col...   \n",
       "\n",
       "                                production_companies  \\\n",
       "0     [{'name': 'Pixar Animation Studios', 'id': 3}]   \n",
       "1  [{'name': 'TriStar Pictures', 'id': 559}, {'na...   \n",
       "2  [{'name': 'Warner Bros.', 'id': 6194}, {'name'...   \n",
       "3  [{'name': 'Twentieth Century Fox Film Corporat...   \n",
       "4  [{'name': 'Sandollar Productions', 'id': 5842}...   \n",
       "\n",
       "                                    spoken_languages multiplier  \n",
       "0           [{'iso_639_1': 'en', 'name': 'English'}]   6.581749  \n",
       "1  [{'iso_639_1': 'en', 'name': 'English'}, {'iso...   9.064588  \n",
       "2           [{'iso_639_1': 'en', 'name': 'English'}]   9.172349  \n",
       "3           [{'iso_639_1': 'en', 'name': 'English'}]   4.746408  \n",
       "4           [{'iso_639_1': 'en', 'name': 'English'}]   6.878694  \n",
       "\n",
       "[5 rows x 22 columns]"
      ]
     },
     "execution_count": 2,
     "metadata": {},
     "output_type": "execute_result"
    }
   ],
   "source": [
    "bodf = pd.read_csv('boxoffice.csv',index_col=0)\n",
    "bodf.head()"
   ]
  },
  {
   "cell_type": "code",
   "execution_count": 3,
   "metadata": {},
   "outputs": [
    {
     "name": "stdout",
     "output_type": "stream",
     "text": [
      "<class 'pandas.core.frame.DataFrame'>\n",
      "Int64Index: 12047 entries, 0 to 45373\n",
      "Data columns (total 22 columns):\n",
      "imdbID                   10793 non-null object\n",
      "Title                    12047 non-null object\n",
      "Year                     12047 non-null object\n",
      "Rated                    11534 non-null object\n",
      "Budget                   2972 non-null float64\n",
      "Domestic Gross           12047 non-null float64\n",
      "Opening Weekend          11022 non-null float64\n",
      "imdbRating               12046 non-null float64\n",
      "imdbVotes                12045 non-null float64\n",
      "Rotten Tomatoes Score    11248 non-null float64\n",
      "Metascore                8974 non-null float64\n",
      "Genre                    12045 non-null object\n",
      "Runtime                  12044 non-null float64\n",
      "Director                 12042 non-null object\n",
      "Actors                   11992 non-null object\n",
      "Awards                   9804 non-null object\n",
      "vote_average             11884 non-null float64\n",
      "vote_count               11884 non-null float64\n",
      "belongs_to_collection    1519 non-null object\n",
      "production_companies     11884 non-null object\n",
      "spoken_languages         11884 non-null object\n",
      "multiplier               11022 non-null float64\n",
      "dtypes: float64(11), object(11)\n",
      "memory usage: 2.1+ MB\n"
     ]
    }
   ],
   "source": [
    "bodf.info()"
   ]
  },
  {
   "cell_type": "code",
   "execution_count": 4,
   "metadata": {},
   "outputs": [
    {
     "data": {
      "text/html": [
       "<div>\n",
       "<style scoped>\n",
       "    .dataframe tbody tr th:only-of-type {\n",
       "        vertical-align: middle;\n",
       "    }\n",
       "\n",
       "    .dataframe tbody tr th {\n",
       "        vertical-align: top;\n",
       "    }\n",
       "\n",
       "    .dataframe thead th {\n",
       "        text-align: right;\n",
       "    }\n",
       "</style>\n",
       "<table border=\"1\" class=\"dataframe\">\n",
       "  <thead>\n",
       "    <tr style=\"text-align: right;\">\n",
       "      <th></th>\n",
       "      <th>Budget</th>\n",
       "      <th>Domestic Gross</th>\n",
       "      <th>Opening Weekend</th>\n",
       "      <th>imdbRating</th>\n",
       "      <th>imdbVotes</th>\n",
       "      <th>Rotten Tomatoes Score</th>\n",
       "      <th>Metascore</th>\n",
       "      <th>Runtime</th>\n",
       "      <th>vote_average</th>\n",
       "      <th>vote_count</th>\n",
       "      <th>multiplier</th>\n",
       "    </tr>\n",
       "  </thead>\n",
       "  <tbody>\n",
       "    <tr>\n",
       "      <td>count</td>\n",
       "      <td>2.972000e+03</td>\n",
       "      <td>1.204700e+04</td>\n",
       "      <td>1.102200e+04</td>\n",
       "      <td>12046.000000</td>\n",
       "      <td>1.204500e+04</td>\n",
       "      <td>11248.000000</td>\n",
       "      <td>8974.000000</td>\n",
       "      <td>12044.000000</td>\n",
       "      <td>11884.000000</td>\n",
       "      <td>11884.000000</td>\n",
       "      <td>11022.000000</td>\n",
       "    </tr>\n",
       "    <tr>\n",
       "      <td>mean</td>\n",
       "      <td>4.439488e+07</td>\n",
       "      <td>2.155059e+07</td>\n",
       "      <td>5.629878e+06</td>\n",
       "      <td>6.451337</td>\n",
       "      <td>5.058787e+04</td>\n",
       "      <td>59.125445</td>\n",
       "      <td>57.346891</td>\n",
       "      <td>104.818001</td>\n",
       "      <td>5.834239</td>\n",
       "      <td>187.550067</td>\n",
       "      <td>22.756284</td>\n",
       "    </tr>\n",
       "    <tr>\n",
       "      <td>std</td>\n",
       "      <td>4.494077e+07</td>\n",
       "      <td>4.719193e+07</td>\n",
       "      <td>1.376996e+07</td>\n",
       "      <td>0.984722</td>\n",
       "      <td>1.224700e+05</td>\n",
       "      <td>27.648677</td>\n",
       "      <td>17.593263</td>\n",
       "      <td>21.546312</td>\n",
       "      <td>1.628050</td>\n",
       "      <td>630.690179</td>\n",
       "      <td>118.109832</td>\n",
       "    </tr>\n",
       "    <tr>\n",
       "      <td>min</td>\n",
       "      <td>2.200000e+02</td>\n",
       "      <td>3.000000e+01</td>\n",
       "      <td>2.000000e+01</td>\n",
       "      <td>1.500000</td>\n",
       "      <td>1.700000e+01</td>\n",
       "      <td>0.000000</td>\n",
       "      <td>1.000000</td>\n",
       "      <td>4.000000</td>\n",
       "      <td>0.000000</td>\n",
       "      <td>0.000000</td>\n",
       "      <td>0.480129</td>\n",
       "    </tr>\n",
       "    <tr>\n",
       "      <td>25%</td>\n",
       "      <td>1.300000e+07</td>\n",
       "      <td>1.394235e+05</td>\n",
       "      <td>1.714725e+04</td>\n",
       "      <td>5.900000</td>\n",
       "      <td>2.523000e+03</td>\n",
       "      <td>37.000000</td>\n",
       "      <td>45.000000</td>\n",
       "      <td>92.000000</td>\n",
       "      <td>5.300000</td>\n",
       "      <td>6.000000</td>\n",
       "      <td>2.548041</td>\n",
       "    </tr>\n",
       "    <tr>\n",
       "      <td>50%</td>\n",
       "      <td>3.000000e+07</td>\n",
       "      <td>2.479538e+06</td>\n",
       "      <td>1.940740e+05</td>\n",
       "      <td>6.500000</td>\n",
       "      <td>9.456000e+03</td>\n",
       "      <td>64.000000</td>\n",
       "      <td>59.000000</td>\n",
       "      <td>101.000000</td>\n",
       "      <td>6.100000</td>\n",
       "      <td>19.000000</td>\n",
       "      <td>3.960321</td>\n",
       "    </tr>\n",
       "    <tr>\n",
       "      <td>75%</td>\n",
       "      <td>6.000000e+07</td>\n",
       "      <td>2.180542e+07</td>\n",
       "      <td>5.520745e+06</td>\n",
       "      <td>7.200000</td>\n",
       "      <td>4.182100e+04</td>\n",
       "      <td>83.000000</td>\n",
       "      <td>71.000000</td>\n",
       "      <td>113.000000</td>\n",
       "      <td>6.800000</td>\n",
       "      <td>94.000000</td>\n",
       "      <td>11.084361</td>\n",
       "    </tr>\n",
       "    <tr>\n",
       "      <td>max</td>\n",
       "      <td>3.000000e+08</td>\n",
       "      <td>9.366622e+08</td>\n",
       "      <td>2.479667e+08</td>\n",
       "      <td>9.300000</td>\n",
       "      <td>2.154564e+06</td>\n",
       "      <td>100.000000</td>\n",
       "      <td>100.000000</td>\n",
       "      <td>566.000000</td>\n",
       "      <td>10.000000</td>\n",
       "      <td>12114.000000</td>\n",
       "      <td>5757.944732</td>\n",
       "    </tr>\n",
       "  </tbody>\n",
       "</table>\n",
       "</div>"
      ],
      "text/plain": [
       "             Budget  Domestic Gross  Opening Weekend    imdbRating  \\\n",
       "count  2.972000e+03    1.204700e+04     1.102200e+04  12046.000000   \n",
       "mean   4.439488e+07    2.155059e+07     5.629878e+06      6.451337   \n",
       "std    4.494077e+07    4.719193e+07     1.376996e+07      0.984722   \n",
       "min    2.200000e+02    3.000000e+01     2.000000e+01      1.500000   \n",
       "25%    1.300000e+07    1.394235e+05     1.714725e+04      5.900000   \n",
       "50%    3.000000e+07    2.479538e+06     1.940740e+05      6.500000   \n",
       "75%    6.000000e+07    2.180542e+07     5.520745e+06      7.200000   \n",
       "max    3.000000e+08    9.366622e+08     2.479667e+08      9.300000   \n",
       "\n",
       "          imdbVotes  Rotten Tomatoes Score    Metascore       Runtime  \\\n",
       "count  1.204500e+04           11248.000000  8974.000000  12044.000000   \n",
       "mean   5.058787e+04              59.125445    57.346891    104.818001   \n",
       "std    1.224700e+05              27.648677    17.593263     21.546312   \n",
       "min    1.700000e+01               0.000000     1.000000      4.000000   \n",
       "25%    2.523000e+03              37.000000    45.000000     92.000000   \n",
       "50%    9.456000e+03              64.000000    59.000000    101.000000   \n",
       "75%    4.182100e+04              83.000000    71.000000    113.000000   \n",
       "max    2.154564e+06             100.000000   100.000000    566.000000   \n",
       "\n",
       "       vote_average    vote_count    multiplier  \n",
       "count  11884.000000  11884.000000  11022.000000  \n",
       "mean       5.834239    187.550067     22.756284  \n",
       "std        1.628050    630.690179    118.109832  \n",
       "min        0.000000      0.000000      0.480129  \n",
       "25%        5.300000      6.000000      2.548041  \n",
       "50%        6.100000     19.000000      3.960321  \n",
       "75%        6.800000     94.000000     11.084361  \n",
       "max       10.000000  12114.000000   5757.944732  "
      ]
     },
     "execution_count": 4,
     "metadata": {},
     "output_type": "execute_result"
    }
   ],
   "source": [
    "bodf.describe()"
   ]
  },
  {
   "cell_type": "code",
   "execution_count": 5,
   "metadata": {},
   "outputs": [
    {
     "data": {
      "image/png": "[encoded data removed]",
      "text/plain": [
       "<Figure size 720x720 with 1 Axes>"
      ]
     },
     "metadata": {
      "needs_background": "light"
     },
     "output_type": "display_data"
    }
   ],
   "source": [
    "_ = plt.figure(figsize=(10,10))\n",
    "_ = plt.hist(bodf['Domestic Gross'])\n",
    "_ = plt.title('Domestic Gross Historgram')\n",
    "_ = plt.xlabel('Domestic Gross')\n",
    "_ = plt.ylabel('Number of Films')\n",
    "_ = plt.ylim(0,12000)\n",
    "_ = plt.ticklabel_format(useOffset= False,style= 'plain')\n",
    "plt.show()"
   ]
  },
  {
   "cell_type": "code",
   "execution_count": 6,
   "metadata": {},
   "outputs": [
    {
     "name": "stdout",
     "output_type": "stream",
     "text": [
      "The Domestic Gross Mean:   21550590.411471736\n",
      "The Domestic Gross STD:   47191928.34335942\n"
     ]
    }
   ],
   "source": [
    "gross_mean = bodf['Domestic Gross'].mean()\n",
    "gross_std = bodf['Domestic Gross'].std()\n",
    "print('The Domestic Gross Mean:  ',gross_mean)\n",
    "print('The Domestic Gross STD:  ',gross_std)"
   ]
  },
  {
   "cell_type": "code",
   "execution_count": 7,
   "metadata": {},
   "outputs": [
    {
     "data": {
      "text/plain": [
       "20843314.40459191"
      ]
     },
     "execution_count": 7,
     "metadata": {},
     "output_type": "execute_result"
    }
   ],
   "source": [
    "n = len(bodf['Domestic Gross'])\n",
    "critical_value = t(n-1).ppf(0.95)\n",
    "gross_mean - critical_value/np.sqrt(n) * gross_std"
   ]
  },
  {
   "cell_type": "code",
   "execution_count": 8,
   "metadata": {},
   "outputs": [
    {
     "data": {
      "text/plain": [
       "Ttest_indResult(statistic=1.0499541555088001, pvalue=0.29377218114055226)"
      ]
     },
     "execution_count": 8,
     "metadata": {},
     "output_type": "execute_result"
    }
   ],
   "source": [
    "good_reception = bodf[bodf['Rotten Tomatoes Score'] >= 80]\n",
    "bad_reception = bodf[bodf['Rotten Tomatoes Score'] <= 50]\n",
    "ttest_ind(good_reception['Domestic Gross'], bad_reception['Domestic Gross'])"
   ]
  },
  {
   "cell_type": "code",
   "execution_count": 9,
   "metadata": {},
   "outputs": [
    {
     "data": {
      "text/plain": [
       "Ttest_indResult(statistic=1.002691382117037, pvalue=0.3160543117486095)"
      ]
     },
     "execution_count": 9,
     "metadata": {},
     "output_type": "execute_result"
    }
   ],
   "source": [
    "ttest_ind(good_reception['Domestic Gross'], bad_reception['Domestic Gross'], equal_var= False)"
   ]
  },
  {
   "cell_type": "code",
   "execution_count": 10,
   "metadata": {},
   "outputs": [
    {
     "data": {
      "text/plain": [
       "array([20724001.08044326, 22401433.42465552])"
      ]
     },
     "execution_count": 10,
     "metadata": {},
     "output_type": "execute_result"
    }
   ],
   "source": [
    "np.random.seed(47)\n",
    "N_rep = 10000\n",
    "mean_replicates = np.empty(N_rep)\n",
    "for i in range(N_rep):\n",
    "    mean_replicates[i] = np.mean(np.random.choice(bodf['Domestic Gross'],n))\n",
    "gross_confidence_interval = np.percentile(mean_replicates,[2.5,97.5])\n",
    "gross_confidence_interval"
   ]
  },
  {
   "cell_type": "code",
   "execution_count": 11,
   "metadata": {},
   "outputs": [
    {
     "data": {
      "text/plain": [
       "array([16568197.88699419, 30692934.73917676])"
      ]
     },
     "execution_count": 11,
     "metadata": {},
     "output_type": "execute_result"
    }
   ],
   "source": [
    "np.random.seed(47)\n",
    "diff_std_replicates = np.empty(N_rep)\n",
    "for i in range(N_rep):\n",
    "    good_sample = np.random.choice(good_reception['Domestic Gross'], len(good_reception['Domestic Gross']))\n",
    "    bad_sample = np.random.choice(bad_reception['Domestic Gross'], len(bad_reception['Domestic Gross']))\n",
    "    diff_std_replicates[i] = np.std(good_sample) - np.std(bad_sample)\n",
    "confidence_interval = np.percentile(diff_std_replicates,[2.5,97.5])\n",
    "confidence_interval"
   ]
  },
  {
   "cell_type": "code",
   "execution_count": 12,
   "metadata": {},
   "outputs": [
    {
     "data": {
      "image/png": "[encoded data removed]",
      "text/plain": [
       "<Figure size 720x360 with 1 Axes>"
      ]
     },
     "metadata": {
      "needs_background": "light"
     },
     "output_type": "display_data"
    }
   ],
   "source": [
    "_ = plt.figure(figsize=(10,5))\n",
    "_ = plt.hist(diff_std_replicates,bins=25)\n",
    "_ = plt.title('Difference of Postive and Negative Rated Films from Critics ')\n",
    "_ = plt.xlabel('Differene in Standard Deviation')\n",
    "_ = plt.ylabel('Number of Films')\n",
    "_ = plt.ticklabel_format(useOffset=False, style='plain')\n",
    "_ = plt.axvline(np.mean(diff_std_replicates),color='r')\n",
    "_ = plt.axvline(confidence_interval[0],color='r',linestyle='--')\n",
    "_ = plt.axvline(confidence_interval[1],color='r',linestyle='--')"
   ]
  },
  {
   "cell_type": "code",
   "execution_count": 13,
   "metadata": {},
   "outputs": [
    {
     "data": {
      "text/plain": [
       "1153874.825096164"
      ]
     },
     "execution_count": 13,
     "metadata": {},
     "output_type": "execute_result"
    }
   ],
   "source": [
    "mean_diff = np.mean(good_reception['Domestic Gross']) - np.mean(bad_reception['Domestic Gross'])\n",
    "mean_diff"
   ]
  },
  {
   "cell_type": "code",
   "execution_count": 14,
   "metadata": {},
   "outputs": [],
   "source": [
    "np.random.seed(47)\n",
    "bad_shifted = bad_reception['Domestic Gross'] - np.mean(bad_reception['Domestic Gross']) + np.mean(good_reception['Domestic Gross'])"
   ]
  },
  {
   "cell_type": "code",
   "execution_count": 15,
   "metadata": {},
   "outputs": [],
   "source": [
    "def permutation(d1,d2):\n",
    "    d3 = np.concatenate((d1,d2))\n",
    "    data = np.random.permutation(d3)\n",
    "    perm_sample1 = data[:len(d1)]\n",
    "    perm_sample2 = data[len(d1):]\n",
    "    return perm_sample1,perm_sample2"
   ]
  },
  {
   "cell_type": "code",
   "execution_count": 16,
   "metadata": {},
   "outputs": [],
   "source": [
    "permutation_mean_replicates = np.empty(N_rep)\n",
    "for i in range(N_rep):\n",
    "    perm_good, perm_bad = permutation(good_reception['Domestic Gross'],bad_shifted)\n",
    "    permutation_mean_replicates[i] = np.mean(perm_good) - np.mean(perm_bad)"
   ]
  },
  {
   "cell_type": "code",
   "execution_count": 17,
   "metadata": {},
   "outputs": [
    {
     "data": {
      "text/plain": [
       "0.146"
      ]
     },
     "execution_count": 17,
     "metadata": {},
     "output_type": "execute_result"
    }
   ],
   "source": [
    "p_value = np.sum(permutation_mean_replicates >= mean_diff)/len(permutation_mean_replicates)\n",
    "p_value"
   ]
  },
  {
   "cell_type": "code",
   "execution_count": 18,
   "metadata": {},
   "outputs": [
    {
     "data": {
      "image/png": "[encoded data removed]",
      "text/plain": [
       "<Figure size 720x360 with 1 Axes>"
      ]
     },
     "metadata": {
      "needs_background": "light"
     },
     "output_type": "display_data"
    }
   ],
   "source": [
    "_ = plt.figure(figsize=(10,5))\n",
    "_ = plt.ylabel('Number of Films')\n",
    "_ = plt.hist(mean_diff, bins=25)\n",
    "_ = plt.hist(permutation_mean_replicates,bins=25,color='blue')\n",
    "_ = plt.ylabel('Number of Films')\n",
    "_ = plt.axvline(np.mean(permutation_mean_replicates), color='green')\n",
    "_ = plt.axvline(np.mean(mean_diff),color='red',linestyle='--')"
   ]
  },
  {
   "cell_type": "code",
   "execution_count": 20,
   "metadata": {
    "scrolled": true
   },
   "outputs": [
    {
     "data": {
      "image/png": "[encoded data removed]",
      "text/plain": [
       "<Figure size 720x720 with 1 Axes>"
      ]
     },
     "metadata": {
      "needs_background": "light"
     },
     "output_type": "display_data"
    }
   ],
   "source": [
    "_ = plt.figure(figsize=(10,10))\n",
    "_ = plt.hist(bodf['multiplier'],bins=1000)\n",
    "_ = plt.title('Domestic Multiplier Histogram')\n",
    "_ = plt.ylim(0,8000)\n",
    "_ = plt.xlim(0,100)\n",
    "plt.show()"
   ]
  },
  {
   "cell_type": "code",
   "execution_count": 21,
   "metadata": {},
   "outputs": [
    {
     "name": "stdout",
     "output_type": "stream",
     "text": [
      "<class 'pandas.core.frame.DataFrame'>\n",
      "Int64Index: 11022 entries, 0 to 45373\n",
      "Data columns (total 22 columns):\n",
      "imdbID                   9935 non-null object\n",
      "Title                    11022 non-null object\n",
      "Year                     11022 non-null object\n",
      "Rated                    10581 non-null object\n",
      "Budget                   2896 non-null float64\n",
      "Domestic Gross           11022 non-null float64\n",
      "Opening Weekend          11022 non-null float64\n",
      "imdbRating               11021 non-null float64\n",
      "imdbVotes                11020 non-null float64\n",
      "Rotten Tomatoes Score    10390 non-null float64\n",
      "Metascore                8427 non-null float64\n",
      "Genre                    11020 non-null object\n",
      "Runtime                  11019 non-null float64\n",
      "Director                 11017 non-null object\n",
      "Actors                   10972 non-null object\n",
      "Awards                   9010 non-null object\n",
      "vote_average             10874 non-null float64\n",
      "vote_count               10874 non-null float64\n",
      "belongs_to_collection    1364 non-null object\n",
      "production_companies     10874 non-null object\n",
      "spoken_languages         10874 non-null object\n",
      "multiplier               11022 non-null float64\n",
      "dtypes: float64(11), object(11)\n",
      "memory usage: 1.9+ MB\n"
     ]
    }
   ],
   "source": [
    "multiplier_df = bodf[bodf['multiplier'].notnull()]\n",
    "multiplier = multiplier_df['multiplier']\n",
    "multiplier_df.info()"
   ]
  },
  {
   "cell_type": "code",
   "execution_count": 22,
   "metadata": {},
   "outputs": [
    {
     "name": "stdout",
     "output_type": "stream",
     "text": [
      "Multiplier Mean:   22.756283565105736\n",
      "Multiplier STD:   118.10983175753526\n"
     ]
    }
   ],
   "source": [
    "multiplier_mean = multiplier.mean()\n",
    "multiplier_std = multiplier.std()\n",
    "print('Multiplier Mean:  ',multiplier_mean)\n",
    "print('Multiplier STD:  ',multiplier_std)"
   ]
  },
  {
   "cell_type": "code",
   "execution_count": 23,
   "metadata": {},
   "outputs": [
    {
     "data": {
      "text/plain": [
       "20811153.23111374"
      ]
     },
     "execution_count": 23,
     "metadata": {},
     "output_type": "execute_result"
    }
   ],
   "source": [
    "n = len(multiplier)\n",
    "critical_value = t(n-1).ppf(0.95)\n",
    "gross_mean - critical_value/np.sqrt(n) * gross_std"
   ]
  },
  {
   "cell_type": "code",
   "execution_count": 24,
   "metadata": {},
   "outputs": [
    {
     "data": {
      "text/plain": [
       "Ttest_indResult(statistic=12.436325302577908, pvalue=3.8584860950018517e-35)"
      ]
     },
     "execution_count": 24,
     "metadata": {},
     "output_type": "execute_result"
    }
   ],
   "source": [
    "good_reception = multiplier_df[multiplier_df['Rotten Tomatoes Score'] >= 80]\n",
    "bad_reception = multiplier_df[multiplier_df['Rotten Tomatoes Score'] <= 50]\n",
    "ttest_ind(good_reception.multiplier, bad_reception.multiplier)"
   ]
  },
  {
   "cell_type": "code",
   "execution_count": 25,
   "metadata": {},
   "outputs": [
    {
     "data": {
      "text/plain": [
       "Ttest_indResult(statistic=12.019602629691791, pvalue=7.112933842141865e-33)"
      ]
     },
     "execution_count": 25,
     "metadata": {},
     "output_type": "execute_result"
    }
   ],
   "source": [
    "ttest_ind(good_reception.multiplier, bad_reception.multiplier, equal_var= False)"
   ]
  },
  {
   "cell_type": "code",
   "execution_count": 26,
   "metadata": {},
   "outputs": [
    {
     "data": {
      "text/plain": [
       "array([20.73640892, 25.12030666])"
      ]
     },
     "execution_count": 26,
     "metadata": {},
     "output_type": "execute_result"
    }
   ],
   "source": [
    "np.random.seed(47)\n",
    "N_rep = 10000\n",
    "mean_replicates = np.empty(N_rep)\n",
    "for i in range(N_rep):\n",
    "    mean_replicates[i] = np.mean(np.random.choice(multiplier,len(multiplier)))\n",
    "multiplier_confidence_interval = np.percentile(mean_replicates,[2.5,97.5])\n",
    "multiplier_confidence_interval"
   ]
  },
  {
   "cell_type": "code",
   "execution_count": 27,
   "metadata": {},
   "outputs": [
    {
     "data": {
      "text/plain": [
       "array([-52.15590659, 120.67444392])"
      ]
     },
     "execution_count": 27,
     "metadata": {},
     "output_type": "execute_result"
    }
   ],
   "source": [
    "np.random.seed(47)\n",
    "diff_std_replicates = np.empty(N_rep)\n",
    "for i in range(N_rep):\n",
    "    good_sample = np.random.choice(good_reception.multiplier, len(good_reception.multiplier))\n",
    "    bad_sample = np.random.choice(bad_reception.multiplier, len(bad_reception.multiplier))\n",
    "    diff_std_replicates[i] = np.std(good_sample) - np.std(bad_sample)\n",
    "confidence_interval = np.percentile(diff_std_replicates,[2.5,97.5])\n",
    "confidence_interval"
   ]
  },
  {
   "cell_type": "code",
   "execution_count": 28,
   "metadata": {},
   "outputs": [
    {
     "data": {
      "image/png": "[encoded data removed]",
      "text/plain": [
       "<Figure size 720x360 with 1 Axes>"
      ]
     },
     "metadata": {
      "needs_background": "light"
     },
     "output_type": "display_data"
    }
   ],
   "source": [
    "_ = plt.figure(figsize=(10,5))\n",
    "_ = plt.title('Difference of Postive and Negative Rated Films from Critics ')\n",
    "_ = plt.xlabel('Differene in Standard Deviation')\n",
    "_ = plt.ylabel('Number of Films')\n",
    "_ = plt.hist(diff_std_replicates,bins=25)\n",
    "_ = plt.ticklabel_format(useOffset=False, style='plain')\n",
    "_ = plt.axvline(np.mean(diff_std_replicates),color='r')\n",
    "_ = plt.axvline(confidence_interval[0],color='r',linestyle='--')\n",
    "_ = plt.axvline(confidence_interval[1],color='r',linestyle='--')"
   ]
  },
  {
   "cell_type": "code",
   "execution_count": 29,
   "metadata": {},
   "outputs": [
    {
     "data": {
      "text/plain": [
       "36.383638869354755"
      ]
     },
     "execution_count": 29,
     "metadata": {},
     "output_type": "execute_result"
    }
   ],
   "source": [
    "mean_diff = np.mean(good_reception['multiplier']) - np.mean(bad_reception['multiplier'])\n",
    "mean_diff"
   ]
  },
  {
   "cell_type": "code",
   "execution_count": 30,
   "metadata": {},
   "outputs": [],
   "source": [
    "np.random.seed(47)\n",
    "bad_shifted = bad_reception.multiplier - np.mean(bad_reception.multiplier) + np.mean(good_reception.multiplier)"
   ]
  },
  {
   "cell_type": "code",
   "execution_count": 31,
   "metadata": {},
   "outputs": [],
   "source": [
    "permutation_mean_replicates = np.empty(N_rep)\n",
    "for i in range(N_rep):\n",
    "    perm_good, perm_bad = permutation(good_reception.multiplier,bad_shifted)\n",
    "    permutation_mean_replicates[i] = np.mean(perm_good) - np.mean(perm_bad)"
   ]
  },
  {
   "cell_type": "code",
   "execution_count": 32,
   "metadata": {},
   "outputs": [
    {
     "data": {
      "text/plain": [
       "0.0"
      ]
     },
     "execution_count": 32,
     "metadata": {},
     "output_type": "execute_result"
    }
   ],
   "source": [
    "p_value = np.sum(permutation_mean_replicates >= mean_diff)/len(permutation_mean_replicates)\n",
    "p_value"
   ]
  },
  {
   "cell_type": "code",
   "execution_count": 33,
   "metadata": {},
   "outputs": [
    {
     "data": {
      "image/png": "[encoded data removed]",
      "text/plain": [
       "<Figure size 720x360 with 1 Axes>"
      ]
     },
     "metadata": {
      "needs_background": "light"
     },
     "output_type": "display_data"
    }
   ],
   "source": [
    "_ = plt.figure(figsize=(10,5))\n",
    "_ = plt.hist(mean_diff, bins=25)\n",
    "_ = plt.hist(permutation_mean_replicates,bins=25,color='blue')\n",
    "_ = plt.ylabel('Number of Films')\n",
    "_ = plt.axvline(np.mean(permutation_mean_replicates), color='green')\n",
    "_ = plt.axvline(np.mean(mean_diff),color='red',linestyle='--')"
   ]
  },
  {
   "cell_type": "code",
   "execution_count": 34,
   "metadata": {},
   "outputs": [
    {
     "data": {
      "text/plain": [
       "Ttest_indResult(statistic=10.53086741859825, pvalue=1.6454432563032533e-25)"
      ]
     },
     "execution_count": 34,
     "metadata": {},
     "output_type": "execute_result"
    }
   ],
   "source": [
    "good_reception = bodf[bodf['imdbRating'] > 7.5]\n",
    "bad_reception = bodf[bodf['imdbRating'] < 5.5]\n",
    "ttest_ind(good_reception['Domestic Gross'], bad_reception['Domestic Gross'])"
   ]
  },
  {
   "cell_type": "code",
   "execution_count": 35,
   "metadata": {},
   "outputs": [
    {
     "data": {
      "text/plain": [
       "Ttest_indResult(statistic=9.647709014383754, pvalue=1.816727978608195e-21)"
      ]
     },
     "execution_count": 35,
     "metadata": {},
     "output_type": "execute_result"
    }
   ],
   "source": [
    "ttest_ind(good_reception['Domestic Gross'], bad_reception['Domestic Gross'], equal_var= False)"
   ]
  },
  {
   "cell_type": "code",
   "execution_count": 36,
   "metadata": {},
   "outputs": [
    {
     "data": {
      "text/plain": [
       "array([20724001.08044326, 22401433.42465552])"
      ]
     },
     "execution_count": 36,
     "metadata": {},
     "output_type": "execute_result"
    }
   ],
   "source": [
    "np.random.seed(47)\n",
    "N_rep = 10000\n",
    "mean_replicates = np.empty(N_rep)\n",
    "for i in range(N_rep):\n",
    "    mean_replicates[i] = np.mean(np.random.choice(bodf['Domestic Gross'],len(bodf['Domestic Gross'])))\n",
    "gross_confidence_interval = np.percentile(mean_replicates,[2.5,97.5])\n",
    "gross_confidence_interval"
   ]
  },
  {
   "cell_type": "code",
   "execution_count": 37,
   "metadata": {},
   "outputs": [
    {
     "data": {
      "text/plain": [
       "array([41989618.33889896, 64092731.19290581])"
      ]
     },
     "execution_count": 37,
     "metadata": {},
     "output_type": "execute_result"
    }
   ],
   "source": [
    "np.random.seed(47)\n",
    "diff_std_replicates = np.empty(N_rep)\n",
    "for i in range(N_rep):\n",
    "    good_sample = np.random.choice(good_reception['Domestic Gross'], len(good_reception['Domestic Gross']))\n",
    "    bad_sample = np.random.choice(bad_reception['Domestic Gross'], len(bad_reception['Domestic Gross']))\n",
    "    diff_std_replicates[i] = np.std(good_sample) - np.std(bad_sample)\n",
    "confidence_interval = np.percentile(diff_std_replicates,[2.5,97.5])\n",
    "confidence_interval"
   ]
  },
  {
   "cell_type": "code",
   "execution_count": 38,
   "metadata": {},
   "outputs": [
    {
     "data": {
      "image/png": "[encoded data removed]",
      "text/plain": [
       "<Figure size 720x360 with 1 Axes>"
      ]
     },
     "metadata": {
      "needs_background": "light"
     },
     "output_type": "display_data"
    }
   ],
   "source": [
    "_ = plt.figure(figsize=(10,5))\n",
    "_ = plt.hist(diff_std_replicates,bins=25)\n",
    "_ = plt.ticklabel_format(useOffset=False, style='plain')\n",
    "_ = plt.title('Difference in Positively and Negatively Rated Films by Audience')\n",
    "_ = plt.xlabel('Differene in Standard Deviation')\n",
    "_ = plt.ylabel('Number of Films')\n",
    "_ = plt.axvline(np.mean(diff_std_replicates),color='r')\n",
    "_ = plt.axvline(confidence_interval[0],color='r',linestyle='--')\n",
    "_ = plt.axvline(confidence_interval[1],color='r',linestyle='--')"
   ]
  },
  {
   "cell_type": "code",
   "execution_count": 39,
   "metadata": {},
   "outputs": [
    {
     "data": {
      "text/plain": [
       "21562746.958332308"
      ]
     },
     "execution_count": 39,
     "metadata": {},
     "output_type": "execute_result"
    }
   ],
   "source": [
    "mean_diff = np.mean(good_reception['Domestic Gross']) - np.mean(bad_reception['Domestic Gross'])\n",
    "mean_diff"
   ]
  },
  {
   "cell_type": "code",
   "execution_count": 40,
   "metadata": {},
   "outputs": [],
   "source": [
    "np.random.seed(47)\n",
    "bad_shifted = bad_reception['Domestic Gross'] - np.mean(bad_reception['Domestic Gross']) + np.mean(good_reception['Domestic Gross'])"
   ]
  },
  {
   "cell_type": "code",
   "execution_count": 41,
   "metadata": {},
   "outputs": [],
   "source": [
    "permutation_mean_replicates = np.empty(N_rep)\n",
    "for i in range(N_rep):\n",
    "    perm_good, perm_bad = permutation(good_reception['Domestic Gross'],bad_shifted)\n",
    "    permutation_mean_replicates[i] = np.mean(perm_good) - np.mean(perm_bad)"
   ]
  },
  {
   "cell_type": "code",
   "execution_count": 42,
   "metadata": {},
   "outputs": [
    {
     "data": {
      "text/plain": [
       "0.0"
      ]
     },
     "execution_count": 42,
     "metadata": {},
     "output_type": "execute_result"
    }
   ],
   "source": [
    "p_value = np.sum(permutation_mean_replicates >= mean_diff)/len(permutation_mean_replicates)\n",
    "p_value"
   ]
  },
  {
   "cell_type": "code",
   "execution_count": 44,
   "metadata": {},
   "outputs": [
    {
     "data": {
      "image/png": "[encoded data removed]",
      "text/plain": [
       "<Figure size 720x360 with 1 Axes>"
      ]
     },
     "metadata": {
      "needs_background": "light"
     },
     "output_type": "display_data"
    }
   ],
   "source": [
    "_ = plt.figure(figsize=(10,5))\n",
    "_ = plt.hist(mean_diff, bins=25)\n",
    "_ = plt.hist(permutation_mean_replicates,bins=25,color='blue')\n",
    "_ = plt.ylabel('Number of Films')\n",
    "_ = plt.axvline(np.mean(permutation_mean_replicates), color='green')\n",
    "_ = plt.axvline(np.mean(mean_diff),color='red',linestyle='--')"
   ]
  },
  {
   "cell_type": "code",
   "execution_count": 45,
   "metadata": {},
   "outputs": [
    {
     "data": {
      "text/plain": [
       "Ttest_indResult(statistic=12.863954175531452, pvalue=5.188186792388572e-37)"
      ]
     },
     "execution_count": 45,
     "metadata": {},
     "output_type": "execute_result"
    }
   ],
   "source": [
    "good_reception = multiplier_df[multiplier_df['imdbRating'] >= 7.5]\n",
    "bad_reception = multiplier_df[multiplier_df['imdbRating'] <= 5.5]\n",
    "ttest_ind(good_reception.multiplier, bad_reception.multiplier)"
   ]
  },
  {
   "cell_type": "code",
   "execution_count": 46,
   "metadata": {},
   "outputs": [
    {
     "data": {
      "text/plain": [
       "Ttest_indResult(statistic=12.158341057591917, pvalue=5.562531411374487e-33)"
      ]
     },
     "execution_count": 46,
     "metadata": {},
     "output_type": "execute_result"
    }
   ],
   "source": [
    "ttest_ind(good_reception.multiplier, bad_reception.multiplier, equal_var= False)"
   ]
  },
  {
   "cell_type": "code",
   "execution_count": 47,
   "metadata": {},
   "outputs": [
    {
     "data": {
      "text/plain": [
       "array([20.73640892, 25.12030666])"
      ]
     },
     "execution_count": 47,
     "metadata": {},
     "output_type": "execute_result"
    }
   ],
   "source": [
    "np.random.seed(47)\n",
    "N_rep = 10000\n",
    "mean_replicates = np.empty(N_rep)\n",
    "for i in range(N_rep):\n",
    "    mean_replicates[i] = np.mean(np.random.choice(multiplier,len(multiplier)))\n",
    "multiplier_confidence_interval = np.percentile(mean_replicates,[2.5,97.5])\n",
    "multiplier_confidence_interval"
   ]
  },
  {
   "cell_type": "code",
   "execution_count": 48,
   "metadata": {},
   "outputs": [
    {
     "data": {
      "text/plain": [
       "array([ 12.91763416, 119.55957122])"
      ]
     },
     "execution_count": 48,
     "metadata": {},
     "output_type": "execute_result"
    }
   ],
   "source": [
    "np.random.seed(47)\n",
    "diff_std_replicates = np.empty(N_rep)\n",
    "for i in range(N_rep):\n",
    "    good_sample = np.random.choice(good_reception.multiplier, len(good_reception.multiplier))\n",
    "    bad_sample = np.random.choice(bad_reception.multiplier, len(bad_reception.multiplier))\n",
    "    diff_std_replicates[i] = np.std(good_sample) - np.std(bad_sample)\n",
    "confidence_interval = np.percentile(diff_std_replicates,[2.5,97.5])\n",
    "confidence_interval"
   ]
  },
  {
   "cell_type": "code",
   "execution_count": 49,
   "metadata": {},
   "outputs": [
    {
     "data": {
      "image/png": "[encoded data removed]",
      "text/plain": [
       "<Figure size 720x360 with 1 Axes>"
      ]
     },
     "metadata": {
      "needs_background": "light"
     },
     "output_type": "display_data"
    }
   ],
   "source": [
    "_ = plt.figure(figsize=(10,5))\n",
    "_ = plt.hist(diff_std_replicates,bins=25)\n",
    "_ = plt.title('Difference of Postive and Negative Rated Films from Audiences ')\n",
    "_ = plt.xlabel('Differene in Standard Deviation')\n",
    "_ = plt.ylabel('Number of Films')\n",
    "_ = plt.axvline(np.mean(diff_std_replicates),color='r')\n",
    "_ = plt.axvline(confidence_interval[0],color='r',linestyle='--')\n",
    "_ = plt.axvline(confidence_interval[1],color='r',linestyle='--')"
   ]
  },
  {
   "cell_type": "code",
   "execution_count": 50,
   "metadata": {},
   "outputs": [
    {
     "data": {
      "text/plain": [
       "46.71371523088091"
      ]
     },
     "execution_count": 50,
     "metadata": {},
     "output_type": "execute_result"
    }
   ],
   "source": [
    "mean_diff = np.mean(good_reception['multiplier']) - np.mean(bad_reception['multiplier'])\n",
    "mean_diff"
   ]
  },
  {
   "cell_type": "code",
   "execution_count": 51,
   "metadata": {},
   "outputs": [],
   "source": [
    "np.random.seed(47)\n",
    "bad_shifted = bad_reception.multiplier - np.mean(bad_reception.multiplier) + np.mean(good_reception.multiplier)"
   ]
  },
  {
   "cell_type": "code",
   "execution_count": 52,
   "metadata": {},
   "outputs": [],
   "source": [
    "permutation_mean_replicates = np.empty(N_rep)\n",
    "for i in range(N_rep):\n",
    "    perm_good, perm_bad = permutation(good_reception.multiplier,bad_shifted)\n",
    "    permutation_mean_replicates[i] = np.mean(perm_good) - np.mean(perm_bad)"
   ]
  },
  {
   "cell_type": "code",
   "execution_count": 53,
   "metadata": {},
   "outputs": [
    {
     "data": {
      "text/plain": [
       "0.0"
      ]
     },
     "execution_count": 53,
     "metadata": {},
     "output_type": "execute_result"
    }
   ],
   "source": [
    "p_value = np.sum(permutation_mean_replicates >= mean_diff)/len(permutation_mean_replicates)\n",
    "p_value"
   ]
  },
  {
   "cell_type": "code",
   "execution_count": 54,
   "metadata": {},
   "outputs": [
    {
     "data": {
      "image/png": "[encoded data removed]",
      "text/plain": [
       "<Figure size 720x360 with 1 Axes>"
      ]
     },
     "metadata": {
      "needs_background": "light"
     },
     "output_type": "display_data"
    }
   ],
   "source": [
    "_ = plt.figure(figsize=(10,5))\n",
    "_ = plt.hist(mean_diff, bins=25)\n",
    "_ = plt.hist(permutation_mean_replicates,bins=25,color='blue')\n",
    "_ = plt.ylabel('Number of Films')\n",
    "_ = plt.axvline(np.mean(permutation_mean_replicates), color='green')\n",
    "_ = plt.axvline(np.mean(mean_diff),color='red',linestyle='--')"
   ]
  }
 ],
 "metadata": {
  "kernelspec": {
   "display_name": "Python 3",
   "language": "python",
   "name": "python3"
  },
  "language_info": {
   "codemirror_mode": {
    "name": "ipython",
    "version": 3
   },
   "file_extension": ".py",
   "mimetype": "text/x-python",
   "name": "python",
   "nbconvert_exporter": "python",
   "pygments_lexer": "ipython3",
   "version": "3.7.4"
  }
 },
 "nbformat": 4,
 "nbformat_minor": 2
}
